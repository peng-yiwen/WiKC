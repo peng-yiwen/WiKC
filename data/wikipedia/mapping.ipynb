{
 "cells": [
  {
   "cell_type": "markdown",
   "metadata": {},
   "source": [
    "### Wikipedia mapping from sql file"
   ]
  },
  {
   "cell_type": "code",
   "execution_count": 33,
   "metadata": {},
   "outputs": [],
   "source": [
    "import re\n",
    "\n",
    "def parse_sql_file(file_path):\n",
    "    with open(file_path, 'r', encoding='utf-8') as file:\n",
    "        sql_content = file.read()\n",
    "\n",
    "    # Extract insert statements for wbc_entity_usage table\n",
    "    insert_statements = re.findall(r\"INSERT INTO `wbc_entity_usage` VALUES (.*?);\", sql_content, re.DOTALL)\n",
    "\n",
    "    mapping_data = {}\n",
    "    for statement in insert_statements:\n",
    "        # Remove the outer parentheses and split the values\n",
    "        values = statement.strip()[1:-1].split(\"),(\")\n",
    "        \n",
    "        for value in values:\n",
    "            # Split the values by comma\n",
    "            fields = value.split(\",\")\n",
    "            wikidataId = fields[1].strip(\"'\")\n",
    "            prop_aspect = fields[2].strip(\"'\") # only keep \"statement\"; 'D.en'\n",
    "\n",
    "            # if wikidataId == \"Q7930989\":\n",
    "            #     print(fields)\n",
    "            \n",
    "            if len(fields) == 4 and wikidataId.startswith('Q') and prop_aspect.startswith('D'):\n",
    "                wikipediaId = fields[3]\n",
    "                if wikidataId not in mapping_data:\n",
    "                    mapping_data[wikidataId] = wikipediaId\n",
    "    \n",
    "    return mapping_data\n"
   ]
  },
  {
   "cell_type": "code",
   "execution_count": 34,
   "metadata": {},
   "outputs": [
    {
     "name": "stdout",
     "output_type": "stream",
     "text": [
      "5821551\n"
     ]
    }
   ],
   "source": [
    "# Example usage\n",
    "file_path = 'enwiki-20240520-wbc_entity_usage.sql'\n",
    "mapping_data = parse_sql_file(file_path)\n",
    "print(len(mapping_data))"
   ]
  },
  {
   "cell_type": "code",
   "execution_count": 30,
   "metadata": {},
   "outputs": [],
   "source": [
    "wiki_name = 'frwiki'\n",
    "with open(wiki_name, 'w') as file:\n",
    "    for wikidataId, wikipediaId in mapping_data.items():\n",
    "        file.write(f\"{wikipediaId},{wikidataId},{wiki_name}\\n\")"
   ]
  },
  {
   "cell_type": "code",
   "execution_count": 17,
   "metadata": {},
   "outputs": [],
   "source": [
    "mapped_wiki_ents = set()\n",
    "with open('enwiki', 'r') as enwiki:\n",
    "    for line in enwiki:\n",
    "        qid = line.strip().split(',')[1]\n",
    "        mapped_wiki_ents.add(qid)"
   ]
  },
  {
   "cell_type": "code",
   "execution_count": null,
   "metadata": {},
   "outputs": [],
   "source": []
  }
 ],
 "metadata": {
  "kernelspec": {
   "display_name": "pytorch",
   "language": "python",
   "name": "python3"
  },
  "language_info": {
   "codemirror_mode": {
    "name": "ipython",
    "version": 3
   },
   "file_extension": ".py",
   "mimetype": "text/x-python",
   "name": "python",
   "nbconvert_exporter": "python",
   "pygments_lexer": "ipython3",
   "version": "3.10.10"
  }
 },
 "nbformat": 4,
 "nbformat_minor": 2
}
