{
 "cells": [
  {
   "cell_type": "markdown",
   "metadata": {},
   "source": [
    "### Refining using graph mining methods"
   ]
  },
  {
   "cell_type": "code",
   "execution_count": 2,
   "metadata": {},
   "outputs": [],
   "source": [
    "import os\n",
    "import copy\n",
    "import pandas as pd\n",
    "import networkx as nx\n",
    "from tqdm import tqdm\n",
    "from collections import defaultdict\n",
    "from utils import parse_output, load_label"
   ]
  },
  {
   "cell_type": "markdown",
   "metadata": {},
   "source": [
    "* load data"
   ]
  },
  {
   "cell_type": "code",
   "execution_count": 7,
   "metadata": {},
   "outputs": [
    {
     "name": "stdout",
     "output_type": "stream",
     "text": [
      "None: 3354, Percentage: 6.35%\n",
      "Irrelevant: 6741, Percentage: 12.76%\n",
      "Equivalent: 1364, Percentage: 2.58%\n",
      "Subclass: 39800, Percentage: 75.34%\n",
      "Inverse: 1567, Percentage: 2.97%\n"
     ]
    }
   ],
   "source": [
    "PATH = './results/rel_results.jsonl'\n",
    "import json\n",
    "\n",
    "llm_res = {'none': [], \n",
    "           'irrel': [], \n",
    "           'equiv': [], \n",
    "           'subcls': [], \n",
    "           'inverse': []}\n",
    "\n",
    "with open(PATH, 'r') as file:\n",
    "    for line in file:\n",
    "        block = json.loads(line.strip())\n",
    "        rels = tuple(block[\"cls_pairs\"]) # (parent, child)\n",
    "        ans = parse_output(block[\"answer\"])\n",
    "        if ans.startswith('['):\n",
    "            if ans == '[NONE]':\n",
    "                llm_res['none'].append(rels)\n",
    "            elif ans == '[IRREL]':\n",
    "                llm_res['irrel'].append(rels)\n",
    "            elif ans == '[EQUIV]':\n",
    "                llm_res['equiv'].append(rels)\n",
    "            elif ans == '[SUBCLS]':\n",
    "                llm_res['subcls'].append(rels)\n",
    "            elif ans == '[INVERSE]':\n",
    "                llm_res['inverse'].append(rels)\n",
    "            else:\n",
    "                raise ValueError(f\"Answer not valid: {ans}\")\n",
    "        else:\n",
    "            raise ValueError(f\"Answer not valid: {ans}\")\n",
    "\n",
    "# statistics\n",
    "total = len(llm_res['none']+llm_res['irrel']+llm_res['equiv']+llm_res['subcls']+llm_res['inverse'])\n",
    "print(f\"None: {len(llm_res['none'])}, Percentage: {len(llm_res['none'])/total*100:.2f}%\")\n",
    "print(f\"Irrelevant: {len(llm_res['irrel'])}, Percentage: {len(llm_res['irrel'])/total*100:.2f}%\")\n",
    "print(f\"Equivalent: {len(llm_res['equiv'])}, Percentage: {len(llm_res['equiv'])/total*100:.2f}%\")\n",
    "print(f\"Subclass: {len(llm_res['subcls'])}, Percentage: {len(llm_res['subcls'])/total*100:.2f}%\")\n",
    "print(f\"Inverse: {len(llm_res['inverse'])}, Percentage: {len(llm_res['inverse'])/total*100:.2f}%\")\n",
    "        "
   ]
  },
  {
   "cell_type": "markdown",
   "metadata": {},
   "source": [
    "* refinement using graph mining"
   ]
  },
  {
   "cell_type": "code",
   "execution_count": 24,
   "metadata": {},
   "outputs": [],
   "source": [
    "DATA_PATH = './data/wikidata/'\n",
    "GRAPH_PATH = './data/taxonomies/'\n",
    "root = 'wd:Q35120' # entity\n",
    "cls2label = load_label(DATA_PATH+'wiki_taxonomy_labels.tsv')"
   ]
  },
  {
   "cell_type": "code",
   "execution_count": 25,
   "metadata": {},
   "outputs": [
    {
     "name": "stdout",
     "output_type": "stream",
     "text": [
      "Is DAG? True\n",
      "Is connected? True\n",
      "Max Depth: 15\n",
      "Number of roots: 1\n",
      "Number of edges: 52826\n",
      "Number of nodes: 38261\n"
     ]
    },
    {
     "data": {
      "image/svg+xml": [
       "<svg xmlns=\"http://www.w3.org/2000/svg\" width=\"621.2218861258434\" height=\"340\">\n",
       "<defs><marker id=\"arrow-gray\" markerWidth=\"10\" markerHeight=\"10\" refX=\"9\" refY=\"3\" orient=\"auto\">\n",
       "<path d=\"M0,0 L0,6 L9,3 z\" fill=\"gray\"/></marker></defs>\n",
       "<path stroke-width=\"1\" stroke=\"gray\" d=\"M 405 320 419 282\" marker-end=\"url(#arrow-gray)\"/>\n",
       "<path stroke-width=\"1\" stroke=\"gray\" d=\"M 280 100 174 88\" marker-end=\"url(#arrow-gray)\"/>\n",
       "<path stroke-width=\"1\" stroke=\"gray\" d=\"M 410 75 343 57\" marker-end=\"url(#arrow-gray)\"/>\n",
       "<path stroke-width=\"1\" stroke=\"gray\" d=\"M 20 129 42 100\" marker-end=\"url(#arrow-gray)\"/>\n",
       "<path stroke-width=\"1\" stroke=\"gray\" d=\"M 70 72 53 88\" marker-end=\"url(#arrow-gray)\"/>\n",
       "<path stroke-width=\"1\" stroke=\"gray\" d=\"M 70 72 82 28\" marker-end=\"url(#arrow-gray)\"/>\n",
       "<path stroke-width=\"1\" stroke=\"gray\" d=\"M 120 139 25 129\" marker-end=\"url(#arrow-gray)\"/>\n",
       "<path stroke-width=\"1\" stroke=\"gray\" d=\"M 377 123 288 102\" marker-end=\"url(#arrow-gray)\"/>\n",
       "<path stroke-width=\"1\" stroke=\"gray\" d=\"M 120 139 73 76\" marker-end=\"url(#arrow-gray)\"/>\n",
       "<path stroke-width=\"1\" stroke=\"gray\" d=\"M 377 123 405 82\" marker-end=\"url(#arrow-gray)\"/>\n",
       "<path stroke-width=\"1\" stroke=\"gray\" d=\"M 367 187 377 128\" marker-end=\"url(#arrow-gray)\"/>\n",
       "<path stroke-width=\"1\" stroke=\"gray\" d=\"M 332 55 240 79\" marker-end=\"url(#arrow-gray)\"/>\n",
       "<path stroke-width=\"1\" stroke=\"gray\" d=\"M 163 87 218 82\" marker-end=\"url(#arrow-gray)\"/>\n",
       "<path stroke-width=\"1\" stroke=\"gray\" d=\"M 226 162 229 93\" marker-end=\"url(#arrow-gray)\"/>\n",
       "<path stroke-width=\"1\" stroke=\"gray\" d=\"M 169 28 221 74\" marker-end=\"url(#arrow-gray)\"/>\n",
       "<path stroke-width=\"1\" stroke=\"gray\" d=\"M 257 189 122 140\" marker-end=\"url(#arrow-gray)\"/>\n",
       "<path stroke-width=\"1\" stroke=\"gray\" d=\"M 395 247 368 189\" marker-end=\"url(#arrow-gray)\"/>\n",
       "<path stroke-width=\"1\" stroke=\"gray\" d=\"M 367 187 259 189\" marker-end=\"url(#arrow-gray)\"/>\n",
       "<path stroke-width=\"1\" stroke=\"gray\" d=\"M 350 237 259 190\" marker-end=\"url(#arrow-gray)\"/>\n",
       "<path stroke-width=\"1\" stroke=\"gray\" d=\"M 255 236 230 173\" marker-end=\"url(#arrow-gray)\"/>\n",
       "<path stroke-width=\"1\" stroke=\"gray\" d=\"M 337 285 262 240\" marker-end=\"url(#arrow-gray)\"/>\n",
       "<path stroke-width=\"1\" stroke=\"gray\" d=\"M 420 280 396 249\" marker-end=\"url(#arrow-gray)\"/>\n",
       "<path stroke-width=\"1\" stroke=\"gray\" d=\"M 337 285 393 248\" marker-end=\"url(#arrow-gray)\"/>\n",
       "<path stroke-width=\"1\" stroke=\"gray\" d=\"M 350 237 393 247\" marker-end=\"url(#arrow-gray)\"/>\n",
       "<path stroke-width=\"1\" stroke=\"gray\" d=\"M 420 280 352 238\" marker-end=\"url(#arrow-gray)\"/>\n",
       "<path stroke-width=\"1\" stroke=\"gray\" d=\"M 405 320 342 287\" marker-end=\"url(#arrow-gray)\"/>\n",
       "<path stroke-width=\"1\" stroke=\"gray\" d=\"M 47 93 152 87\" marker-end=\"url(#arrow-gray)\"/>\n",
       "<path stroke-width=\"1\" stroke=\"gray\" d=\"M 84 20 158 27\" marker-end=\"url(#arrow-gray)\"/>\n",
       "<circle cx=\"405\" cy=\"320\" r=\"3.0\" style=\"fill:rgb(170, 198, 253);stroke:black;stroke-width:1.0\"/>\n",
       "<circle cx=\"420\" cy=\"280\" r=\"3.0\" style=\"fill:rgb(58, 76, 192);stroke:black;stroke-width:1.0\"/>\n",
       "<circle cx=\"337\" cy=\"285\" r=\"6.0\" style=\"fill:rgb(219, 220, 222);stroke:black;stroke-width:1.0\"/>\n",
       "<circle cx=\"350\" cy=\"237\" r=\"3.0\" style=\"fill:rgb(58, 76, 192);stroke:black;stroke-width:1.0\"/>\n",
       "<circle cx=\"395\" cy=\"247\" r=\"3.0\" style=\"fill:rgb(109, 144, 241);stroke:black;stroke-width:1.0\"/>\n",
       "<circle cx=\"255\" cy=\"236\" r=\"9.0\" style=\"fill:rgb(246, 183, 156);stroke:black;stroke-width:1.0\"/>\n",
       "<circle cx=\"226\" cy=\"162\" r=\"12.0\" style=\"fill:rgb(231, 117, 92);stroke:black;stroke-width:1.0\"/>\n",
       "<circle cx=\"257\" cy=\"189\" r=\"3.0\" style=\"fill:rgb(109, 144, 241);stroke:black;stroke-width:1.0\"/>\n",
       "<circle cx=\"367\" cy=\"187\" r=\"3.0\" style=\"fill:rgb(170, 198, 253);stroke:black;stroke-width:1.0\"/>\n",
       "<circle cx=\"120\" cy=\"139\" r=\"3.0\" style=\"fill:rgb(170, 198, 253);stroke:black;stroke-width:1.0\"/>\n",
       "<circle cx=\"229\" cy=\"82\" r=\"12.0\" style=\"fill:rgb(179, 3, 38);stroke:black;stroke-width:1.0\"/>\n",
       "<circle cx=\"377\" cy=\"123\" r=\"6.0\" style=\"fill:rgb(219, 220, 222);stroke:black;stroke-width:1.0\"/>\n",
       "<circle cx=\"410\" cy=\"75\" r=\"9.0\" style=\"fill:rgb(246, 183, 156);stroke:black;stroke-width:1.0\"/>\n",
       "<circle cx=\"70\" cy=\"72\" r=\"6.0\" style=\"fill:rgb(219, 220, 222);stroke:black;stroke-width:1.0\"/>\n",
       "<circle cx=\"280\" cy=\"100\" r=\"9.0\" style=\"fill:rgb(246, 183, 156);stroke:black;stroke-width:1.0\"/>\n",
       "<circle cx=\"20\" cy=\"129\" r=\"6.0\" style=\"fill:rgb(219, 220, 222);stroke:black;stroke-width:1.0\"/>\n",
       "<circle cx=\"84\" cy=\"20\" r=\"9.0\" style=\"fill:rgb(246, 183, 156);stroke:black;stroke-width:1.0\"/>\n",
       "<circle cx=\"47\" cy=\"93\" r=\"9.0\" style=\"fill:rgb(246, 183, 156);stroke:black;stroke-width:1.0\"/>\n",
       "<circle cx=\"332\" cy=\"55\" r=\"12.0\" style=\"fill:rgb(231, 117, 92);stroke:black;stroke-width:1.0\"/>\n",
       "<circle cx=\"163\" cy=\"87\" r=\"12.0\" style=\"fill:rgb(231, 117, 92);stroke:black;stroke-width:1.0\"/>\n",
       "<circle cx=\"169\" cy=\"28\" r=\"12.0\" style=\"fill:rgb(231, 117, 92);stroke:black;stroke-width:1.0\"/>\n",
       "<text text-anchor=\"start\" x=\"411\" y=\"320\" font-size=\"8\">city or town</text><text text-anchor=\"start\" x=\"426\" y=\"280\" font-size=\"8\">urban settlement</text><text text-anchor=\"start\" x=\"346\" y=\"285\" font-size=\"8\">locality</text><text text-anchor=\"start\" x=\"356\" y=\"237\" font-size=\"8\">urban area</text><text text-anchor=\"start\" x=\"401\" y=\"247\" font-size=\"8\">human settlement</text><text text-anchor=\"start\" x=\"267\" y=\"236\" font-size=\"8\">section of populated place</text><text text-anchor=\"start\" x=\"241\" y=\"162\" font-size=\"8\">part (piece)</text><text text-anchor=\"start\" x=\"263\" y=\"189\" font-size=\"8\">geographic region</text><text text-anchor=\"start\" x=\"373\" y=\"187\" font-size=\"8\">populated place</text><text text-anchor=\"start\" x=\"126\" y=\"139\" font-size=\"8\">region of space</text><text text-anchor=\"start\" x=\"244\" y=\"82\" font-size=\"8\">entity</text><text text-anchor=\"start\" x=\"386\" y=\"123\" font-size=\"8\">artificial geographic entity</text><text text-anchor=\"start\" x=\"422\" y=\"75\" font-size=\"8\">geographic entity</text><text text-anchor=\"start\" x=\"79\" y=\"72\" font-size=\"8\">spatial entity</text><text text-anchor=\"start\" x=\"292\" y=\"100\" font-size=\"8\">artificial object</text><text text-anchor=\"start\" x=\"29\" y=\"129\" font-size=\"8\">spacetime region</text><text text-anchor=\"start\" x=\"96\" y=\"20\" font-size=\"8\">mathematical object</text><text text-anchor=\"start\" x=\"59\" y=\"93\" font-size=\"8\">spatio-temporal entity</text><text text-anchor=\"start\" x=\"347\" y=\"55\" font-size=\"8\">continuant</text><text text-anchor=\"start\" x=\"178\" y=\"87\" font-size=\"8\">object</text><text text-anchor=\"start\" x=\"184\" y=\"28\" font-size=\"8\">abstract entity</text></svg>"
      ],
      "text/plain": [
       "<IPython.core.display.SVG object>"
      ]
     },
     "metadata": {},
     "output_type": "display_data"
    }
   ],
   "source": [
    "# load taxonomy graph\n",
    "from graph_utils import bfs_edges_by_level\n",
    "from graph_utils import save_graph_checkpoint, draw_graph\n",
    "\n",
    "topwikitaxonUp = defaultdict(set)\n",
    "topWikitaxonDown = defaultdict(set)\n",
    "with open(DATA_PATH+'noisy_WiKC.tsv', 'r') as topreader:\n",
    "    for line in topreader:\n",
    "        triple = line.strip().split('\\t')\n",
    "        if len(triple) > 3:\n",
    "            child, parent = triple[0], triple[2]\n",
    "            topwikitaxonUp[child].add(parent)\n",
    "            topWikitaxonDown[parent].add(child)\n",
    "\n",
    "# Graph properties\n",
    "graph = nx.DiGraph(topWikitaxonDown)\n",
    "print(\"Is DAG?\", nx.is_directed_acyclic_graph(graph))\n",
    "print(\"Is connected?\", nx.is_weakly_connected(graph))\n",
    "print(\"Max Depth:\", max(nx.shortest_path_length(graph, source=root).values()))\n",
    "print(\"Number of roots:\", len([node for node in graph.nodes() if not list(graph.predecessors(node))]))\n",
    "print(\"Number of edges:\", graph.number_of_edges())\n",
    "print(\"Number of nodes:\", graph.number_of_nodes())\n",
    "# draw an extract\n",
    "save_graph_checkpoint(graph, GRAPH_PATH, 'original.tsv')\n",
    "city_or_town = 'wd:Q7930989'\n",
    "draw_graph(graph, city_or_town, cls2label)"
   ]
  },
  {
   "cell_type": "code",
   "execution_count": 10,
   "metadata": {},
   "outputs": [],
   "source": [
    "from data_mining_scripts.utils import load_taxonomy\n",
    "from data_mining_scripts.utils import cumulative_stats\n",
    "\n",
    "# load statistics\n",
    "cls_inst_count = pd.read_csv(DATA_PATH + 'cls_inst_count.txt', sep='\\t', header=None, names=['cls', 'count']).set_index('cls').to_dict()['count']\n",
    "_, oriwikiUp = load_taxonomy(DATA_PATH + \"wiki_taxonomy.tsv\")\n",
    "cum_cls_inst_stats = cumulative_stats(cls_inst_count, oriwikiUp)\n",
    "ori_cls_stats = defaultdict(int) # updated cls instance stats\n",
    "for node in graph.nodes():\n",
    "    if graph.out_degree(node) == 0:\n",
    "        # leaf node\n",
    "        ori_cls_stats[node] = cum_cls_inst_stats[node]\n",
    "    else:\n",
    "        if node in cls_inst_count:\n",
    "            ori_cls_stats[node] = cls_inst_count[node]"
   ]
  },
  {
   "cell_type": "markdown",
   "metadata": {},
   "source": [
    "* Cut"
   ]
  },
  {
   "cell_type": "code",
   "execution_count": 26,
   "metadata": {},
   "outputs": [
    {
     "name": "stderr",
     "output_type": "stream",
     "text": [
      "Current Step (1): Cut Strategy.: 100%|██████████| 52826/52826 [16:14<00:00, 54.23it/s]  \n"
     ]
    },
    {
     "data": {
      "image/svg+xml": [
       "<svg xmlns=\"http://www.w3.org/2000/svg\" width=\"548.567019537464\" height=\"340\">\n",
       "<defs><marker id=\"arrow-gray\" markerWidth=\"10\" markerHeight=\"10\" refX=\"9\" refY=\"3\" orient=\"auto\">\n",
       "<path d=\"M0,0 L0,6 L9,3 z\" fill=\"gray\"/></marker></defs>\n",
       "<path stroke-width=\"1\" stroke=\"gray\" d=\"M 134 320 98 271\" marker-end=\"url(#arrow-gray)\"/>\n",
       "<path stroke-width=\"1\" stroke=\"gray\" d=\"M 313 37 279 52\" marker-end=\"url(#arrow-gray)\"/>\n",
       "<path stroke-width=\"1\" stroke=\"gray\" d=\"M 89 21 170 20\" marker-end=\"url(#arrow-gray)\"/>\n",
       "<path stroke-width=\"1\" stroke=\"gray\" d=\"M 304 99 378 82\" marker-end=\"url(#arrow-gray)\"/>\n",
       "<path stroke-width=\"1\" stroke=\"gray\" d=\"M 304 99 312 45\" marker-end=\"url(#arrow-gray)\"/>\n",
       "<path stroke-width=\"1\" stroke=\"gray\" d=\"M 26 68 85 24\" marker-end=\"url(#arrow-gray)\"/>\n",
       "<path stroke-width=\"1\" stroke=\"gray\" d=\"M 420 113 357 128\" marker-end=\"url(#arrow-gray)\"/>\n",
       "<path stroke-width=\"1\" stroke=\"gray\" d=\"M 269 57 338 122\" marker-end=\"url(#arrow-gray)\"/>\n",
       "<path stroke-width=\"1\" stroke=\"gray\" d=\"M 338 215 345 141\" marker-end=\"url(#arrow-gray)\"/>\n",
       "<path stroke-width=\"1\" stroke=\"gray\" d=\"M 227 167 300 102\" marker-end=\"url(#arrow-gray)\"/>\n",
       "<path stroke-width=\"1\" stroke=\"gray\" d=\"M 20 141 26 70\" marker-end=\"url(#arrow-gray)\"/>\n",
       "<path stroke-width=\"1\" stroke=\"gray\" d=\"M 68 210 21 143\" marker-end=\"url(#arrow-gray)\"/>\n",
       "<path stroke-width=\"1\" stroke=\"gray\" d=\"M 283 276 330 223\" marker-end=\"url(#arrow-gray)\"/>\n",
       "<path stroke-width=\"1\" stroke=\"gray\" d=\"M 151 229 225 168\" marker-end=\"url(#arrow-gray)\"/>\n",
       "<path stroke-width=\"1\" stroke=\"gray\" d=\"M 97 269 149 230\" marker-end=\"url(#arrow-gray)\"/>\n",
       "<path stroke-width=\"1\" stroke=\"gray\" d=\"M 198 290 152 231\" marker-end=\"url(#arrow-gray)\"/>\n",
       "<path stroke-width=\"1\" stroke=\"gray\" d=\"M 68 210 149 229\" marker-end=\"url(#arrow-gray)\"/>\n",
       "<path stroke-width=\"1\" stroke=\"gray\" d=\"M 97 269 69 212\" marker-end=\"url(#arrow-gray)\"/>\n",
       "<path stroke-width=\"1\" stroke=\"gray\" d=\"M 198 290 275 277\" marker-end=\"url(#arrow-gray)\"/>\n",
       "<path stroke-width=\"1\" stroke=\"gray\" d=\"M 134 320 193 292\" marker-end=\"url(#arrow-gray)\"/>\n",
       "<path stroke-width=\"1\" stroke=\"gray\" d=\"M 178 20 258 53\" marker-end=\"url(#arrow-gray)\"/>\n",
       "<path stroke-width=\"1\" stroke=\"gray\" d=\"M 386 80 412 105\" marker-end=\"url(#arrow-gray)\"/>\n",
       "<circle cx=\"134\" cy=\"320\" r=\"3.0\" style=\"fill:rgb(170, 198, 253);stroke:black;stroke-width:1.0\"/>\n",
       "<circle cx=\"97\" cy=\"269\" r=\"3.0\" style=\"fill:rgb(58, 76, 192);stroke:black;stroke-width:1.0\"/>\n",
       "<circle cx=\"198\" cy=\"290\" r=\"6.0\" style=\"fill:rgb(219, 220, 222);stroke:black;stroke-width:1.0\"/>\n",
       "<circle cx=\"283\" cy=\"276\" r=\"9.0\" style=\"fill:rgb(246, 183, 156);stroke:black;stroke-width:1.0\"/>\n",
       "<circle cx=\"68\" cy=\"210\" r=\"3.0\" style=\"fill:rgb(58, 76, 192);stroke:black;stroke-width:1.0\"/>\n",
       "<circle cx=\"151\" cy=\"229\" r=\"3.0\" style=\"fill:rgb(109, 144, 241);stroke:black;stroke-width:1.0\"/>\n",
       "<circle cx=\"227\" cy=\"167\" r=\"3.0\" style=\"fill:rgb(170, 198, 253);stroke:black;stroke-width:1.0\"/>\n",
       "<circle cx=\"338\" cy=\"215\" r=\"12.0\" style=\"fill:rgb(231, 117, 92);stroke:black;stroke-width:1.0\"/>\n",
       "<circle cx=\"20\" cy=\"141\" r=\"3.0\" style=\"fill:rgb(109, 144, 241);stroke:black;stroke-width:1.0\"/>\n",
       "<circle cx=\"26\" cy=\"68\" r=\"3.0\" style=\"fill:rgb(170, 198, 253);stroke:black;stroke-width:1.0\"/>\n",
       "<circle cx=\"304\" cy=\"99\" r=\"6.0\" style=\"fill:rgb(219, 220, 222);stroke:black;stroke-width:1.0\"/>\n",
       "<circle cx=\"346\" cy=\"130\" r=\"12.0\" style=\"fill:rgb(179, 3, 38);stroke:black;stroke-width:1.0\"/>\n",
       "<circle cx=\"89\" cy=\"21\" r=\"6.0\" style=\"fill:rgb(219, 220, 222);stroke:black;stroke-width:1.0\"/>\n",
       "<circle cx=\"313\" cy=\"37\" r=\"9.0\" style=\"fill:rgb(246, 183, 156);stroke:black;stroke-width:1.0\"/>\n",
       "<circle cx=\"386\" cy=\"80\" r=\"9.0\" style=\"fill:rgb(246, 183, 156);stroke:black;stroke-width:1.0\"/>\n",
       "<circle cx=\"178\" cy=\"20\" r=\"9.0\" style=\"fill:rgb(246, 183, 156);stroke:black;stroke-width:1.0\"/>\n",
       "<circle cx=\"269\" cy=\"57\" r=\"12.0\" style=\"fill:rgb(231, 117, 92);stroke:black;stroke-width:1.0\"/>\n",
       "<circle cx=\"420\" cy=\"113\" r=\"12.0\" style=\"fill:rgb(231, 117, 92);stroke:black;stroke-width:1.0\"/>\n",
       "<text text-anchor=\"start\" x=\"140\" y=\"320\" font-size=\"8\">city or town</text><text text-anchor=\"start\" x=\"103\" y=\"269\" font-size=\"8\">urban settlement</text><text text-anchor=\"start\" x=\"207\" y=\"290\" font-size=\"8\">locality</text><text text-anchor=\"start\" x=\"295\" y=\"276\" font-size=\"8\">section of populated place</text><text text-anchor=\"start\" x=\"74\" y=\"210\" font-size=\"8\">urban area</text><text text-anchor=\"start\" x=\"157\" y=\"229\" font-size=\"8\">human settlement</text><text text-anchor=\"start\" x=\"233\" y=\"167\" font-size=\"8\">populated place</text><text text-anchor=\"start\" x=\"353\" y=\"215\" font-size=\"8\">part (piece)</text><text text-anchor=\"start\" x=\"26\" y=\"141\" font-size=\"8\">geographic region</text><text text-anchor=\"start\" x=\"32\" y=\"68\" font-size=\"8\">region of space</text><text text-anchor=\"start\" x=\"313\" y=\"99\" font-size=\"8\">artificial geographic entity</text><text text-anchor=\"start\" x=\"361\" y=\"130\" font-size=\"8\">entity</text><text text-anchor=\"start\" x=\"98\" y=\"21\" font-size=\"8\">spacetime region</text><text text-anchor=\"start\" x=\"325\" y=\"37\" font-size=\"8\">artificial object</text><text text-anchor=\"start\" x=\"398\" y=\"80\" font-size=\"8\">geographic entity</text><text text-anchor=\"start\" x=\"190\" y=\"20\" font-size=\"8\">spatio-temporal entity</text><text text-anchor=\"start\" x=\"284\" y=\"57\" font-size=\"8\">object</text><text text-anchor=\"start\" x=\"435\" y=\"113\" font-size=\"8\">continuant</text></svg>"
      ],
      "text/plain": [
       "<IPython.core.display.SVG object>"
      ]
     },
     "metadata": {},
     "output_type": "display_data"
    }
   ],
   "source": [
    "# Cut Strategy\n",
    "edges_del = set(llm_res['irrel'] + llm_res['none'])\n",
    "bfs_edges = bfs_edges_by_level(graph, 'wd:Q35120')\n",
    "for edge in tqdm(bfs_edges, desc='Current Step (1): Cut Strategy.'):\n",
    "    # Skip first-level classes\n",
    "    if edge[0] == root:\n",
    "        continue\n",
    "    \n",
    "    if graph.has_edge(edge[0], edge[1]) and (edge in edges_del):\n",
    "        if graph.in_degree(edge[1]) > 1:\n",
    "            # remove edge if child has multiple parents\n",
    "            graph.remove_edge(edge[0], edge[1])\n",
    "            continue\n",
    "        else:\n",
    "            graph.remove_edge(edge[0], edge[1])\n",
    "            if not nx.is_weakly_connected(graph):\n",
    "                components = list(nx.weakly_connected_components(graph))\n",
    "                assert len(components) == 2\n",
    "                if len(components[1]) < len(components[0]) and len(components[1]) < 4: \n",
    "                    # remove small subgraph with <= 3 nodes\n",
    "                    for node in components[1]:\n",
    "                        graph.remove_node(node)\n",
    "                    continue\n",
    "                graph.add_edge(edge[0], edge[1])\n",
    "            elif not nx.has_path(graph, root, edge[1]):\n",
    "                # weakly connected but having multiple roots\n",
    "                del_nodes_set = set()\n",
    "                for node in graph.nodes():\n",
    "                    if not nx.has_path(graph, root, node):\n",
    "                        del_nodes_set.add(node)\n",
    "                    if len(del_nodes_set) > 5:\n",
    "                        # no delete anymore\n",
    "                        graph.add_edge(edge[0], edge[1])\n",
    "                        break\n",
    "                # delete nodes which is root unreachable\n",
    "                if len(del_nodes_set) <= 5:\n",
    "                    for node in del_nodes_set:\n",
    "                        if graph.has_node(node):\n",
    "                            graph.remove_node(node)\n",
    "\n",
    "# save graph checkpoint\n",
    "save_graph_checkpoint(graph, GRAPH_PATH, 'cutting.tsv')\n",
    "# draw an extract\n",
    "city_or_town = 'wd:Q7930989'\n",
    "draw_graph(graph, city_or_town, cls2label)"
   ]
  },
  {
   "cell_type": "code",
   "execution_count": 27,
   "metadata": {},
   "outputs": [
    {
     "name": "stdout",
     "output_type": "stream",
     "text": [
      "Is DAG? True\n",
      "Is connected? True\n",
      "Max Depth: 19\n",
      "Number of roots: 1\n"
     ]
    },
    {
     "data": {
      "text/plain": [
       "(41360, 33020)"
      ]
     },
     "execution_count": 27,
     "metadata": {},
     "output_type": "execute_result"
    }
   ],
   "source": [
    "print(\"Is DAG?\", nx.is_directed_acyclic_graph(graph))\n",
    "print(\"Is connected?\", nx.is_weakly_connected(graph))\n",
    "print(\"Max Depth:\", max(nx.shortest_path_length(graph, source='wd:Q35120').values()))\n",
    "print(\"Number of roots:\", len([node for node in graph.nodes() if graph.in_degree(node) == 0]))\n",
    "graph.number_of_edges(), graph.number_of_nodes()"
   ]
  },
  {
   "cell_type": "markdown",
   "metadata": {},
   "source": [
    "* resolve"
   ]
  },
  {
   "cell_type": "code",
   "execution_count": 28,
   "metadata": {},
   "outputs": [
    {
     "name": "stderr",
     "output_type": "stream",
     "text": [
      "Current Step (2): Resolve Strategy.: 100%|██████████| 41360/41360 [01:37<00:00, 423.62it/s] \n"
     ]
    },
    {
     "data": {
      "image/svg+xml": [
       "<svg xmlns=\"http://www.w3.org/2000/svg\" width=\"560.8033098068661\" height=\"340\">\n",
       "<defs><marker id=\"arrow-gray\" markerWidth=\"10\" markerHeight=\"10\" refX=\"9\" refY=\"3\" orient=\"auto\">\n",
       "<path d=\"M0,0 L0,6 L9,3 z\" fill=\"gray\"/></marker></defs>\n",
       "<path stroke-width=\"1\" stroke=\"gray\" d=\"M 284 320 229 299\" marker-end=\"url(#arrow-gray)\"/>\n",
       "<path stroke-width=\"1\" stroke=\"gray\" d=\"M 21 90 20 52\" marker-end=\"url(#arrow-gray)\"/>\n",
       "<path stroke-width=\"1\" stroke=\"gray\" d=\"M 377 89 301 61\" marker-end=\"url(#arrow-gray)\"/>\n",
       "<path stroke-width=\"1\" stroke=\"gray\" d=\"M 290 57 190 48\" marker-end=\"url(#arrow-gray)\"/>\n",
       "<path stroke-width=\"1\" stroke=\"gray\" d=\"M 126 90 170 54\" marker-end=\"url(#arrow-gray)\"/>\n",
       "<path stroke-width=\"1\" stroke=\"gray\" d=\"M 88 135 119 99\" marker-end=\"url(#arrow-gray)\"/>\n",
       "<path stroke-width=\"1\" stroke=\"gray\" d=\"M 420 138 382 95\" marker-end=\"url(#arrow-gray)\"/>\n",
       "<path stroke-width=\"1\" stroke=\"gray\" d=\"M 88 135 30 96\" marker-end=\"url(#arrow-gray)\"/>\n",
       "<path stroke-width=\"1\" stroke=\"gray\" d=\"M 179 47 107 23\" marker-end=\"url(#arrow-gray)\"/>\n",
       "<path stroke-width=\"1\" stroke=\"gray\" d=\"M 150 196 94 141\" marker-end=\"url(#arrow-gray)\"/>\n",
       "<path stroke-width=\"1\" stroke=\"gray\" d=\"M 236 249 155 199\" marker-end=\"url(#arrow-gray)\"/>\n",
       "<path stroke-width=\"1\" stroke=\"gray\" d=\"M 337 238 402 192\" marker-end=\"url(#arrow-gray)\"/>\n",
       "<path stroke-width=\"1\" stroke=\"gray\" d=\"M 303 278 336 240\" marker-end=\"url(#arrow-gray)\"/>\n",
       "<path stroke-width=\"1\" stroke=\"gray\" d=\"M 303 278 238 250\" marker-end=\"url(#arrow-gray)\"/>\n",
       "<path stroke-width=\"1\" stroke=\"gray\" d=\"M 227 298 236 251\" marker-end=\"url(#arrow-gray)\"/>\n",
       "<path stroke-width=\"1\" stroke=\"gray\" d=\"M 337 238 238 249\" marker-end=\"url(#arrow-gray)\"/>\n",
       "<path stroke-width=\"1\" stroke=\"gray\" d=\"M 284 320 302 280\" marker-end=\"url(#arrow-gray)\"/>\n",
       "<path stroke-width=\"1\" stroke=\"gray\" d=\"M 404 191 419 143\" marker-end=\"url(#arrow-gray)\"/>\n",
       "<path stroke-width=\"1\" stroke=\"gray\" d=\"M 20 41 85 23\" marker-end=\"url(#arrow-gray)\"/>\n",
       "<circle cx=\"284\" cy=\"320\" r=\"3.0\" style=\"fill:rgb(58, 76, 192);stroke:black;stroke-width:1.0\"/>\n",
       "<circle cx=\"227\" cy=\"298\" r=\"3.0\" style=\"fill:rgb(103, 136, 237);stroke:black;stroke-width:1.0\"/>\n",
       "<circle cx=\"303\" cy=\"278\" r=\"3.0\" style=\"fill:rgb(103, 136, 237);stroke:black;stroke-width:1.0\"/>\n",
       "<circle cx=\"236\" cy=\"249\" r=\"3.0\" style=\"fill:rgb(152, 185, 254);stroke:black;stroke-width:1.0\"/>\n",
       "<circle cx=\"337\" cy=\"238\" r=\"3.0\" style=\"fill:rgb(103, 136, 237);stroke:black;stroke-width:1.0\"/>\n",
       "<circle cx=\"404\" cy=\"191\" r=\"3.0\" style=\"fill:rgb(152, 185, 254);stroke:black;stroke-width:1.0\"/>\n",
       "<circle cx=\"150\" cy=\"196\" r=\"6.0\" style=\"fill:rgb(199, 214, 240);stroke:black;stroke-width:1.0\"/>\n",
       "<circle cx=\"420\" cy=\"138\" r=\"6.0\" style=\"fill:rgb(199, 214, 240);stroke:black;stroke-width:1.0\"/>\n",
       "<circle cx=\"88\" cy=\"135\" r=\"9.0\" style=\"fill:rgb(236, 210, 196);stroke:black;stroke-width:1.0\"/>\n",
       "<circle cx=\"21\" cy=\"90\" r=\"12.0\" style=\"fill:rgb(246, 169, 138);stroke:black;stroke-width:1.0\"/>\n",
       "<circle cx=\"377\" cy=\"89\" r=\"9.0\" style=\"fill:rgb(236, 210, 196);stroke:black;stroke-width:1.0\"/>\n",
       "<circle cx=\"126\" cy=\"90\" r=\"12.0\" style=\"fill:rgb(246, 169, 138);stroke:black;stroke-width:1.0\"/>\n",
       "<circle cx=\"179\" cy=\"47\" r=\"12.0\" style=\"fill:rgb(227, 108, 84);stroke:black;stroke-width:1.0\"/>\n",
       "<circle cx=\"290\" cy=\"57\" r=\"12.0\" style=\"fill:rgb(246, 169, 138);stroke:black;stroke-width:1.0\"/>\n",
       "<circle cx=\"20\" cy=\"41\" r=\"12.0\" style=\"fill:rgb(227, 108, 84);stroke:black;stroke-width:1.0\"/>\n",
       "<circle cx=\"96\" cy=\"20\" r=\"12.0\" style=\"fill:rgb(179, 3, 38);stroke:black;stroke-width:1.0\"/>\n",
       "<text text-anchor=\"start\" x=\"290\" y=\"320\" font-size=\"8\">city or town</text><text text-anchor=\"start\" x=\"233\" y=\"298\" font-size=\"8\">locality</text><text text-anchor=\"start\" x=\"309\" y=\"278\" font-size=\"8\">urban settlement</text><text text-anchor=\"start\" x=\"242\" y=\"249\" font-size=\"8\">human settlement</text><text text-anchor=\"start\" x=\"343\" y=\"238\" font-size=\"8\">urban area</text><text text-anchor=\"start\" x=\"410\" y=\"191\" font-size=\"8\">geographic region</text><text text-anchor=\"start\" x=\"159\" y=\"196\" font-size=\"8\">populated place</text><text text-anchor=\"start\" x=\"429\" y=\"138\" font-size=\"8\">region of space</text><text text-anchor=\"start\" x=\"100\" y=\"135\" font-size=\"8\">artificial geographic entity</text><text text-anchor=\"start\" x=\"36\" y=\"90\" font-size=\"8\">geographic entity</text><text text-anchor=\"start\" x=\"389\" y=\"89\" font-size=\"8\">spacetime region</text><text text-anchor=\"start\" x=\"141\" y=\"90\" font-size=\"8\">artificial object</text><text text-anchor=\"start\" x=\"194\" y=\"47\" font-size=\"8\">object</text><text text-anchor=\"start\" x=\"305\" y=\"57\" font-size=\"8\">spatio-temporal entity</text><text text-anchor=\"start\" x=\"35\" y=\"41\" font-size=\"8\">continuant</text><text text-anchor=\"start\" x=\"111\" y=\"20\" font-size=\"8\">entity</text></svg>"
      ],
      "text/plain": [
       "<IPython.core.display.SVG object>"
      ]
     },
     "metadata": {},
     "output_type": "display_data"
    }
   ],
   "source": [
    "# Initialize a mapping dict\n",
    "mapping = defaultdict(set) # WiKC -> Wikidata\n",
    "# Resolve Strategy\n",
    "inverse_edges = set(llm_res['inverse'])\n",
    "bfs_edges = bfs_edges_by_level(graph, 'wd:Q35120')\n",
    "inv_del_edges = []\n",
    "for edge in tqdm(bfs_edges, desc='Current Step (2): Resolve Strategy.'):\n",
    "    parent, child = edge\n",
    "    if edge not in inverse_edges:\n",
    "        continue\n",
    "    if graph.has_edge(parent, child):\n",
    "        if graph.in_degree(child) > 1:\n",
    "            graph.remove_edge(parent, child) # cut edge\n",
    "            inv_del_edges.append(edge)\n",
    "        else: # merge child to parent (single parent)\n",
    "            for sc in graph.successors(child):\n",
    "                graph.add_edge(parent, sc)\n",
    "            graph.remove_node(child)\n",
    "            # save mapping\n",
    "            mapping[parent].add(child)\n",
    "    if not nx.is_weakly_connected(graph):\n",
    "        print('Not connected if remove edge:', edge)\n",
    "        break\n",
    "\n",
    "# save graph checkpoint\n",
    "save_graph_checkpoint(graph, GRAPH_PATH, 'resolving.tsv')\n",
    "# draw an extract\n",
    "city_or_town = 'wd:Q7930989'\n",
    "draw_graph(graph, city_or_town, cls2label)"
   ]
  },
  {
   "cell_type": "code",
   "execution_count": 29,
   "metadata": {},
   "outputs": [
    {
     "name": "stdout",
     "output_type": "stream",
     "text": [
      "Is DAG? True\n",
      "Is connected? True\n",
      "Max Depth: 15\n",
      "Number of roots: 1\n"
     ]
    },
    {
     "data": {
      "text/plain": [
       "(39877, 32197)"
      ]
     },
     "execution_count": 29,
     "metadata": {},
     "output_type": "execute_result"
    }
   ],
   "source": [
    "print(\"Is DAG?\", nx.is_directed_acyclic_graph(graph))\n",
    "print(\"Is connected?\", nx.is_weakly_connected(graph))\n",
    "print(\"Max Depth:\", max(nx.shortest_path_length(graph, source='wd:Q35120').values()))\n",
    "print(\"Number of roots:\", len([node for node in graph.nodes() if graph.in_degree(node) == 0]))\n",
    "graph.number_of_edges(), graph.number_of_nodes()"
   ]
  },
  {
   "cell_type": "markdown",
   "metadata": {},
   "source": [
    "* reduce"
   ]
  },
  {
   "cell_type": "code",
   "execution_count": 30,
   "metadata": {},
   "outputs": [
    {
     "data": {
      "image/svg+xml": [
       "<svg xmlns=\"http://www.w3.org/2000/svg\" width=\"545.5798782237807\" height=\"340\">\n",
       "<defs><marker id=\"arrow-gray\" markerWidth=\"10\" markerHeight=\"10\" refX=\"9\" refY=\"3\" orient=\"auto\">\n",
       "<path d=\"M0,0 L0,6 L9,3 z\" fill=\"gray\"/></marker></defs>\n",
       "<path stroke-width=\"1\" stroke=\"gray\" d=\"M 20 20 74 21\" marker-end=\"url(#arrow-gray)\"/>\n",
       "<path stroke-width=\"1\" stroke=\"gray\" d=\"M 374 124 412 165\" marker-end=\"url(#arrow-gray)\"/>\n",
       "<path stroke-width=\"1\" stroke=\"gray\" d=\"M 196 320 260 313\" marker-end=\"url(#arrow-gray)\"/>\n",
       "<path stroke-width=\"1\" stroke=\"gray\" d=\"M 271 312 326 269\" marker-end=\"url(#arrow-gray)\"/>\n",
       "<path stroke-width=\"1\" stroke=\"gray\" d=\"M 320 191 333 251\" marker-end=\"url(#arrow-gray)\"/>\n",
       "<path stroke-width=\"1\" stroke=\"gray\" d=\"M 301 118 317 180\" marker-end=\"url(#arrow-gray)\"/>\n",
       "<path stroke-width=\"1\" stroke=\"gray\" d=\"M 130 283 189 316\" marker-end=\"url(#arrow-gray)\"/>\n",
       "<path stroke-width=\"1\" stroke=\"gray\" d=\"M 301 118 363 124\" marker-end=\"url(#arrow-gray)\"/>\n",
       "<path stroke-width=\"1\" stroke=\"gray\" d=\"M 216 84 293 115\" marker-end=\"url(#arrow-gray)\"/>\n",
       "<path stroke-width=\"1\" stroke=\"gray\" d=\"M 88 213 127 278\" marker-end=\"url(#arrow-gray)\"/>\n",
       "<path stroke-width=\"1\" stroke=\"gray\" d=\"M 130 72 211 84\" marker-end=\"url(#arrow-gray)\"/>\n",
       "<path stroke-width=\"1\" stroke=\"gray\" d=\"M 73 127 88 211\" marker-end=\"url(#arrow-gray)\"/>\n",
       "<path stroke-width=\"1\" stroke=\"gray\" d=\"M 21 79 71 125\" marker-end=\"url(#arrow-gray)\"/>\n",
       "<path stroke-width=\"1\" stroke=\"gray\" d=\"M 76 21 128 70\" marker-end=\"url(#arrow-gray)\"/>\n",
       "<path stroke-width=\"1\" stroke=\"gray\" d=\"M 73 127 128 74\" marker-end=\"url(#arrow-gray)\"/>\n",
       "<path stroke-width=\"1\" stroke=\"gray\" d=\"M 20 20 21 77\" marker-end=\"url(#arrow-gray)\"/>\n",
       "<path stroke-width=\"1\" stroke=\"gray\" d=\"M 335 262 390 241\" marker-end=\"url(#arrow-gray)\"/>\n",
       "<path stroke-width=\"1\" stroke=\"gray\" d=\"M 420 173 404 226\" marker-end=\"url(#arrow-gray)\"/>\n",
       "<circle cx=\"20\" cy=\"20\" r=\"3.0\" style=\"fill:rgb(58, 76, 192);stroke:black;stroke-width:1.0\"/>\n",
       "<circle cx=\"76\" cy=\"21\" r=\"3.0\" style=\"fill:rgb(103, 136, 237);stroke:black;stroke-width:1.0\"/>\n",
       "<circle cx=\"21\" cy=\"79\" r=\"3.0\" style=\"fill:rgb(58, 76, 192);stroke:black;stroke-width:1.0\"/>\n",
       "<circle cx=\"130\" cy=\"72\" r=\"3.0\" style=\"fill:rgb(152, 185, 254);stroke:black;stroke-width:1.0\"/>\n",
       "<circle cx=\"73\" cy=\"127\" r=\"3.0\" style=\"fill:rgb(103, 136, 237);stroke:black;stroke-width:1.0\"/>\n",
       "<circle cx=\"88\" cy=\"213\" r=\"3.0\" style=\"fill:rgb(152, 185, 254);stroke:black;stroke-width:1.0\"/>\n",
       "<circle cx=\"216\" cy=\"84\" r=\"6.0\" style=\"fill:rgb(199, 214, 240);stroke:black;stroke-width:1.0\"/>\n",
       "<circle cx=\"130\" cy=\"283\" r=\"6.0\" style=\"fill:rgb(199, 214, 240);stroke:black;stroke-width:1.0\"/>\n",
       "<circle cx=\"301\" cy=\"118\" r=\"9.0\" style=\"fill:rgb(236, 210, 196);stroke:black;stroke-width:1.0\"/>\n",
       "<circle cx=\"374\" cy=\"124\" r=\"12.0\" style=\"fill:rgb(246, 169, 138);stroke:black;stroke-width:1.0\"/>\n",
       "<circle cx=\"196\" cy=\"320\" r=\"9.0\" style=\"fill:rgb(236, 210, 196);stroke:black;stroke-width:1.0\"/>\n",
       "<circle cx=\"320\" cy=\"191\" r=\"12.0\" style=\"fill:rgb(246, 169, 138);stroke:black;stroke-width:1.0\"/>\n",
       "<circle cx=\"335\" cy=\"262\" r=\"12.0\" style=\"fill:rgb(227, 108, 84);stroke:black;stroke-width:1.0\"/>\n",
       "<circle cx=\"271\" cy=\"312\" r=\"12.0\" style=\"fill:rgb(246, 169, 138);stroke:black;stroke-width:1.0\"/>\n",
       "<circle cx=\"420\" cy=\"173\" r=\"12.0\" style=\"fill:rgb(227, 108, 84);stroke:black;stroke-width:1.0\"/>\n",
       "<circle cx=\"401\" cy=\"237\" r=\"12.0\" style=\"fill:rgb(179, 3, 38);stroke:black;stroke-width:1.0\"/>\n",
       "<text text-anchor=\"start\" x=\"26\" y=\"20\" font-size=\"8\">city or town</text><text text-anchor=\"start\" x=\"82\" y=\"21\" font-size=\"8\">locality</text><text text-anchor=\"start\" x=\"27\" y=\"79\" font-size=\"8\">urban settlement</text><text text-anchor=\"start\" x=\"136\" y=\"72\" font-size=\"8\">human settlement</text><text text-anchor=\"start\" x=\"79\" y=\"127\" font-size=\"8\">urban area</text><text text-anchor=\"start\" x=\"94\" y=\"213\" font-size=\"8\">geographic region</text><text text-anchor=\"start\" x=\"225\" y=\"84\" font-size=\"8\">populated place</text><text text-anchor=\"start\" x=\"139\" y=\"283\" font-size=\"8\">region of space</text><text text-anchor=\"start\" x=\"313\" y=\"118\" font-size=\"8\">artificial geographic entity</text><text text-anchor=\"start\" x=\"389\" y=\"124\" font-size=\"8\">geographic entity</text><text text-anchor=\"start\" x=\"208\" y=\"320\" font-size=\"8\">spacetime region</text><text text-anchor=\"start\" x=\"335\" y=\"191\" font-size=\"8\">artificial object</text><text text-anchor=\"start\" x=\"350\" y=\"262\" font-size=\"8\">object</text><text text-anchor=\"start\" x=\"286\" y=\"312\" font-size=\"8\">spatio-temporal entity</text><text text-anchor=\"start\" x=\"435\" y=\"173\" font-size=\"8\">continuant</text><text text-anchor=\"start\" x=\"416\" y=\"237\" font-size=\"8\">entity</text></svg>"
      ],
      "text/plain": [
       "<IPython.core.display.SVG object>"
      ]
     },
     "metadata": {},
     "output_type": "display_data"
    }
   ],
   "source": [
    "# Post-processing after cutting and resolving\n",
    "graph = nx.transitive_reduction(graph)\n",
    "# save graph checkpoint\n",
    "save_graph_checkpoint(graph, GRAPH_PATH, 'reducing.tsv')\n",
    "# draw an extract\n",
    "city_or_town = 'wd:Q7930989'\n",
    "draw_graph(graph, city_or_town, cls2label)"
   ]
  },
  {
   "cell_type": "code",
   "execution_count": 31,
   "metadata": {},
   "outputs": [
    {
     "name": "stdout",
     "output_type": "stream",
     "text": [
      "Is DAG? True\n",
      "Is connected? True\n",
      "Max Depth: 21\n",
      "Number of roots: 1\n"
     ]
    },
    {
     "data": {
      "text/plain": [
       "(37528, 32197)"
      ]
     },
     "execution_count": 31,
     "metadata": {},
     "output_type": "execute_result"
    }
   ],
   "source": [
    "print(\"Is DAG?\", nx.is_directed_acyclic_graph(graph))\n",
    "print(\"Is connected?\", nx.is_weakly_connected(graph))\n",
    "print(\"Max Depth:\", max(nx.shortest_path_length(graph, source='wd:Q35120').values()))\n",
    "print(\"Number of roots:\", len([node for node in graph.nodes() if graph.in_degree(node) == 0]))\n",
    "graph.number_of_edges(), graph.number_of_nodes()"
   ]
  },
  {
   "cell_type": "markdown",
   "metadata": {},
   "source": [
    "* merge"
   ]
  },
  {
   "cell_type": "code",
   "execution_count": 32,
   "metadata": {},
   "outputs": [
    {
     "name": "stderr",
     "output_type": "stream",
     "text": [
      "Current Step (4): Merge Strategy.: 100%|██████████| 37528/37528 [18:16<00:00, 34.24it/s]  \n"
     ]
    },
    {
     "data": {
      "image/svg+xml": [
       "<svg xmlns=\"http://www.w3.org/2000/svg\" width=\"544.1910382078827\" height=\"340\">\n",
       "<defs><marker id=\"arrow-gray\" markerWidth=\"10\" markerHeight=\"10\" refX=\"9\" refY=\"3\" orient=\"auto\">\n",
       "<path d=\"M0,0 L0,6 L9,3 z\" fill=\"gray\"/></marker></defs>\n",
       "<path stroke-width=\"1\" stroke=\"gray\" d=\"M 420 320 397 269\" marker-end=\"url(#arrow-gray)\"/>\n",
       "<path stroke-width=\"1\" stroke=\"gray\" d=\"M 396 267 354 208\" marker-end=\"url(#arrow-gray)\"/>\n",
       "<path stroke-width=\"1\" stroke=\"gray\" d=\"M 353 206 286 226\" marker-end=\"url(#arrow-gray)\"/>\n",
       "<path stroke-width=\"1\" stroke=\"gray\" d=\"M 353 206 355 132\" marker-end=\"url(#arrow-gray)\"/>\n",
       "<path stroke-width=\"1\" stroke=\"gray\" d=\"M 281 227 211 225\" marker-end=\"url(#arrow-gray)\"/>\n",
       "<path stroke-width=\"1\" stroke=\"gray\" d=\"M 355 127 325 66\" marker-end=\"url(#arrow-gray)\"/>\n",
       "<path stroke-width=\"1\" stroke=\"gray\" d=\"M 203 225 139 199\" marker-end=\"url(#arrow-gray)\"/>\n",
       "<path stroke-width=\"1\" stroke=\"gray\" d=\"M 322 58 269 26\" marker-end=\"url(#arrow-gray)\"/>\n",
       "<path stroke-width=\"1\" stroke=\"gray\" d=\"M 259 20 194 22\" marker-end=\"url(#arrow-gray)\"/>\n",
       "<path stroke-width=\"1\" stroke=\"gray\" d=\"M 128 195 119 140\" marker-end=\"url(#arrow-gray)\"/>\n",
       "<path stroke-width=\"1\" stroke=\"gray\" d=\"M 128 195 68 191\" marker-end=\"url(#arrow-gray)\"/>\n",
       "<path stroke-width=\"1\" stroke=\"gray\" d=\"M 118 129 114 74\" marker-end=\"url(#arrow-gray)\"/>\n",
       "<path stroke-width=\"1\" stroke=\"gray\" d=\"M 183 22 124 57\" marker-end=\"url(#arrow-gray)\"/>\n",
       "<path stroke-width=\"1\" stroke=\"gray\" d=\"M 57 191 27 152\" marker-end=\"url(#arrow-gray)\"/>\n",
       "<path stroke-width=\"1\" stroke=\"gray\" d=\"M 114 63 57 83\" marker-end=\"url(#arrow-gray)\"/>\n",
       "<path stroke-width=\"1\" stroke=\"gray\" d=\"M 20 143 41 96\" marker-end=\"url(#arrow-gray)\"/>\n",
       "<circle cx=\"420\" cy=\"320\" r=\"3.0\" style=\"fill:rgb(58, 76, 192);stroke:black;stroke-width:1.0\"/>\n",
       "<circle cx=\"396\" cy=\"267\" r=\"3.0\" style=\"fill:rgb(96, 128, 232);stroke:black;stroke-width:1.0\"/>\n",
       "<circle cx=\"353\" cy=\"206\" r=\"3.0\" style=\"fill:rgb(138, 173, 253);stroke:black;stroke-width:1.0\"/>\n",
       "<circle cx=\"281\" cy=\"227\" r=\"6.0\" style=\"fill:rgb(183, 207, 249);stroke:black;stroke-width:1.0\"/>\n",
       "<circle cx=\"355\" cy=\"127\" r=\"6.0\" style=\"fill:rgb(183, 207, 249);stroke:black;stroke-width:1.0\"/>\n",
       "<circle cx=\"203\" cy=\"225\" r=\"9.0\" style=\"fill:rgb(219, 220, 222);stroke:black;stroke-width:1.0\"/>\n",
       "<circle cx=\"322\" cy=\"58\" r=\"9.0\" style=\"fill:rgb(219, 220, 222);stroke:black;stroke-width:1.0\"/>\n",
       "<circle cx=\"128\" cy=\"195\" r=\"12.0\" style=\"fill:rgb(243, 198, 176);stroke:black;stroke-width:1.0\"/>\n",
       "<circle cx=\"259\" cy=\"20\" r=\"12.0\" style=\"fill:rgb(243, 198, 176);stroke:black;stroke-width:1.0\"/>\n",
       "<circle cx=\"183\" cy=\"22\" r=\"12.0\" style=\"fill:rgb(244, 154, 123);stroke:black;stroke-width:1.0\"/>\n",
       "<circle cx=\"118\" cy=\"129\" r=\"12.0\" style=\"fill:rgb(244, 154, 123);stroke:black;stroke-width:1.0\"/>\n",
       "<circle cx=\"57\" cy=\"191\" r=\"12.0\" style=\"fill:rgb(244, 154, 123);stroke:black;stroke-width:1.0\"/>\n",
       "<circle cx=\"114\" cy=\"63\" r=\"12.0\" style=\"fill:rgb(222, 98, 78);stroke:black;stroke-width:1.0\"/>\n",
       "<circle cx=\"20\" cy=\"143\" r=\"12.0\" style=\"fill:rgb(222, 98, 78);stroke:black;stroke-width:1.0\"/>\n",
       "<circle cx=\"46\" cy=\"86\" r=\"12.0\" style=\"fill:rgb(179, 3, 38);stroke:black;stroke-width:1.0\"/>\n",
       "<text text-anchor=\"start\" x=\"426\" y=\"320\" font-size=\"8\">city or town</text><text text-anchor=\"start\" x=\"402\" y=\"267\" font-size=\"8\">urban settlement</text><text text-anchor=\"start\" x=\"359\" y=\"206\" font-size=\"8\">urban area</text><text text-anchor=\"start\" x=\"290\" y=\"227\" font-size=\"8\">human settlement</text><text text-anchor=\"start\" x=\"364\" y=\"127\" font-size=\"8\">geographic region</text><text text-anchor=\"start\" x=\"215\" y=\"225\" font-size=\"8\">populated place</text><text text-anchor=\"start\" x=\"334\" y=\"58\" font-size=\"8\">region of space</text><text text-anchor=\"start\" x=\"143\" y=\"195\" font-size=\"8\">artificial geographic entity</text><text text-anchor=\"start\" x=\"274\" y=\"20\" font-size=\"8\">spacetime region</text><text text-anchor=\"start\" x=\"198\" y=\"22\" font-size=\"8\">spatio-temporal entity</text><text text-anchor=\"start\" x=\"133\" y=\"129\" font-size=\"8\">artificial object</text><text text-anchor=\"start\" x=\"72\" y=\"191\" font-size=\"8\">geographic entity</text><text text-anchor=\"start\" x=\"129\" y=\"63\" font-size=\"8\">object</text><text text-anchor=\"start\" x=\"35\" y=\"143\" font-size=\"8\">continuant</text><text text-anchor=\"start\" x=\"61\" y=\"86\" font-size=\"8\">entity</text></svg>"
      ],
      "text/plain": [
       "<IPython.core.display.SVG object>"
      ]
     },
     "metadata": {},
     "output_type": "display_data"
    }
   ],
   "source": [
    "# exact match + equivalent edges\n",
    "exact_match_edges = []\n",
    "for edge in graph.edges():\n",
    "    parent, child = cls2label[edge[0]], cls2label[edge[1]]\n",
    "    if parent.lower() == child.lower():\n",
    "        exact_match_edges.append(edge)\n",
    "equiv_edges = set(llm_res['equiv'] + exact_match_edges)\n",
    "\n",
    "# Merge Strategy\n",
    "mergemap = {} # child -> parent merge map\n",
    "relinkedParentTo = set() # reprompt edges\n",
    "bfs_edges = bfs_edges_by_level(graph, root)\n",
    "for edge in tqdm(bfs_edges, desc='Current Step (4): Merge Strategy.'):\n",
    "    # we won't merge the first-level classes\n",
    "    # e.g. entity -> object\n",
    "    if edge[0] == root:\n",
    "        continue\n",
    "    # we won't consider continuous merge\n",
    "    if not graph.has_edge(edge[0], edge[1]):\n",
    "        continue\n",
    "    if edge in set(equiv_edges):\n",
    "        cur = edge[1]\n",
    "        mergeTo = edge[0]\n",
    "        # find the first valid parent, avoid already merged parent\n",
    "        while mergeTo in mergemap:\n",
    "            mergeTo = mergemap[mergeTo]\n",
    "        for sc in graph.successors(cur):\n",
    "            graph.add_edge(mergeTo, sc)\n",
    "        for pc in graph.predecessors(cur):\n",
    "            # avoid duplicates and contradiction\n",
    "            if nx.has_path(graph, source=pc, target=mergeTo) or \\\n",
    "                nx.has_path(graph, source=mergeTo, target=pc):\n",
    "                continue\n",
    "            if pc == edge[0]:\n",
    "                continue\n",
    "            if graph.has_node(pc) and graph.has_node(mergeTo):\n",
    "                relinkedParentTo.add(tuple([pc, mergeTo]))\n",
    "        # delete current node\n",
    "        mergemap[cur] = mergeTo\n",
    "        mapping[mergeTo].add(cur) # save mapping WiKC -> Wikidata\n",
    "        graph.remove_node(cur)\n",
    "        # transitive reduction\n",
    "        graph = nx.transitive_reduction(graph)\n",
    "\n",
    "\n",
    "# save graph checkpoint\n",
    "save_graph_checkpoint(graph, GRAPH_PATH, 'merging.tsv')\n",
    "# draw an extract\n",
    "city_or_town = 'wd:Q7930989'\n",
    "draw_graph(graph, city_or_town, cls2label)"
   ]
  },
  {
   "cell_type": "code",
   "execution_count": 33,
   "metadata": {},
   "outputs": [],
   "source": [
    "# save the WiKC -> Wikidata mapping to a file\n",
    "for node in graph.nodes():\n",
    "    mapping[node].add(node)\n",
    "with open('./data/wikc_wikidata_mapping.tsv', 'w') as file:\n",
    "    for k in mapping.keys():\n",
    "        for cls in mapping[k]:\n",
    "            file.write(f\"{k}\\t{cls}\\n\")"
   ]
  },
  {
   "cell_type": "markdown",
   "metadata": {},
   "source": [
    "* rewire"
   ]
  },
  {
   "cell_type": "code",
   "execution_count": 39,
   "metadata": {},
   "outputs": [
    {
     "name": "stdout",
     "output_type": "stream",
     "text": [
      "Number of edges to be reprompted: 281\n",
      "Number of edges to be rewired: 125\n"
     ]
    },
    {
     "name": "stderr",
     "output_type": "stream",
     "text": [
      "Current Step (5): Rewire Strategy.: 100%|██████████| 125/125 [00:00<00:00, 226768.17it/s]\n"
     ]
    },
    {
     "data": {
      "image/svg+xml": [
       "<svg xmlns=\"http://www.w3.org/2000/svg\" width=\"631.1765446230316\" height=\"340\">\n",
       "<defs><marker id=\"arrow-gray\" markerWidth=\"10\" markerHeight=\"10\" refX=\"9\" refY=\"3\" orient=\"auto\">\n",
       "<path d=\"M0,0 L0,6 L9,3 z\" fill=\"gray\"/></marker></defs>\n",
       "<path stroke-width=\"1\" stroke=\"gray\" d=\"M 335 276 339 318\" marker-end=\"url(#arrow-gray)\"/>\n",
       "<path stroke-width=\"1\" stroke=\"gray\" d=\"M 339 320 273 314\" marker-end=\"url(#arrow-gray)\"/>\n",
       "<path stroke-width=\"1\" stroke=\"gray\" d=\"M 271 314 383 274\" marker-end=\"url(#arrow-gray)\"/>\n",
       "<path stroke-width=\"1\" stroke=\"gray\" d=\"M 271 314 148 313\" marker-end=\"url(#arrow-gray)\"/>\n",
       "<path stroke-width=\"1\" stroke=\"gray\" d=\"M 388 273 417 210\" marker-end=\"url(#arrow-gray)\"/>\n",
       "<path stroke-width=\"1\" stroke=\"gray\" d=\"M 143 313 55 276\" marker-end=\"url(#arrow-gray)\"/>\n",
       "<path stroke-width=\"1\" stroke=\"gray\" d=\"M 420 202 391 137\" marker-end=\"url(#arrow-gray)\"/>\n",
       "<path stroke-width=\"1\" stroke=\"gray\" d=\"M 47 273 24 218\" marker-end=\"url(#arrow-gray)\"/>\n",
       "<path stroke-width=\"1\" stroke=\"gray\" d=\"M 20 207 60 150\" marker-end=\"url(#arrow-gray)\"/>\n",
       "<path stroke-width=\"1\" stroke=\"gray\" d=\"M 387 127 288 109\" marker-end=\"url(#arrow-gray)\"/>\n",
       "<path stroke-width=\"1\" stroke=\"gray\" d=\"M 387 127 395 72\" marker-end=\"url(#arrow-gray)\"/>\n",
       "<path stroke-width=\"1\" stroke=\"gray\" d=\"M 277 107 178 92\" marker-end=\"url(#arrow-gray)\"/>\n",
       "<path stroke-width=\"1\" stroke=\"gray\" d=\"M 66 141 157 96\" marker-end=\"url(#arrow-gray)\"/>\n",
       "<path stroke-width=\"1\" stroke=\"gray\" d=\"M 396 61 335 26\" marker-end=\"url(#arrow-gray)\"/>\n",
       "<path stroke-width=\"1\" stroke=\"gray\" d=\"M 167 91 216 42\" marker-end=\"url(#arrow-gray)\"/>\n",
       "<path stroke-width=\"1\" stroke=\"gray\" d=\"M 325 20 235 33\" marker-end=\"url(#arrow-gray)\"/>\n",
       "<circle cx=\"335\" cy=\"276\" r=\"3.0\" style=\"fill:rgb(58, 76, 192);stroke:black;stroke-width:1.0\"/>\n",
       "<circle cx=\"339\" cy=\"320\" r=\"3.0\" style=\"fill:rgb(96, 128, 232);stroke:black;stroke-width:1.0\"/>\n",
       "<circle cx=\"271\" cy=\"314\" r=\"3.0\" style=\"fill:rgb(138, 173, 253);stroke:black;stroke-width:1.0\"/>\n",
       "<circle cx=\"388\" cy=\"273\" r=\"6.0\" style=\"fill:rgb(183, 207, 249);stroke:black;stroke-width:1.0\"/>\n",
       "<circle cx=\"143\" cy=\"313\" r=\"6.0\" style=\"fill:rgb(183, 207, 249);stroke:black;stroke-width:1.0\"/>\n",
       "<circle cx=\"420\" cy=\"202\" r=\"9.0\" style=\"fill:rgb(219, 220, 222);stroke:black;stroke-width:1.0\"/>\n",
       "<circle cx=\"47\" cy=\"273\" r=\"9.0\" style=\"fill:rgb(219, 220, 222);stroke:black;stroke-width:1.0\"/>\n",
       "<circle cx=\"387\" cy=\"127\" r=\"12.0\" style=\"fill:rgb(243, 198, 176);stroke:black;stroke-width:1.0\"/>\n",
       "<circle cx=\"20\" cy=\"207\" r=\"12.0\" style=\"fill:rgb(243, 198, 176);stroke:black;stroke-width:1.0\"/>\n",
       "<circle cx=\"66\" cy=\"141\" r=\"12.0\" style=\"fill:rgb(244, 154, 123);stroke:black;stroke-width:1.0\"/>\n",
       "<circle cx=\"277\" cy=\"107\" r=\"12.0\" style=\"fill:rgb(244, 154, 123);stroke:black;stroke-width:1.0\"/>\n",
       "<circle cx=\"396\" cy=\"61\" r=\"12.0\" style=\"fill:rgb(244, 154, 123);stroke:black;stroke-width:1.0\"/>\n",
       "<circle cx=\"167\" cy=\"91\" r=\"12.0\" style=\"fill:rgb(222, 98, 78);stroke:black;stroke-width:1.0\"/>\n",
       "<circle cx=\"325\" cy=\"20\" r=\"12.0\" style=\"fill:rgb(222, 98, 78);stroke:black;stroke-width:1.0\"/>\n",
       "<circle cx=\"224\" cy=\"34\" r=\"12.0\" style=\"fill:rgb(179, 3, 38);stroke:black;stroke-width:1.0\"/>\n",
       "<text text-anchor=\"start\" x=\"341\" y=\"276\" font-size=\"8\">city or town</text><text text-anchor=\"start\" x=\"345\" y=\"320\" font-size=\"8\">urban settlement</text><text text-anchor=\"start\" x=\"277\" y=\"314\" font-size=\"8\">urban area</text><text text-anchor=\"start\" x=\"397\" y=\"273\" font-size=\"8\">human settlement</text><text text-anchor=\"start\" x=\"152\" y=\"313\" font-size=\"8\">geographic region</text><text text-anchor=\"start\" x=\"432\" y=\"202\" font-size=\"8\">populated place</text><text text-anchor=\"start\" x=\"59\" y=\"273\" font-size=\"8\">region of space</text><text text-anchor=\"start\" x=\"402\" y=\"127\" font-size=\"8\">artificial geographic entity</text><text text-anchor=\"start\" x=\"35\" y=\"207\" font-size=\"8\">spacetime region</text><text text-anchor=\"start\" x=\"81\" y=\"141\" font-size=\"8\">spatio-temporal entity</text><text text-anchor=\"start\" x=\"292\" y=\"107\" font-size=\"8\">artificial object</text><text text-anchor=\"start\" x=\"411\" y=\"61\" font-size=\"8\">geographic entity</text><text text-anchor=\"start\" x=\"182\" y=\"91\" font-size=\"8\">object</text><text text-anchor=\"start\" x=\"340\" y=\"20\" font-size=\"8\">continuant</text><text text-anchor=\"start\" x=\"239\" y=\"34\" font-size=\"8\">entity</text></svg>"
      ],
      "text/plain": [
       "<IPython.core.display.SVG object>"
      ]
     },
     "metadata": {},
     "output_type": "display_data"
    }
   ],
   "source": [
    "# Rewire Strategy\n",
    "print('Number of edges to be reprompted:', len(relinkedParentTo)) # (parent, child)\n",
    "# save reprompted edges\n",
    "with open('./data/reprompt_edges.tsv', 'w') as file:\n",
    "    for edge in relinkedParentTo:\n",
    "        parent, child = edge\n",
    "        file.write(f\"{child}\\trdfs:subClassOf\\t{parent}\\t.\\n\")\n",
    "\n",
    "# Then run the reprompt.py for the reprompting results\n",
    "# !python reprompt.py\n",
    "\n",
    "# check if results exist\n",
    "if not os.path.exists('./results/reprompt.jsonl'):\n",
    "    raise FileNotFoundError('Please reprompt on LLM firstly.')\n",
    "\n",
    "# get reprompt results\n",
    "torelink_edges = [] # (parent, child) pairs\n",
    "with open('./results/reprompt.jsonl', 'r') as file:\n",
    "    for line in file:\n",
    "        block = json.loads(line.strip())\n",
    "        rels = tuple(block[\"cls_pairs\"])\n",
    "        ans = parse_output(block[\"answer\"])\n",
    "        if ans.startswith('['):\n",
    "            if ans == '[SUBCLS]':\n",
    "                torelink_edges.append(rels)\n",
    "        else:\n",
    "            raise ValueError(f\"Answer not valid: {ans}\")\n",
    "\n",
    "print('Number of edges to be rewired:', len(torelink_edges))\n",
    "\n",
    "# relink only [SUBCLS] edges\n",
    "for edge in tqdm(torelink_edges, desc='Current Step (5): Rewire Strategy.'):\n",
    "    parent, child = edge\n",
    "    if graph.has_node(parent) and graph.has_node(child):\n",
    "        if graph.has_edge(parent, child):\n",
    "            continue\n",
    "        graph.add_edge(parent, child)\n",
    "graph = nx.transitive_reduction(graph)\n",
    "\n",
    "# save graph checkpoint\n",
    "save_graph_checkpoint(graph, GRAPH_PATH, 'rewiring.tsv')\n",
    "# draw an extract\n",
    "city_or_town = 'wd:Q7930989'\n",
    "draw_graph(graph, city_or_town, cls2label)"
   ]
  },
  {
   "cell_type": "code",
   "execution_count": 91,
   "metadata": {},
   "outputs": [
    {
     "name": "stdout",
     "output_type": "stream",
     "text": [
      "Is DAG? True\n",
      "Is connected? True\n",
      "Max Depth: 21\n",
      "Number of roots: 1\n"
     ]
    },
    {
     "data": {
      "text/plain": [
       "(35918, 30949)"
      ]
     },
     "execution_count": 91,
     "metadata": {},
     "output_type": "execute_result"
    }
   ],
   "source": [
    "print(\"Is DAG?\", nx.is_directed_acyclic_graph(graph))\n",
    "print(\"Is connected?\", nx.is_weakly_connected(graph))\n",
    "print(\"Max Depth:\", max(nx.shortest_path_length(graph, source='wd:Q35120').values()))\n",
    "print(\"Number of roots:\", len([node for node in graph.nodes() if graph.in_degree(node) == 0]))\n",
    "graph.number_of_edges(), graph.number_of_nodes()"
   ]
  },
  {
   "cell_type": "markdown",
   "metadata": {},
   "source": [
    "* filter"
   ]
  },
  {
   "cell_type": "code",
   "execution_count": 97,
   "metadata": {},
   "outputs": [
    {
     "name": "stderr",
     "output_type": "stream",
     "text": [
      "Retyping: 100%|██████████| 34647/34647 [00:00<00:00, 147167.59it/s]\n",
      "Current Step (6)-1: Filter classes without cumulative instances.: 100%|██████████| 30949/30949 [00:00<00:00, 716162.77it/s]"
     ]
    },
    {
     "name": "stdout",
     "output_type": "stream",
     "text": [
      "Removed 6487 classes with at most one instance.\n"
     ]
    },
    {
     "name": "stderr",
     "output_type": "stream",
     "text": [
      "\n"
     ]
    }
   ],
   "source": [
    "# Filter Strategy\n",
    "# rare classes\n",
    "from itertools import permutations\n",
    "invalid_edges = set(inv_del_edges).union(edges_del)\n",
    "def _get_valid_ancestors(ori_graph, ancestors, cls, cur_graph):\n",
    "    for sp in ori_graph.predecessors(cls):\n",
    "        # path should not include deleted edges\n",
    "        if tuple([sp, cls]) in invalid_edges:\n",
    "            continue\n",
    "        if cur_graph.has_node(sp):\n",
    "            ancestors.add(sp)\n",
    "            continue\n",
    "        _get_valid_ancestors(ori_graph, ancestors, sp, cur_graph)\n",
    "\n",
    "def _get_first_ancestors(ori_graph, cls, cur_graph):\n",
    "    ancestors = set()\n",
    "    _get_valid_ancestors(ori_graph, ancestors, cls, cur_graph)\n",
    "    return ancestors\n",
    "\n",
    "\n",
    "# Instance filtering\n",
    "oriwikiDown, _ = load_taxonomy(DATA_PATH + \"wiki_taxonomy.tsv\")\n",
    "ori_wiki = nx.DiGraph(oriwikiDown)\n",
    "cls_inst_stats = defaultdict(int)\n",
    "# retyping instances\n",
    "for cls in tqdm(ori_cls_stats.keys(), desc='Retyping'):\n",
    "    if graph.has_node(cls):\n",
    "        cls_inst_stats[cls] += ori_cls_stats[cls]\n",
    "        continue\n",
    "    ancestors = list(_get_first_ancestors(ori_wiki, cls, graph))\n",
    "    if len(ancestors) == 1:\n",
    "        cls_inst_stats[ancestors[0]] += ori_cls_stats[cls]\n",
    "        continue\n",
    "    if len(ancestors) > 0:\n",
    "        # remove transitive parents\n",
    "        valcls = ancestors.copy()\n",
    "        for (node1,node2) in permutations(ancestors, 2):\n",
    "            if node1 not in valcls or node2 not in valcls:\n",
    "                continue\n",
    "            if nx.has_path(graph, node1, node2):\n",
    "                valcls.remove(node1)\n",
    "        for c in valcls:\n",
    "            cls_inst_stats[c] += ori_cls_stats[cls]\n",
    "# filtering\n",
    "cum_stats = cumulative_stats(cls_inst_stats, nx.to_dict_of_lists(graph.reverse()))\n",
    "nodes = list(graph.nodes())\n",
    "longtail_count = 0\n",
    "for cls in tqdm(nodes, desc='Current Step (6)-1: Filter classes without cumulative instances.'):\n",
    "    if cum_stats[cls] < 2:\n",
    "        # remove classes with at most one instance\n",
    "        graph.remove_node(cls)\n",
    "        longtail_count += 1\n",
    "print(f\"Removed {longtail_count} classes with at most one instance.\")"
   ]
  },
  {
   "cell_type": "code",
   "execution_count": 98,
   "metadata": {},
   "outputs": [
    {
     "name": "stderr",
     "output_type": "stream",
     "text": [
      "Current Step (6)-2: Filter specific top-level classes.: 100%|██████████| 21/21 [00:00<00:00, 138057.03it/s]\n"
     ]
    },
    {
     "name": "stdout",
     "output_type": "stream",
     "text": [
      "Current number of top classes: 17\n"
     ]
    },
    {
     "name": "stderr",
     "output_type": "stream",
     "text": [
      "Current Step (6)-3: Filter non-informative classes.: 100%|██████████| 913/913 [00:00<00:00, 61783.44it/s]\n",
      "Current Step (6)-3: Filter non-informative classes.: 100%|██████████| 20/20 [00:00<00:00, 52461.59it/s]\n"
     ]
    }
   ],
   "source": [
    "# specific top-level classes\n",
    "topcls = list(graph.successors(root))\n",
    "for cls in tqdm(topcls, desc='Current Step (6)-2: Filter specific top-level classes.'):\n",
    "    redundancy = True\n",
    "    for child in graph.successors(cls):\n",
    "        parents = set(graph.predecessors(child)) - set(topcls)\n",
    "        if len(parents) == 0:\n",
    "            redundancy = False\n",
    "            break\n",
    "    if redundancy:\n",
    "        graph.remove_node(cls) # remove top-level class\n",
    "print(\"Current number of top classes:\", graph.out_degree(root))\n",
    "\n",
    "# non-informative classes\n",
    "from graph_utils import find_non_informative_cls\n",
    "non_info_cls = find_non_informative_cls(graph, ori_cls_stats)\n",
    "while len(non_info_cls) > 0:\n",
    "    # remove non-informative classes recursively\n",
    "    for node in tqdm(non_info_cls, desc='Current Step (6)-3: Filter non-informative classes.'):\n",
    "        parent = list(graph.predecessors(node))[0]\n",
    "        child = list(graph.successors(node))[0]\n",
    "        graph.remove_node(node)\n",
    "        if not nx.has_path(graph, parent, child):\n",
    "            graph.add_edge(parent, child)\n",
    "    non_info_cls = find_non_informative_cls(graph, ori_cls_stats)\n",
    "graph = nx.transitive_reduction(graph)"
   ]
  },
  {
   "cell_type": "code",
   "execution_count": 99,
   "metadata": {},
   "outputs": [
    {
     "name": "stderr",
     "output_type": "stream",
     "text": [
      "Current Step (6)-4: Filter classes without a Wikipedia page: 100%|██████████| 16581/16581 [00:00<00:00, 270249.57it/s]\n"
     ]
    }
   ],
   "source": [
    "# Filter classes without a Wikipedia page\n",
    "mapped_wiki_ents = set()\n",
    "wikipedia_lists = ['enwiki', 'frwiki', 'dewiki', 'zhwiki', 'arwiki'] # 5 different lanugages\n",
    "for wikifile in wikipedia_lists:\n",
    "    with open(os.path.join('./data/wikipedia', wikifile), 'r') as file:\n",
    "        for line in file:\n",
    "            qid = line.strip().split(',')[1]\n",
    "            prefix_qid = 'wd:'+str(qid)\n",
    "            if graph.has_node(prefix_qid):\n",
    "                mapped_wiki_ents.add(prefix_qid)\n",
    "# enrich mapped set with classes (depth <= 3)\n",
    "top3cls = nx.single_source_shortest_path_length(graph, source=root, cutoff=3).keys()\n",
    "mapped_wiki_ents.update(top3cls)\n",
    "\n",
    "# rebuild graph based on mapped wiki classes\n",
    "def _get_mapped_ancestors(digraph, ancestors, cls):\n",
    "    for sp in digraph.predecessors(cls):\n",
    "        if sp in mapped_wiki_ents:\n",
    "            ancestors.add(sp)\n",
    "            continue\n",
    "        _get_mapped_ancestors(digraph, ancestors, sp)\n",
    "\n",
    "def _get_first_ancestors_for_rebuild(digraph, cls):\n",
    "    ancestors = set()\n",
    "    _get_mapped_ancestors(digraph, ancestors, cls)\n",
    "    return ancestors\n",
    "\n",
    "wikc = nx.DiGraph()\n",
    "for node in mapped_wiki_ents:\n",
    "    wikc.add_node(node)\n",
    "for node in tqdm(mapped_wiki_ents, desc='Current Step (6)-4: Filter classes without a Wikipedia page'):\n",
    "    ancestors = list(_get_first_ancestors_for_rebuild(graph, node))\n",
    "    for ancestor in ancestors:\n",
    "        wikc.add_edge(ancestor, node) # parent -> child\n",
    "wikc = nx.transitive_reduction(wikc)\n",
    "graph = copy.deepcopy(wikc) # update"
   ]
  },
  {
   "cell_type": "code",
   "execution_count": 102,
   "metadata": {},
   "outputs": [
    {
     "name": "stdout",
     "output_type": "stream",
     "text": [
      "Is DAG? True\n",
      "Is connected? True\n",
      "Max Depth: 13\n",
      "Number of roots: 1\n",
      "Number of top level classes: 16\n"
     ]
    },
    {
     "data": {
      "text/plain": [
       "(19622, 16581)"
      ]
     },
     "execution_count": 102,
     "metadata": {},
     "output_type": "execute_result"
    }
   ],
   "source": [
    "print(\"Is DAG?\", nx.is_directed_acyclic_graph(graph))\n",
    "print(\"Is connected?\", nx.is_weakly_connected(graph))\n",
    "print(\"Max Depth:\", max(nx.shortest_path_length(graph, source='wd:Q35120').values()))\n",
    "print(\"Number of roots:\", len([node for node in graph.nodes() if graph.in_degree(node) == 0]))\n",
    "print(\"Number of top level classes:\", graph.out_degree(root))\n",
    "graph.number_of_edges(), graph.number_of_nodes()"
   ]
  },
  {
   "cell_type": "code",
   "execution_count": 104,
   "metadata": {},
   "outputs": [
    {
     "data": {
      "image/svg+xml": [
       "<svg xmlns=\"http://www.w3.org/2000/svg\" width=\"536.0\" height=\"340\">\n",
       "<defs><marker id=\"arrow-gray\" markerWidth=\"10\" markerHeight=\"10\" refX=\"9\" refY=\"3\" orient=\"auto\">\n",
       "<path d=\"M0,0 L0,6 L9,3 z\" fill=\"gray\"/></marker></defs>\n",
       "<path stroke-width=\"1\" stroke=\"gray\" d=\"M 420 320 356 265\" marker-end=\"url(#arrow-gray)\"/>\n",
       "<path stroke-width=\"1\" stroke=\"gray\" d=\"M 354 264 258 285\" marker-end=\"url(#arrow-gray)\"/>\n",
       "<path stroke-width=\"1\" stroke=\"gray\" d=\"M 354 264 365 166\" marker-end=\"url(#arrow-gray)\"/>\n",
       "<path stroke-width=\"1\" stroke=\"gray\" d=\"M 256 285 163 257\" marker-end=\"url(#arrow-gray)\"/>\n",
       "<path stroke-width=\"1\" stroke=\"gray\" d=\"M 365 164 325 78\" marker-end=\"url(#arrow-gray)\"/>\n",
       "<path stroke-width=\"1\" stroke=\"gray\" d=\"M 158 256 91 185\" marker-end=\"url(#arrow-gray)\"/>\n",
       "<path stroke-width=\"1\" stroke=\"gray\" d=\"M 323 73 246 24\" marker-end=\"url(#arrow-gray)\"/>\n",
       "<path stroke-width=\"1\" stroke=\"gray\" d=\"M 85 179 104 104\" marker-end=\"url(#arrow-gray)\"/>\n",
       "<path stroke-width=\"1\" stroke=\"gray\" d=\"M 85 179 28 119\" marker-end=\"url(#arrow-gray)\"/>\n",
       "<path stroke-width=\"1\" stroke=\"gray\" d=\"M 239 20 148 22\" marker-end=\"url(#arrow-gray)\"/>\n",
       "<path stroke-width=\"1\" stroke=\"gray\" d=\"M 106 96 133 33\" marker-end=\"url(#arrow-gray)\"/>\n",
       "<path stroke-width=\"1\" stroke=\"gray\" d=\"M 137 22 58 29\" marker-end=\"url(#arrow-gray)\"/>\n",
       "<path stroke-width=\"1\" stroke=\"gray\" d=\"M 20 111 44 41\" marker-end=\"url(#arrow-gray)\"/>\n",
       "<circle cx=\"420\" cy=\"320\" r=\"3.0\" style=\"fill:rgb(58, 76, 192);stroke:black;stroke-width:1.0\"/>\n",
       "<circle cx=\"354\" cy=\"264\" r=\"3.0\" style=\"fill:rgb(109, 144, 241);stroke:black;stroke-width:1.0\"/>\n",
       "<circle cx=\"256\" cy=\"285\" r=\"3.0\" style=\"fill:rgb(170, 198, 253);stroke:black;stroke-width:1.0\"/>\n",
       "<circle cx=\"365\" cy=\"164\" r=\"3.0\" style=\"fill:rgb(170, 198, 253);stroke:black;stroke-width:1.0\"/>\n",
       "<circle cx=\"158\" cy=\"256\" r=\"6.0\" style=\"fill:rgb(219, 220, 222);stroke:black;stroke-width:1.0\"/>\n",
       "<circle cx=\"323\" cy=\"73\" r=\"6.0\" style=\"fill:rgb(219, 220, 222);stroke:black;stroke-width:1.0\"/>\n",
       "<circle cx=\"85\" cy=\"179\" r=\"9.0\" style=\"fill:rgb(246, 183, 156);stroke:black;stroke-width:1.0\"/>\n",
       "<circle cx=\"239\" cy=\"20\" r=\"9.0\" style=\"fill:rgb(246, 183, 156);stroke:black;stroke-width:1.0\"/>\n",
       "<circle cx=\"106\" cy=\"96\" r=\"9.0\" style=\"fill:rgb(246, 183, 156);stroke:black;stroke-width:1.0\"/>\n",
       "<circle cx=\"20\" cy=\"111\" r=\"12.0\" style=\"fill:rgb(231, 117, 92);stroke:black;stroke-width:1.0\"/>\n",
       "<circle cx=\"137\" cy=\"22\" r=\"12.0\" style=\"fill:rgb(231, 117, 92);stroke:black;stroke-width:1.0\"/>\n",
       "<circle cx=\"47\" cy=\"30\" r=\"12.0\" style=\"fill:rgb(179, 3, 38);stroke:black;stroke-width:1.0\"/>\n",
       "<text text-anchor=\"start\" x=\"426\" y=\"320\" font-size=\"8\">city or town</text><text text-anchor=\"start\" x=\"360\" y=\"264\" font-size=\"8\">urban area</text><text text-anchor=\"start\" x=\"262\" y=\"285\" font-size=\"8\">human settlement</text><text text-anchor=\"start\" x=\"371\" y=\"164\" font-size=\"8\">geographic region</text><text text-anchor=\"start\" x=\"167\" y=\"256\" font-size=\"8\">populated place</text><text text-anchor=\"start\" x=\"332\" y=\"73\" font-size=\"8\">region of space</text><text text-anchor=\"start\" x=\"97\" y=\"179\" font-size=\"8\">artificial geographic entity</text><text text-anchor=\"start\" x=\"251\" y=\"20\" font-size=\"8\">spatio-temporal entity</text><text text-anchor=\"start\" x=\"118\" y=\"96\" font-size=\"8\">artificial object</text><text text-anchor=\"start\" x=\"35\" y=\"111\" font-size=\"8\">geographic entity</text><text text-anchor=\"start\" x=\"152\" y=\"22\" font-size=\"8\">object</text><text text-anchor=\"start\" x=\"62\" y=\"30\" font-size=\"8\">entity</text></svg>"
      ],
      "text/plain": [
       "<IPython.core.display.SVG object>"
      ]
     },
     "metadata": {},
     "output_type": "display_data"
    }
   ],
   "source": [
    "# save graph checkpoint\n",
    "save_graph_checkpoint(graph, GRAPH_PATH, 'final.tsv')\n",
    "# draw an extract\n",
    "city_or_town = 'wd:Q7930989'\n",
    "draw_graph(graph, city_or_town, cls2label)"
   ]
  },
  {
   "cell_type": "markdown",
   "metadata": {},
   "source": [
    "* Visualize some important paths"
   ]
  },
  {
   "cell_type": "code",
   "execution_count": 70,
   "metadata": {},
   "outputs": [
    {
     "data": {
      "image/svg+xml": [
       "<svg xmlns=\"http://www.w3.org/2000/svg\" width=\"488.0\" height=\"340\">\n",
       "<defs><marker id=\"arrow-gray\" markerWidth=\"10\" markerHeight=\"10\" refX=\"9\" refY=\"3\" orient=\"auto\">\n",
       "<path d=\"M0,0 L0,6 L9,3 z\" fill=\"gray\"/></marker></defs>\n",
       "<path stroke-width=\"1\" stroke=\"gray\" d=\"M 20 20 110 88\" marker-end=\"url(#arrow-gray)\"/>\n",
       "<path stroke-width=\"1\" stroke=\"gray\" d=\"M 112 89 222 168\" marker-end=\"url(#arrow-gray)\"/>\n",
       "<path stroke-width=\"1\" stroke=\"gray\" d=\"M 224 169 320 246\" marker-end=\"url(#arrow-gray)\"/>\n",
       "<path stroke-width=\"1\" stroke=\"gray\" d=\"M 325 250 411 313\" marker-end=\"url(#arrow-gray)\"/>\n",
       "<circle cx=\"20\" cy=\"20\" r=\"3.0\" style=\"fill:rgb(58, 76, 192);stroke:black;stroke-width:1.0\"/>\n",
       "<circle cx=\"112\" cy=\"89\" r=\"3.0\" style=\"fill:rgb(138, 173, 253);stroke:black;stroke-width:1.0\"/>\n",
       "<circle cx=\"224\" cy=\"169\" r=\"3.0\" style=\"fill:rgb(219, 220, 222);stroke:black;stroke-width:1.0\"/>\n",
       "<circle cx=\"325\" cy=\"250\" r=\"7.5\" style=\"fill:rgb(244, 154, 123);stroke:black;stroke-width:1.0\"/>\n",
       "<circle cx=\"420\" cy=\"320\" r=\"12.0\" style=\"fill:rgb(179, 3, 38);stroke:black;stroke-width:1.0\"/>\n",
       "<text text-anchor=\"start\" x=\"26\" y=\"20\" font-size=\"8\">person</text><text text-anchor=\"start\" x=\"118\" y=\"89\" font-size=\"8\">person or organization</text><text text-anchor=\"start\" x=\"230\" y=\"169\" font-size=\"8\">corporate body</text><text text-anchor=\"start\" x=\"336\" y=\"250\" font-size=\"8\">object</text><text text-anchor=\"start\" x=\"435\" y=\"320\" font-size=\"8\">entity</text></svg>"
      ],
      "text/plain": [
       "<IPython.core.display.SVG object>"
      ]
     },
     "metadata": {},
     "output_type": "display_data"
    }
   ],
   "source": [
    "person = 'wd:Q215627'\n",
    "draw_graph(graph, person, cls2label)"
   ]
  },
  {
   "cell_type": "code",
   "execution_count": 75,
   "metadata": {},
   "outputs": [
    {
     "data": {
      "image/svg+xml": [
       "<svg xmlns=\"http://www.w3.org/2000/svg\" width=\"536.0\" height=\"340\">\n",
       "<defs><marker id=\"arrow-gray\" markerWidth=\"10\" markerHeight=\"10\" refX=\"9\" refY=\"3\" orient=\"auto\">\n",
       "<path d=\"M0,0 L0,6 L9,3 z\" fill=\"gray\"/></marker></defs>\n",
       "<path stroke-width=\"1\" stroke=\"gray\" d=\"M 419 127 366 181\" marker-end=\"url(#arrow-gray)\"/>\n",
       "<path stroke-width=\"1\" stroke=\"gray\" d=\"M 419 127 420 41\" marker-end=\"url(#arrow-gray)\"/>\n",
       "<path stroke-width=\"1\" stroke=\"gray\" d=\"M 364 183 297 183\" marker-end=\"url(#arrow-gray)\"/>\n",
       "<path stroke-width=\"1\" stroke=\"gray\" d=\"M 316 86 293 178\" marker-end=\"url(#arrow-gray)\"/>\n",
       "<path stroke-width=\"1\" stroke=\"gray\" d=\"M 420 39 365 21\" marker-end=\"url(#arrow-gray)\"/>\n",
       "<path stroke-width=\"1\" stroke=\"gray\" d=\"M 363 20 317 84\" marker-end=\"url(#arrow-gray)\"/>\n",
       "<path stroke-width=\"1\" stroke=\"gray\" d=\"M 292 183 224 238\" marker-end=\"url(#arrow-gray)\"/>\n",
       "<path stroke-width=\"1\" stroke=\"gray\" d=\"M 218 243 155 278\" marker-end=\"url(#arrow-gray)\"/>\n",
       "<path stroke-width=\"1\" stroke=\"gray\" d=\"M 145 283 88 304\" marker-end=\"url(#arrow-gray)\"/>\n",
       "<path stroke-width=\"1\" stroke=\"gray\" d=\"M 77 308 31 318\" marker-end=\"url(#arrow-gray)\"/>\n",
       "<circle cx=\"419\" cy=\"127\" r=\"3.0\" style=\"fill:rgb(103, 136, 237);stroke:black;stroke-width:1.0\"/>\n",
       "<circle cx=\"364\" cy=\"183\" r=\"3.0\" style=\"fill:rgb(152, 185, 254);stroke:black;stroke-width:1.0\"/>\n",
       "<circle cx=\"420\" cy=\"39\" r=\"3.0\" style=\"fill:rgb(58, 76, 192);stroke:black;stroke-width:1.0\"/>\n",
       "<circle cx=\"292\" cy=\"183\" r=\"6.0\" style=\"fill:rgb(199, 214, 240);stroke:black;stroke-width:1.0\"/>\n",
       "<circle cx=\"363\" cy=\"20\" r=\"3.0\" style=\"fill:rgb(103, 136, 237);stroke:black;stroke-width:1.0\"/>\n",
       "<circle cx=\"316\" cy=\"86\" r=\"3.0\" style=\"fill:rgb(152, 185, 254);stroke:black;stroke-width:1.0\"/>\n",
       "<circle cx=\"218\" cy=\"243\" r=\"9.0\" style=\"fill:rgb(236, 210, 196);stroke:black;stroke-width:1.0\"/>\n",
       "<circle cx=\"145\" cy=\"283\" r=\"12.0\" style=\"fill:rgb(246, 169, 138);stroke:black;stroke-width:1.0\"/>\n",
       "<circle cx=\"77\" cy=\"308\" r=\"12.0\" style=\"fill:rgb(227, 108, 84);stroke:black;stroke-width:1.0\"/>\n",
       "<circle cx=\"20\" cy=\"320\" r=\"12.0\" style=\"fill:rgb(179, 3, 38);stroke:black;stroke-width:1.0\"/>\n",
       "<text text-anchor=\"start\" x=\"425\" y=\"127\" font-size=\"8\">film</text><text text-anchor=\"start\" x=\"370\" y=\"183\" font-size=\"8\">audiovisual work</text><text text-anchor=\"start\" x=\"426\" y=\"39\" font-size=\"8\">moving image</text><text text-anchor=\"start\" x=\"301\" y=\"183\" font-size=\"8\">creative work</text><text text-anchor=\"start\" x=\"369\" y=\"20\" font-size=\"8\">visual artwork</text><text text-anchor=\"start\" x=\"322\" y=\"86\" font-size=\"8\">work of art</text><text text-anchor=\"start\" x=\"230\" y=\"243\" font-size=\"8\">work</text><text text-anchor=\"start\" x=\"160\" y=\"283\" font-size=\"8\">artificial object</text><text text-anchor=\"start\" x=\"92\" y=\"308\" font-size=\"8\">object</text><text text-anchor=\"start\" x=\"35\" y=\"320\" font-size=\"8\">entity</text></svg>"
      ],
      "text/plain": [
       "<IPython.core.display.SVG object>"
      ]
     },
     "metadata": {},
     "output_type": "display_data"
    }
   ],
   "source": [
    "film = 'wd:Q11424'\n",
    "draw_graph(graph, film, cls2label)"
   ]
  },
  {
   "cell_type": "code",
   "execution_count": 74,
   "metadata": {},
   "outputs": [
    {
     "data": {
      "image/svg+xml": [
       "<svg xmlns=\"http://www.w3.org/2000/svg\" width=\"616.5636906865011\" height=\"340\">\n",
       "<defs><marker id=\"arrow-gray\" markerWidth=\"10\" markerHeight=\"10\" refX=\"9\" refY=\"3\" orient=\"auto\">\n",
       "<path d=\"M0,0 L0,6 L9,3 z\" fill=\"gray\"/></marker></defs>\n",
       "<path stroke-width=\"1\" stroke=\"gray\" d=\"M 420 230 344 318\" marker-end=\"url(#arrow-gray)\"/>\n",
       "<path stroke-width=\"1\" stroke=\"gray\" d=\"M 420 230 380 120\" marker-end=\"url(#arrow-gray)\"/>\n",
       "<path stroke-width=\"1\" stroke=\"gray\" d=\"M 343 320 216 313\" marker-end=\"url(#arrow-gray)\"/>\n",
       "<path stroke-width=\"1\" stroke=\"gray\" d=\"M 380 118 260 68\" marker-end=\"url(#arrow-gray)\"/>\n",
       "<path stroke-width=\"1\" stroke=\"gray\" d=\"M 127 218 119 99\" marker-end=\"url(#arrow-gray)\"/>\n",
       "<path stroke-width=\"1\" stroke=\"gray\" d=\"M 258 67 126 91\" marker-end=\"url(#arrow-gray)\"/>\n",
       "<path stroke-width=\"1\" stroke=\"gray\" d=\"M 214 313 129 220\" marker-end=\"url(#arrow-gray)\"/>\n",
       "<path stroke-width=\"1\" stroke=\"gray\" d=\"M 119 92 29 27\" marker-end=\"url(#arrow-gray)\"/>\n",
       "<circle cx=\"420\" cy=\"230\" r=\"3.0\" style=\"fill:rgb(58, 76, 192);stroke:black;stroke-width:1.0\"/>\n",
       "<circle cx=\"343\" cy=\"320\" r=\"3.0\" style=\"fill:rgb(58, 76, 192);stroke:black;stroke-width:1.0\"/>\n",
       "<circle cx=\"380\" cy=\"118\" r=\"3.0\" style=\"fill:rgb(138, 173, 253);stroke:black;stroke-width:1.0\"/>\n",
       "<circle cx=\"214\" cy=\"313\" r=\"3.0\" style=\"fill:rgb(138, 173, 253);stroke:black;stroke-width:1.0\"/>\n",
       "<circle cx=\"258\" cy=\"67\" r=\"3.0\" style=\"fill:rgb(219, 220, 222);stroke:black;stroke-width:1.0\"/>\n",
       "<circle cx=\"119\" cy=\"92\" r=\"7.5\" style=\"fill:rgb(244, 154, 123);stroke:black;stroke-width:1.0\"/>\n",
       "<circle cx=\"127\" cy=\"218\" r=\"3.0\" style=\"fill:rgb(219, 220, 222);stroke:black;stroke-width:1.0\"/>\n",
       "<circle cx=\"20\" cy=\"20\" r=\"12.0\" style=\"fill:rgb(179, 3, 38);stroke:black;stroke-width:1.0\"/>\n",
       "<text text-anchor=\"start\" x=\"426\" y=\"230\" font-size=\"8\">body of water</text><text text-anchor=\"start\" x=\"349\" y=\"320\" font-size=\"8\">geographic region</text><text text-anchor=\"start\" x=\"386\" y=\"118\" font-size=\"8\">physico-geographical object</text><text text-anchor=\"start\" x=\"220\" y=\"313\" font-size=\"8\">region of space</text><text text-anchor=\"start\" x=\"264\" y=\"67\" font-size=\"8\">concrete object</text><text text-anchor=\"start\" x=\"130\" y=\"92\" font-size=\"8\">object</text><text text-anchor=\"start\" x=\"133\" y=\"218\" font-size=\"8\">spatio-temporal entity</text><text text-anchor=\"start\" x=\"35\" y=\"20\" font-size=\"8\">entity</text></svg>"
      ],
      "text/plain": [
       "<IPython.core.display.SVG object>"
      ]
     },
     "metadata": {},
     "output_type": "display_data"
    }
   ],
   "source": [
    "body_of_water = 'wd:Q15324'\n",
    "draw_graph(graph, body_of_water, cls2label)"
   ]
  },
  {
   "cell_type": "code",
   "execution_count": 77,
   "metadata": {},
   "outputs": [
    {
     "data": {
      "image/svg+xml": [
       "<svg xmlns=\"http://www.w3.org/2000/svg\" width=\"496.0\" height=\"340\">\n",
       "<defs><marker id=\"arrow-gray\" markerWidth=\"10\" markerHeight=\"10\" refX=\"9\" refY=\"3\" orient=\"auto\">\n",
       "<path d=\"M0,0 L0,6 L9,3 z\" fill=\"gray\"/></marker></defs>\n",
       "<path stroke-width=\"1\" stroke=\"gray\" d=\"M 420 20 398 57\" marker-end=\"url(#arrow-gray)\"/>\n",
       "<path stroke-width=\"1\" stroke=\"gray\" d=\"M 152 279 108 303\" marker-end=\"url(#arrow-gray)\"/>\n",
       "<path stroke-width=\"1\" stroke=\"gray\" d=\"M 20 222 20 264\" marker-end=\"url(#arrow-gray)\"/>\n",
       "<path stroke-width=\"1\" stroke=\"gray\" d=\"M 28 250 23 264\" marker-end=\"url(#arrow-gray)\"/>\n",
       "<path stroke-width=\"1\" stroke=\"gray\" d=\"M 98 308 31 279\" marker-end=\"url(#arrow-gray)\"/>\n",
       "<path stroke-width=\"1\" stroke=\"gray\" d=\"M 235 277 193 313\" marker-end=\"url(#arrow-gray)\"/>\n",
       "<path stroke-width=\"1\" stroke=\"gray\" d=\"M 122 232 146 269\" marker-end=\"url(#arrow-gray)\"/>\n",
       "<path stroke-width=\"1\" stroke=\"gray\" d=\"M 235 277 163 279\" marker-end=\"url(#arrow-gray)\"/>\n",
       "<path stroke-width=\"1\" stroke=\"gray\" d=\"M 122 232 39 248\" marker-end=\"url(#arrow-gray)\"/>\n",
       "<path stroke-width=\"1\" stroke=\"gray\" d=\"M 184 320 109 309\" marker-end=\"url(#arrow-gray)\"/>\n",
       "<path stroke-width=\"1\" stroke=\"gray\" d=\"M 127 153 106 180\" marker-end=\"url(#arrow-gray)\"/>\n",
       "<path stroke-width=\"1\" stroke=\"gray\" d=\"M 275 220 208 205\" marker-end=\"url(#arrow-gray)\"/>\n",
       "<path stroke-width=\"1\" stroke=\"gray\" d=\"M 189 179 131 225\" marker-end=\"url(#arrow-gray)\"/>\n",
       "<path stroke-width=\"1\" stroke=\"gray\" d=\"M 275 220 240 270\" marker-end=\"url(#arrow-gray)\"/>\n",
       "<path stroke-width=\"1\" stroke=\"gray\" d=\"M 189 179 135 156\" marker-end=\"url(#arrow-gray)\"/>\n",
       "<path stroke-width=\"1\" stroke=\"gray\" d=\"M 295 162 276 215\" marker-end=\"url(#arrow-gray)\"/>\n",
       "<path stroke-width=\"1\" stroke=\"gray\" d=\"M 295 162 197 178\" marker-end=\"url(#arrow-gray)\"/>\n",
       "<path stroke-width=\"1\" stroke=\"gray\" d=\"M 358 109 299 159\" marker-end=\"url(#arrow-gray)\"/>\n",
       "<path stroke-width=\"1\" stroke=\"gray\" d=\"M 397 59 359 107\" marker-end=\"url(#arrow-gray)\"/>\n",
       "<path stroke-width=\"1\" stroke=\"gray\" d=\"M 200 204 110 190\" marker-end=\"url(#arrow-gray)\"/>\n",
       "<path stroke-width=\"1\" stroke=\"gray\" d=\"M 99 189 31 218\" marker-end=\"url(#arrow-gray)\"/>\n",
       "<circle cx=\"420\" cy=\"20\" r=\"3.0\" style=\"fill:rgb(58, 76, 192);stroke:black;stroke-width:1.0\"/>\n",
       "<circle cx=\"397\" cy=\"59\" r=\"3.0\" style=\"fill:rgb(103, 136, 237);stroke:black;stroke-width:1.0\"/>\n",
       "<circle cx=\"358\" cy=\"109\" r=\"3.0\" style=\"fill:rgb(152, 185, 254);stroke:black;stroke-width:1.0\"/>\n",
       "<circle cx=\"295\" cy=\"162\" r=\"6.0\" style=\"fill:rgb(199, 214, 240);stroke:black;stroke-width:1.0\"/>\n",
       "<circle cx=\"189\" cy=\"179\" r=\"9.0\" style=\"fill:rgb(236, 210, 196);stroke:black;stroke-width:1.0\"/>\n",
       "<circle cx=\"275\" cy=\"220\" r=\"6.0\" style=\"fill:rgb(199, 214, 240);stroke:black;stroke-width:1.0\"/>\n",
       "<circle cx=\"127\" cy=\"153\" r=\"9.0\" style=\"fill:rgb(236, 210, 196);stroke:black;stroke-width:1.0\"/>\n",
       "<circle cx=\"235\" cy=\"277\" r=\"9.0\" style=\"fill:rgb(236, 210, 196);stroke:black;stroke-width:1.0\"/>\n",
       "<circle cx=\"122\" cy=\"232\" r=\"12.0\" style=\"fill:rgb(246, 169, 138);stroke:black;stroke-width:1.0\"/>\n",
       "<circle cx=\"200\" cy=\"204\" r=\"9.0\" style=\"fill:rgb(236, 210, 196);stroke:black;stroke-width:1.0\"/>\n",
       "<circle cx=\"99\" cy=\"189\" r=\"12.0\" style=\"fill:rgb(246, 169, 138);stroke:black;stroke-width:1.0\"/>\n",
       "<circle cx=\"28\" cy=\"250\" r=\"12.0\" style=\"fill:rgb(227, 108, 84);stroke:black;stroke-width:1.0\"/>\n",
       "<circle cx=\"152\" cy=\"279\" r=\"12.0\" style=\"fill:rgb(246, 169, 138);stroke:black;stroke-width:1.0\"/>\n",
       "<circle cx=\"184\" cy=\"320\" r=\"12.0\" style=\"fill:rgb(246, 169, 138);stroke:black;stroke-width:1.0\"/>\n",
       "<circle cx=\"20\" cy=\"275\" r=\"12.0\" style=\"fill:rgb(179, 3, 38);stroke:black;stroke-width:1.0\"/>\n",
       "<circle cx=\"98\" cy=\"308\" r=\"12.0\" style=\"fill:rgb(227, 108, 84);stroke:black;stroke-width:1.0\"/>\n",
       "<circle cx=\"20\" cy=\"222\" r=\"12.0\" style=\"fill:rgb(227, 108, 84);stroke:black;stroke-width:1.0\"/>\n",
       "<text text-anchor=\"start\" x=\"426\" y=\"20\" font-size=\"8\">airport</text><text text-anchor=\"start\" x=\"403\" y=\"59\" font-size=\"8\">aerodrome</text><text text-anchor=\"start\" x=\"364\" y=\"109\" font-size=\"8\">station</text><text text-anchor=\"start\" x=\"304\" y=\"162\" font-size=\"8\">building</text><text text-anchor=\"start\" x=\"201\" y=\"179\" font-size=\"8\">facility</text><text text-anchor=\"start\" x=\"284\" y=\"220\" font-size=\"8\">architectural structure</text><text text-anchor=\"start\" x=\"139\" y=\"153\" font-size=\"8\">infrastructure</text><text text-anchor=\"start\" x=\"247\" y=\"277\" font-size=\"8\">artificial physical object</text><text text-anchor=\"start\" x=\"137\" y=\"232\" font-size=\"8\">artificial geographic entity</text><text text-anchor=\"start\" x=\"212\" y=\"204\" font-size=\"8\">physical structure</text><text text-anchor=\"start\" x=\"114\" y=\"189\" font-size=\"8\">structure</text><text text-anchor=\"start\" x=\"43\" y=\"250\" font-size=\"8\">geographic entity</text><text text-anchor=\"start\" x=\"167\" y=\"279\" font-size=\"8\">artificial object</text><text text-anchor=\"start\" x=\"199\" y=\"320\" font-size=\"8\">concrete object</text><text text-anchor=\"start\" x=\"35\" y=\"275\" font-size=\"8\">entity</text><text text-anchor=\"start\" x=\"113\" y=\"308\" font-size=\"8\">object</text><text text-anchor=\"start\" x=\"35\" y=\"222\" font-size=\"8\">collective entity</text></svg>"
      ],
      "text/plain": [
       "<IPython.core.display.SVG object>"
      ]
     },
     "metadata": {},
     "output_type": "display_data"
    }
   ],
   "source": [
    "airport = 'wd:Q1248784'\n",
    "draw_graph(graph, airport, cls2label)"
   ]
  },
  {
   "cell_type": "code",
   "execution_count": 78,
   "metadata": {},
   "outputs": [
    {
     "data": {
      "image/svg+xml": [
       "<svg xmlns=\"http://www.w3.org/2000/svg\" width=\"519.7480324853034\" height=\"340\">\n",
       "<defs><marker id=\"arrow-gray\" markerWidth=\"10\" markerHeight=\"10\" refX=\"9\" refY=\"3\" orient=\"auto\">\n",
       "<path d=\"M0,0 L0,6 L9,3 z\" fill=\"gray\"/></marker></defs>\n",
       "<path stroke-width=\"1\" stroke=\"gray\" d=\"M 411 20 420 67\" marker-end=\"url(#arrow-gray)\"/>\n",
       "<path stroke-width=\"1\" stroke=\"gray\" d=\"M 420 69 404 125\" marker-end=\"url(#arrow-gray)\"/>\n",
       "<path stroke-width=\"1\" stroke=\"gray\" d=\"M 404 127 355 182\" marker-end=\"url(#arrow-gray)\"/>\n",
       "<path stroke-width=\"1\" stroke=\"gray\" d=\"M 352 186 268 237\" marker-end=\"url(#arrow-gray)\"/>\n",
       "<path stroke-width=\"1\" stroke=\"gray\" d=\"M 261 241 152 281\" marker-end=\"url(#arrow-gray)\"/>\n",
       "<path stroke-width=\"1\" stroke=\"gray\" d=\"M 141 285 31 317\" marker-end=\"url(#arrow-gray)\"/>\n",
       "<circle cx=\"411\" cy=\"20\" r=\"3.0\" style=\"fill:rgb(58, 76, 192);stroke:black;stroke-width:1.0\"/>\n",
       "<circle cx=\"420\" cy=\"69\" r=\"3.0\" style=\"fill:rgb(109, 144, 241);stroke:black;stroke-width:1.0\"/>\n",
       "<circle cx=\"404\" cy=\"127\" r=\"3.0\" style=\"fill:rgb(170, 198, 253);stroke:black;stroke-width:1.0\"/>\n",
       "<circle cx=\"352\" cy=\"186\" r=\"6.0\" style=\"fill:rgb(219, 220, 222);stroke:black;stroke-width:1.0\"/>\n",
       "<circle cx=\"261\" cy=\"241\" r=\"9.0\" style=\"fill:rgb(246, 183, 156);stroke:black;stroke-width:1.0\"/>\n",
       "<circle cx=\"141\" cy=\"285\" r=\"12.0\" style=\"fill:rgb(231, 117, 92);stroke:black;stroke-width:1.0\"/>\n",
       "<circle cx=\"20\" cy=\"320\" r=\"12.0\" style=\"fill:rgb(179, 3, 38);stroke:black;stroke-width:1.0\"/>\n",
       "<text text-anchor=\"start\" x=\"417\" y=\"20\" font-size=\"8\">competition</text><text text-anchor=\"start\" x=\"426\" y=\"69\" font-size=\"8\">event</text><text text-anchor=\"start\" x=\"410\" y=\"127\" font-size=\"8\">occurrence</text><text text-anchor=\"start\" x=\"361\" y=\"186\" font-size=\"8\">temporal entity</text><text text-anchor=\"start\" x=\"273\" y=\"241\" font-size=\"8\">spatio-temporal entity</text><text text-anchor=\"start\" x=\"156\" y=\"285\" font-size=\"8\">object</text><text text-anchor=\"start\" x=\"35\" y=\"320\" font-size=\"8\">entity</text></svg>"
      ],
      "text/plain": [
       "<IPython.core.display.SVG object>"
      ]
     },
     "metadata": {},
     "output_type": "display_data"
    }
   ],
   "source": [
    "competition = 'wd:Q476300'\n",
    "draw_graph(graph, competition, cls2label)"
   ]
  },
  {
   "cell_type": "code",
   "execution_count": 80,
   "metadata": {},
   "outputs": [
    {
     "data": {
      "image/svg+xml": [
       "<svg xmlns=\"http://www.w3.org/2000/svg\" width=\"540.9960334621375\" height=\"340\">\n",
       "<defs><marker id=\"arrow-gray\" markerWidth=\"10\" markerHeight=\"10\" refX=\"9\" refY=\"3\" orient=\"auto\">\n",
       "<path d=\"M0,0 L0,6 L9,3 z\" fill=\"gray\"/></marker></defs>\n",
       "<path stroke-width=\"1\" stroke=\"gray\" d=\"M 20 320 62 294\" marker-end=\"url(#arrow-gray)\"/>\n",
       "<path stroke-width=\"1\" stroke=\"gray\" d=\"M 64 293 116 263\" marker-end=\"url(#arrow-gray)\"/>\n",
       "<path stroke-width=\"1\" stroke=\"gray\" d=\"M 118 262 171 232\" marker-end=\"url(#arrow-gray)\"/>\n",
       "<path stroke-width=\"1\" stroke=\"gray\" d=\"M 176 230 229 199\" marker-end=\"url(#arrow-gray)\"/>\n",
       "<path stroke-width=\"1\" stroke=\"gray\" d=\"M 236 195 284 162\" marker-end=\"url(#arrow-gray)\"/>\n",
       "<path stroke-width=\"1\" stroke=\"gray\" d=\"M 293 156 335 119\" marker-end=\"url(#arrow-gray)\"/>\n",
       "<path stroke-width=\"1\" stroke=\"gray\" d=\"M 344 112 380 72\" marker-end=\"url(#arrow-gray)\"/>\n",
       "<path stroke-width=\"1\" stroke=\"gray\" d=\"M 388 64 414 29\" marker-end=\"url(#arrow-gray)\"/>\n",
       "<circle cx=\"20\" cy=\"320\" r=\"3.0\" style=\"fill:rgb(58, 76, 192);stroke:black;stroke-width:1.0\"/>\n",
       "<circle cx=\"64\" cy=\"293\" r=\"3.0\" style=\"fill:rgb(96, 128, 232);stroke:black;stroke-width:1.0\"/>\n",
       "<circle cx=\"118\" cy=\"262\" r=\"3.0\" style=\"fill:rgb(138, 173, 253);stroke:black;stroke-width:1.0\"/>\n",
       "<circle cx=\"176\" cy=\"230\" r=\"6.0\" style=\"fill:rgb(183, 207, 249);stroke:black;stroke-width:1.0\"/>\n",
       "<circle cx=\"236\" cy=\"195\" r=\"9.0\" style=\"fill:rgb(219, 220, 222);stroke:black;stroke-width:1.0\"/>\n",
       "<circle cx=\"293\" cy=\"156\" r=\"12.0\" style=\"fill:rgb(243, 198, 176);stroke:black;stroke-width:1.0\"/>\n",
       "<circle cx=\"344\" cy=\"112\" r=\"12.0\" style=\"fill:rgb(244, 154, 123);stroke:black;stroke-width:1.0\"/>\n",
       "<circle cx=\"388\" cy=\"64\" r=\"12.0\" style=\"fill:rgb(222, 98, 78);stroke:black;stroke-width:1.0\"/>\n",
       "<circle cx=\"420\" cy=\"20\" r=\"12.0\" style=\"fill:rgb(179, 3, 38);stroke:black;stroke-width:1.0\"/>\n",
       "<text text-anchor=\"start\" x=\"26\" y=\"320\" font-size=\"8\">country</text><text text-anchor=\"start\" x=\"70\" y=\"293\" font-size=\"8\">administrative territorial entity</text><text text-anchor=\"start\" x=\"124\" y=\"262\" font-size=\"8\">human-geographic territorial entity</text><text text-anchor=\"start\" x=\"185\" y=\"230\" font-size=\"8\">territory</text><text text-anchor=\"start\" x=\"248\" y=\"195\" font-size=\"8\">geographic region</text><text text-anchor=\"start\" x=\"308\" y=\"156\" font-size=\"8\">region of space</text><text text-anchor=\"start\" x=\"359\" y=\"112\" font-size=\"8\">spatio-temporal entity</text><text text-anchor=\"start\" x=\"403\" y=\"64\" font-size=\"8\">object</text><text text-anchor=\"start\" x=\"435\" y=\"20\" font-size=\"8\">entity</text></svg>"
      ],
      "text/plain": [
       "<IPython.core.display.SVG object>"
      ]
     },
     "metadata": {},
     "output_type": "display_data"
    }
   ],
   "source": [
    "country = 'wd:Q6256'\n",
    "draw_graph(graph, country, cls2label)"
   ]
  },
  {
   "cell_type": "markdown",
   "metadata": {},
   "source": [
    "* change taxonomy format"
   ]
  },
  {
   "cell_type": "code",
   "execution_count": 2,
   "metadata": {},
   "outputs": [],
   "source": [
    "from graph_utils import load_graph_checkpoint, format_taxonomy\n",
    "wikc = load_graph_checkpoint(GRAPH_PATH, 'final.tsv')\n",
    "format_taxonomy('./data/', wikc)"
   ]
  },
  {
   "cell_type": "code",
   "execution_count": 8,
   "metadata": {},
   "outputs": [],
   "source": [
    "import pandas as pd\n",
    "df = pd.read_csv('./data/wikc_wikidata_mapping.tsv', sep='\\t', header=None, names=['wikc', 'wikidata'])\n",
    "df.to_csv('./data/wikc_wikidata_mapping.tsv', sep='\\t', index=False)"
   ]
  },
  {
   "cell_type": "code",
   "execution_count": null,
   "metadata": {},
   "outputs": [],
   "source": [
    "# store deleted edges\n",
    "invalid_edges = set(inv_del_edges).union(edges_del)\n",
    "with open('./data/evaluation/edges_del.tsv', 'w') as file:\n",
    "    for edge in invalid_edges:\n",
    "        file.write(f\"{edge[0]}\\t{edge[1]}\\n\")"
   ]
  }
 ],
 "metadata": {
  "kernelspec": {
   "display_name": "entyp",
   "language": "python",
   "name": "python3"
  },
  "language_info": {
   "codemirror_mode": {
    "name": "ipython",
    "version": 3
   },
   "file_extension": ".py",
   "mimetype": "text/x-python",
   "name": "python",
   "nbconvert_exporter": "python",
   "pygments_lexer": "ipython3",
   "version": "3.9.19"
  }
 },
 "nbformat": 4,
 "nbformat_minor": 2
}
