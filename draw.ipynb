{
 "cells": [
  {
   "cell_type": "code",
   "execution_count": 3,
   "metadata": {},
   "outputs": [],
   "source": [
    "# Read labels\n",
    "from utils import load_label\n",
    "DATA_PATH = './data/wikidata/'\n",
    "cls2label = load_label(DATA_PATH+'wiki_taxonomy_labels.tsv')"
   ]
  },
  {
   "cell_type": "code",
   "execution_count": 3,
   "metadata": {},
   "outputs": [],
   "source": [
    "# Read a graph from a file\n",
    "import os\n",
    "from collections import defaultdict\n",
    "from sknetwork.data import from_adjacency_list\n",
    "GRAPH_PATH = './data/taxonomies/'\n",
    "graph_file = 'original.tsv'\n",
    "\n",
    "wikidown = defaultdict(list)\n",
    "with open(os.path.join(GRAPH_PATH, graph_file), 'r') as taxon:\n",
    "    for line in taxon:\n",
    "        child, parent = line.strip().split('\\t')\n",
    "        wikidown[parent].append(child)\n",
    "\n",
    "wikigraph = from_adjacency_list(wikidown, directed=True)"
   ]
  },
  {
   "cell_type": "code",
   "execution_count": 4,
   "metadata": {},
   "outputs": [],
   "source": [
    "from sknetwork.embedding import ForceAtlas, Spring\n",
    "from sknetwork.path import get_distances, breadth_first_search\n",
    "from sknetwork.visualization import svg_graph\n",
    "from IPython.display import SVG\n",
    "import numpy as np\n",
    "import networkx as nx\n",
    "from scipy.sparse import csr_matrix\n",
    "\n",
    "adjacency = wikigraph['adjacency']\n",
    "names = list(wikigraph['names'])\n",
    "\n",
    "start_index = names.index('wd:Q35120') # entity\n",
    "end_index = names.index('wd:Q7930989') # target node\n",
    "\n",
    "adjacency_transpose = adjacency.T # subclass_of relation\n",
    "ancestors = breadth_first_search(adjacency_transpose, source=end_index)\n",
    "exart = adjacency_transpose[ancestors, :][:, ancestors]\n",
    "exart_nodes = list(np.array(names)[ancestors])\n",
    "\n",
    "# exart\n",
    "entity_index = exart_nodes.index('wd:Q35120')\n",
    "distances = get_distances(exart.T, source=entity_index)\n",
    "max_dist = max(distances)\n",
    "inv_distances = [-x+max_dist-1 for x in distances]\n",
    "weights = np.clip(inv_distances, a_min=0, a_max=10)\n",
    "name_labels = [cls2label[qid] for qid in exart_nodes]"
   ]
  },
  {
   "cell_type": "code",
   "execution_count": 5,
   "metadata": {},
   "outputs": [
    {
     "data": {
      "text/plain": [
       "['city or town',\n",
       " 'urban settlement',\n",
       " 'locality',\n",
       " 'urban area',\n",
       " 'human settlement',\n",
       " 'section of populated place',\n",
       " 'part (piece)',\n",
       " 'populated place',\n",
       " 'geographic region',\n",
       " 'region of space',\n",
       " 'artificial geographic entity',\n",
       " 'entity',\n",
       " 'spacetime region',\n",
       " 'artificial object',\n",
       " 'spatial entity',\n",
       " 'geographic entity',\n",
       " 'continuant',\n",
       " 'spatio-temporal entity',\n",
       " 'object',\n",
       " 'mathematical object',\n",
       " 'abstract entity']"
      ]
     },
     "execution_count": 5,
     "metadata": {},
     "output_type": "execute_result"
    }
   ],
   "source": [
    "name_labels"
   ]
  },
  {
   "cell_type": "code",
   "execution_count": 6,
   "metadata": {},
   "outputs": [],
   "source": [
    "ori_nodes = ['wd:Q7930989',\n",
    " 'wd:Q124250988',\n",
    " 'wd:Q3257686',\n",
    " 'wd:Q702492',\n",
    " 'wd:Q486972',\n",
    " 'wd:Q48907157',\n",
    " 'wd:Q15989253',\n",
    " 'wd:Q123964505',\n",
    " 'wd:Q82794',\n",
    " 'wd:Q26713767',\n",
    " 'wd:Q27096235',\n",
    " 'wd:Q35120',\n",
    " 'wd:Q23956024',\n",
    " 'wd:Q16686448',\n",
    " 'wd:Q58416391',\n",
    " 'wd:Q27096213',\n",
    " 'wd:Q103940464',\n",
    " 'wd:Q58415929',\n",
    " 'wd:Q488383',\n",
    " 'wd:Q246672',\n",
    " 'wd:Q7048977']"
   ]
  },
  {
   "cell_type": "code",
   "execution_count": 7,
   "metadata": {},
   "outputs": [],
   "source": [
    "ori_position = np.array([[ 0.50724006, -1.50546935],\n",
    "       [ 0.17339569, -1.40830145],\n",
    "       [ 0.65318635, -1.16166466],\n",
    "       [-0.07333105, -1.10416012],\n",
    "       [ 0.24395499, -0.96205877],\n",
    "       [ 0.82605656, -0.74490163],\n",
    "       [ 0.939873  , -0.23559766],\n",
    "       [ 0.11388487, -0.72282675],\n",
    "       [-0.25911111, -0.64649449],\n",
    "       [-0.42310854, -0.32413033],\n",
    "       [ 0.16297914, -0.42190657],\n",
    "       [ 0.92903534,  0.42853186],\n",
    "       [-0.17333105,  0.12323218],\n",
    "       [ 0.18498939,  0.01300668],\n",
    "       [-0.31534483,  0.24045825],\n",
    "       [ 0.69995992, -0.07095023],\n",
    "       [ 0.75337341,  0.21152963],\n",
    "       [-0.03026624,  0.52404289],\n",
    "       [ 0.34507941,  0.44022587],\n",
    "       [-0.00830009,  0.69421331],\n",
    "       [ 0.39949707,  0.63391492]])"
   ]
  },
  {
   "cell_type": "code",
   "execution_count": 8,
   "metadata": {},
   "outputs": [
    {
     "data": {
      "image/svg+xml": [
       "<svg xmlns=\"http://www.w3.org/2000/svg\" width=\"457.2989021993651\" height=\"400\">\n",
       "<defs><marker id=\"arrow-gray\" markerWidth=\"10\" markerHeight=\"10\" refX=\"9\" refY=\"3\" orient=\"auto\">\n",
       "<path d=\"M0,0 L0,6 L9,3 z\" fill=\"gray\"/></marker></defs>\n",
       "<path stroke-width=\"1\" stroke=\"gray\" d=\"M 156 380 109 364\" marker-end=\"url(#arrow-gray)\"/>\n",
       "<path stroke-width=\"1\" stroke=\"gray\" d=\"M 109 131 130 67\" marker-end=\"url(#arrow-gray)\"/>\n",
       "<path stroke-width=\"1\" stroke=\"gray\" d=\"M 77 47 126 60\" marker-end=\"url(#arrow-gray)\"/>\n",
       "<path stroke-width=\"1\" stroke=\"gray\" d=\"M 35 94 73 51\" marker-end=\"url(#arrow-gray)\"/>\n",
       "<path stroke-width=\"1\" stroke=\"gray\" d=\"M 56 113 76 52\" marker-end=\"url(#arrow-gray)\"/>\n",
       "<path stroke-width=\"1\" stroke=\"gray\" d=\"M 184 145 191 104\" marker-end=\"url(#arrow-gray)\"/>\n",
       "<path stroke-width=\"1\" stroke=\"gray\" d=\"M 106 202 180 148\" marker-end=\"url(#arrow-gray)\"/>\n",
       "<path stroke-width=\"1\" stroke=\"gray\" d=\"M 20 186 35 98\" marker-end=\"url(#arrow-gray)\"/>\n",
       "<path stroke-width=\"1\" stroke=\"gray\" d=\"M 106 202 109 136\" marker-end=\"url(#arrow-gray)\"/>\n",
       "<path stroke-width=\"1\" stroke=\"gray\" d=\"M 20 186 54 117\" marker-end=\"url(#arrow-gray)\"/>\n",
       "<path stroke-width=\"1\" stroke=\"gray\" d=\"M 132 61 211 63\" marker-end=\"url(#arrow-gray)\"/>\n",
       "<path stroke-width=\"1\" stroke=\"gray\" d=\"M 220 172 218 70\" marker-end=\"url(#arrow-gray)\"/>\n",
       "<path stroke-width=\"1\" stroke=\"gray\" d=\"M 192 98 214 69\" marker-end=\"url(#arrow-gray)\"/>\n",
       "<path stroke-width=\"1\" stroke=\"gray\" d=\"M 140 29 211 60\" marker-end=\"url(#arrow-gray)\"/>\n",
       "<path stroke-width=\"1\" stroke=\"gray\" d=\"M 98 251 106 206\" marker-end=\"url(#arrow-gray)\"/>\n",
       "<path stroke-width=\"1\" stroke=\"gray\" d=\"M 44 239 21 189\" marker-end=\"url(#arrow-gray)\"/>\n",
       "<path stroke-width=\"1\" stroke=\"gray\" d=\"M 98 251 46 239\" marker-end=\"url(#arrow-gray)\"/>\n",
       "<path stroke-width=\"1\" stroke=\"gray\" d=\"M 71 314 45 241\" marker-end=\"url(#arrow-gray)\"/>\n",
       "<path stroke-width=\"1\" stroke=\"gray\" d=\"M 117 291 99 254\" marker-end=\"url(#arrow-gray)\"/>\n",
       "<path stroke-width=\"1\" stroke=\"gray\" d=\"M 203 255 219 178\" marker-end=\"url(#arrow-gray)\"/>\n",
       "<path stroke-width=\"1\" stroke=\"gray\" d=\"M 177 323 201 260\" marker-end=\"url(#arrow-gray)\"/>\n",
       "<path stroke-width=\"1\" stroke=\"gray\" d=\"M 177 323 119 292\" marker-end=\"url(#arrow-gray)\"/>\n",
       "<path stroke-width=\"1\" stroke=\"gray\" d=\"M 71 314 115 292\" marker-end=\"url(#arrow-gray)\"/>\n",
       "<path stroke-width=\"1\" stroke=\"gray\" d=\"M 107 364 117 293\" marker-end=\"url(#arrow-gray)\"/>\n",
       "<path stroke-width=\"1\" stroke=\"gray\" d=\"M 107 364 72 316\" marker-end=\"url(#arrow-gray)\"/>\n",
       "<path stroke-width=\"1\" stroke=\"gray\" d=\"M 156 380 176 327\" marker-end=\"url(#arrow-gray)\"/>\n",
       "<path stroke-width=\"1\" stroke=\"gray\" d=\"M 35 94 77 25\" marker-end=\"url(#arrow-gray)\"/>\n",
       "<path stroke-width=\"1\" stroke=\"gray\" d=\"M 80 20 134 28\" marker-end=\"url(#arrow-gray)\"/>\n",
       "<circle cx=\"156\" cy=\"380\" r=\"4.0\" style=\"fill:rgb(170, 198, 253);stroke:black;stroke-width:1.0\"/>\n",
       "<circle cx=\"107\" cy=\"364\" r=\"3.0\" style=\"fill:rgb(58, 76, 192);stroke:black;stroke-width:1.0\"/>\n",
       "<circle cx=\"177\" cy=\"323\" r=\"5.0\" style=\"fill:rgb(219, 220, 222);stroke:black;stroke-width:1.0\"/>\n",
       "<circle cx=\"71\" cy=\"314\" r=\"3.0\" style=\"fill:rgb(58, 76, 192);stroke:black;stroke-width:1.0\"/>\n",
       "<circle cx=\"117\" cy=\"291\" r=\"3.0\" style=\"fill:rgb(109, 144, 241);stroke:black;stroke-width:1.0\"/>\n",
       "<circle cx=\"203\" cy=\"255\" r=\"6.0\" style=\"fill:rgb(246, 183, 156);stroke:black;stroke-width:1.0\"/>\n",
       "<circle cx=\"220\" cy=\"172\" r=\"7.0\" style=\"fill:rgb(231, 117, 92);stroke:black;stroke-width:1.0\"/>\n",
       "<circle cx=\"98\" cy=\"251\" r=\"4.0\" style=\"fill:rgb(170, 198, 253);stroke:black;stroke-width:1.0\"/>\n",
       "<circle cx=\"44\" cy=\"239\" r=\"3.0\" style=\"fill:rgb(109, 144, 241);stroke:black;stroke-width:1.0\"/>\n",
       "<circle cx=\"20\" cy=\"186\" r=\"4.0\" style=\"fill:rgb(170, 198, 253);stroke:black;stroke-width:1.0\"/>\n",
       "<circle cx=\"106\" cy=\"202\" r=\"5.0\" style=\"fill:rgb(219, 220, 222);stroke:black;stroke-width:1.0\"/>\n",
       "<circle cx=\"218\" cy=\"63\" r=\"8.0\" style=\"fill:rgb(179, 3, 38);stroke:black;stroke-width:1.0\"/>\n",
       "<circle cx=\"56\" cy=\"113\" r=\"5.0\" style=\"fill:rgb(219, 220, 222);stroke:black;stroke-width:1.0\"/>\n",
       "<circle cx=\"109\" cy=\"131\" r=\"6.0\" style=\"fill:rgb(246, 183, 156);stroke:black;stroke-width:1.0\"/>\n",
       "<circle cx=\"35\" cy=\"94\" r=\"5.0\" style=\"fill:rgb(219, 220, 222);stroke:black;stroke-width:1.0\"/>\n",
       "<circle cx=\"184\" cy=\"145\" r=\"6.0\" style=\"fill:rgb(246, 183, 156);stroke:black;stroke-width:1.0\"/>\n",
       "<circle cx=\"192\" cy=\"98\" r=\"7.0\" style=\"fill:rgb(231, 117, 92);stroke:black;stroke-width:1.0\"/>\n",
       "<circle cx=\"77\" cy=\"47\" r=\"6.0\" style=\"fill:rgb(246, 183, 156);stroke:black;stroke-width:1.0\"/>\n",
       "<circle cx=\"132\" cy=\"61\" r=\"7.0\" style=\"fill:rgb(231, 117, 92);stroke:black;stroke-width:1.0\"/>\n",
       "<circle cx=\"80\" cy=\"20\" r=\"6.0\" style=\"fill:rgb(246, 183, 156);stroke:black;stroke-width:1.0\"/>\n",
       "<circle cx=\"140\" cy=\"29\" r=\"7.0\" style=\"fill:rgb(231, 117, 92);stroke:black;stroke-width:1.0\"/>\n",
       "<text text-anchor=\"start\" x=\"163\" y=\"380\" font-size=\"9\">city or town</text><text text-anchor=\"start\" x=\"113\" y=\"364\" font-size=\"9\">urban settlement</text><text text-anchor=\"start\" x=\"185\" y=\"323\" font-size=\"9\">locality</text><text text-anchor=\"start\" x=\"77\" y=\"314\" font-size=\"9\">urban area</text><text text-anchor=\"start\" x=\"123\" y=\"291\" font-size=\"9\">human settlement</text><text text-anchor=\"start\" x=\"212\" y=\"255\" font-size=\"9\">section of populated place</text><text text-anchor=\"start\" x=\"230\" y=\"172\" font-size=\"9\">part (piece)</text><text text-anchor=\"start\" x=\"105\" y=\"251\" font-size=\"9\">populated place</text><text text-anchor=\"start\" x=\"50\" y=\"239\" font-size=\"9\">geographic region</text><text text-anchor=\"start\" x=\"27\" y=\"186\" font-size=\"9\">region of space</text><text text-anchor=\"start\" x=\"114\" y=\"202\" font-size=\"9\">artificial geographic entity</text><text text-anchor=\"start\" x=\"229\" y=\"63\" font-size=\"9\">entity</text><text text-anchor=\"start\" x=\"64\" y=\"113\" font-size=\"9\">spacetime region</text><text text-anchor=\"start\" x=\"118\" y=\"131\" font-size=\"9\">artificial object</text><text text-anchor=\"start\" x=\"43\" y=\"94\" font-size=\"9\">spatial entity</text><text text-anchor=\"start\" x=\"193\" y=\"145\" font-size=\"9\">geographic entity</text><text text-anchor=\"start\" x=\"202\" y=\"98\" font-size=\"9\">continuant</text><text text-anchor=\"start\" x=\"86\" y=\"47\" font-size=\"9\">spatio-temporal entity</text><text text-anchor=\"start\" x=\"142\" y=\"61\" font-size=\"9\">object</text><text text-anchor=\"start\" x=\"89\" y=\"20\" font-size=\"9\">mathematical object</text><text text-anchor=\"start\" x=\"150\" y=\"29\" font-size=\"9\">abstract entity</text></svg>"
      ],
      "text/plain": [
       "<IPython.core.display.SVG object>"
      ]
     },
     "execution_count": 8,
     "metadata": {},
     "output_type": "execute_result"
    }
   ],
   "source": [
    "image = svg_graph(exart, position=ori_position, names=name_labels, display_node_weight=True, \n",
    "                  node_weights=weights, node_size_max=8, node_size_min=3,\n",
    "                  scores=-distances, scale=1, font_size=9, height=360, width=200)\n",
    "SVG(image)"
   ]
  },
  {
   "cell_type": "markdown",
   "metadata": {},
   "source": [
    "* draw graphs"
   ]
  },
  {
   "cell_type": "code",
   "execution_count": 9,
   "metadata": {},
   "outputs": [],
   "source": [
    "def load_graph(graph_file):\n",
    "    wikidown = defaultdict(list)\n",
    "    with open(os.path.join(GRAPH_PATH, graph_file), 'r') as taxon:\n",
    "        for line in taxon:\n",
    "            child, parent = line.strip().split('\\t')\n",
    "            wikidown[parent].append(child)\n",
    "    wikigraph = from_adjacency_list(wikidown, directed=True)\n",
    "    return wikigraph\n",
    "\n",
    "def get_path_exart(graph, target_node):\n",
    "    adjacency = graph['adjacency']\n",
    "    names = list(graph['names'])\n",
    "\n",
    "    start_index = names.index('wd:Q35120') # entity\n",
    "    end_index = names.index(target_node) # target node\n",
    "    adjacency_transpose = adjacency.T # subclass_of relation\n",
    "    ancestors = breadth_first_search(adjacency_transpose, source=end_index)\n",
    "    exart = adjacency_transpose[ancestors, :][:, ancestors]\n",
    "    exart_nodes = list(np.array(names)[ancestors])\n",
    "\n",
    "    # get exart\n",
    "    entity_index = exart_nodes.index('wd:Q35120')\n",
    "    distances = get_distances(exart.T, source=entity_index)\n",
    "    max_dist = max(distances)\n",
    "    inv_distances = [-x+max_dist-1 for x in distances]\n",
    "    weights = np.clip(inv_distances, a_min=0, a_max=10)\n",
    "    name_labels = [cls2label[qid] for qid in exart_nodes]\n",
    "    return exart, exart_nodes, name_labels, weights, distances\n",
    "\n",
    "\n",
    "def get_position(ori_nodes, ori_position, new_nodes):\n",
    "    position = []\n",
    "    for node in new_nodes:\n",
    "        index = ori_nodes.index(node)\n",
    "        position.append(ori_position[index])\n",
    "    return np.array(position)"
   ]
  },
  {
   "cell_type": "code",
   "execution_count": 10,
   "metadata": {},
   "outputs": [
    {
     "data": {
      "image/svg+xml": [
       "<svg xmlns=\"http://www.w3.org/2000/svg\" width=\"457.2989021993651\" height=\"400\">\n",
       "<defs><marker id=\"arrow-gray\" markerWidth=\"10\" markerHeight=\"10\" refX=\"9\" refY=\"3\" orient=\"auto\">\n",
       "<path d=\"M0,0 L0,6 L9,3 z\" fill=\"gray\"/></marker></defs>\n",
       "<path stroke-width=\"1\" stroke=\"gray\" d=\"M 156 380 109 362\" marker-end=\"url(#arrow-gray)\"/>\n",
       "<path stroke-width=\"1\" stroke=\"gray\" d=\"M 184 125 191 81\" marker-end=\"url(#arrow-gray)\"/>\n",
       "<path stroke-width=\"1\" stroke=\"gray\" d=\"M 56 91 76 25\" marker-end=\"url(#arrow-gray)\"/>\n",
       "<path stroke-width=\"1\" stroke=\"gray\" d=\"M 106 187 180 128\" marker-end=\"url(#arrow-gray)\"/>\n",
       "<path stroke-width=\"1\" stroke=\"gray\" d=\"M 106 187 109 115\" marker-end=\"url(#arrow-gray)\"/>\n",
       "<path stroke-width=\"1\" stroke=\"gray\" d=\"M 20 170 54 95\" marker-end=\"url(#arrow-gray)\"/>\n",
       "<path stroke-width=\"1\" stroke=\"gray\" d=\"M 132 34 211 36\" marker-end=\"url(#arrow-gray)\"/>\n",
       "<path stroke-width=\"1\" stroke=\"gray\" d=\"M 220 154 218 43\" marker-end=\"url(#arrow-gray)\"/>\n",
       "<path stroke-width=\"1\" stroke=\"gray\" d=\"M 192 75 214 42\" marker-end=\"url(#arrow-gray)\"/>\n",
       "<path stroke-width=\"1\" stroke=\"gray\" d=\"M 98 241 106 191\" marker-end=\"url(#arrow-gray)\"/>\n",
       "<path stroke-width=\"1\" stroke=\"gray\" d=\"M 44 227 21 173\" marker-end=\"url(#arrow-gray)\"/>\n",
       "<path stroke-width=\"1\" stroke=\"gray\" d=\"M 71 308 44 229\" marker-end=\"url(#arrow-gray)\"/>\n",
       "<path stroke-width=\"1\" stroke=\"gray\" d=\"M 117 283 99 244\" marker-end=\"url(#arrow-gray)\"/>\n",
       "<path stroke-width=\"1\" stroke=\"gray\" d=\"M 203 245 219 160\" marker-end=\"url(#arrow-gray)\"/>\n",
       "<path stroke-width=\"1\" stroke=\"gray\" d=\"M 177 319 202 250\" marker-end=\"url(#arrow-gray)\"/>\n",
       "<path stroke-width=\"1\" stroke=\"gray\" d=\"M 177 319 119 284\" marker-end=\"url(#arrow-gray)\"/>\n",
       "<path stroke-width=\"1\" stroke=\"gray\" d=\"M 71 308 115 284\" marker-end=\"url(#arrow-gray)\"/>\n",
       "<path stroke-width=\"1\" stroke=\"gray\" d=\"M 107 362 117 285\" marker-end=\"url(#arrow-gray)\"/>\n",
       "<path stroke-width=\"1\" stroke=\"gray\" d=\"M 107 362 72 310\" marker-end=\"url(#arrow-gray)\"/>\n",
       "<path stroke-width=\"1\" stroke=\"gray\" d=\"M 156 380 176 323\" marker-end=\"url(#arrow-gray)\"/>\n",
       "<path stroke-width=\"1\" stroke=\"gray\" d=\"M 77 20 126 33\" marker-end=\"url(#arrow-gray)\"/>\n",
       "<path stroke-width=\"1\" stroke=\"gray\" d=\"M 109 110 130 40\" marker-end=\"url(#arrow-gray)\"/>\n",
       "<circle cx=\"156\" cy=\"380\" r=\"4.0\" style=\"fill:rgb(170, 198, 253);stroke:black;stroke-width:1.0\"/>\n",
       "<circle cx=\"107\" cy=\"362\" r=\"3.0\" style=\"fill:rgb(58, 76, 192);stroke:black;stroke-width:1.0\"/>\n",
       "<circle cx=\"177\" cy=\"319\" r=\"5.0\" style=\"fill:rgb(219, 220, 222);stroke:black;stroke-width:1.0\"/>\n",
       "<circle cx=\"71\" cy=\"308\" r=\"3.0\" style=\"fill:rgb(58, 76, 192);stroke:black;stroke-width:1.0\"/>\n",
       "<circle cx=\"117\" cy=\"283\" r=\"3.0\" style=\"fill:rgb(109, 144, 241);stroke:black;stroke-width:1.0\"/>\n",
       "<circle cx=\"203\" cy=\"245\" r=\"6.0\" style=\"fill:rgb(246, 183, 156);stroke:black;stroke-width:1.0\"/>\n",
       "<circle cx=\"220\" cy=\"154\" r=\"7.0\" style=\"fill:rgb(231, 117, 92);stroke:black;stroke-width:1.0\"/>\n",
       "<circle cx=\"98\" cy=\"241\" r=\"4.0\" style=\"fill:rgb(170, 198, 253);stroke:black;stroke-width:1.0\"/>\n",
       "<circle cx=\"44\" cy=\"227\" r=\"3.0\" style=\"fill:rgb(109, 144, 241);stroke:black;stroke-width:1.0\"/>\n",
       "<circle cx=\"20\" cy=\"170\" r=\"4.0\" style=\"fill:rgb(170, 198, 253);stroke:black;stroke-width:1.0\"/>\n",
       "<circle cx=\"106\" cy=\"187\" r=\"5.0\" style=\"fill:rgb(219, 220, 222);stroke:black;stroke-width:1.0\"/>\n",
       "<circle cx=\"218\" cy=\"36\" r=\"8.0\" style=\"fill:rgb(179, 3, 38);stroke:black;stroke-width:1.0\"/>\n",
       "<circle cx=\"56\" cy=\"91\" r=\"5.0\" style=\"fill:rgb(219, 220, 222);stroke:black;stroke-width:1.0\"/>\n",
       "<circle cx=\"109\" cy=\"110\" r=\"6.0\" style=\"fill:rgb(246, 183, 156);stroke:black;stroke-width:1.0\"/>\n",
       "<circle cx=\"184\" cy=\"125\" r=\"6.0\" style=\"fill:rgb(246, 183, 156);stroke:black;stroke-width:1.0\"/>\n",
       "<circle cx=\"77\" cy=\"20\" r=\"6.0\" style=\"fill:rgb(246, 183, 156);stroke:black;stroke-width:1.0\"/>\n",
       "<circle cx=\"192\" cy=\"75\" r=\"7.0\" style=\"fill:rgb(231, 117, 92);stroke:black;stroke-width:1.0\"/>\n",
       "<circle cx=\"132\" cy=\"34\" r=\"7.0\" style=\"fill:rgb(231, 117, 92);stroke:black;stroke-width:1.0\"/>\n",
       "<text text-anchor=\"start\" x=\"163\" y=\"380\" font-size=\"9\">city or town</text><text text-anchor=\"start\" x=\"113\" y=\"362\" font-size=\"9\">urban settlement</text><text text-anchor=\"start\" x=\"185\" y=\"319\" font-size=\"9\">locality</text><text text-anchor=\"start\" x=\"77\" y=\"308\" font-size=\"9\">urban area</text><text text-anchor=\"start\" x=\"123\" y=\"283\" font-size=\"9\">human settlement</text><text text-anchor=\"start\" x=\"212\" y=\"245\" font-size=\"9\">section of populated place</text><text text-anchor=\"start\" x=\"230\" y=\"154\" font-size=\"9\">part (piece)</text><text text-anchor=\"start\" x=\"105\" y=\"241\" font-size=\"9\">populated place</text><text text-anchor=\"start\" x=\"50\" y=\"227\" font-size=\"9\">geographic region</text><text text-anchor=\"start\" x=\"27\" y=\"170\" font-size=\"9\">region of space</text><text text-anchor=\"start\" x=\"114\" y=\"187\" font-size=\"9\">artificial geographic entity</text><text text-anchor=\"start\" x=\"229\" y=\"36\" font-size=\"9\">entity</text><text text-anchor=\"start\" x=\"64\" y=\"91\" font-size=\"9\">spacetime region</text><text text-anchor=\"start\" x=\"118\" y=\"110\" font-size=\"9\">artificial object</text><text text-anchor=\"start\" x=\"193\" y=\"125\" font-size=\"9\">geographic entity</text><text text-anchor=\"start\" x=\"86\" y=\"20\" font-size=\"9\">spatio-temporal entity</text><text text-anchor=\"start\" x=\"202\" y=\"75\" font-size=\"9\">continuant</text><text text-anchor=\"start\" x=\"142\" y=\"34\" font-size=\"9\">object</text></svg>"
      ],
      "text/plain": [
       "<IPython.core.display.SVG object>"
      ]
     },
     "execution_count": 10,
     "metadata": {},
     "output_type": "execute_result"
    }
   ],
   "source": [
    "graph = load_graph('cutting.tsv') # after cutting\n",
    "exart, exart_nodes, labels, weights, distances = get_path_exart(graph, 'wd:Q7930989')\n",
    "position = get_position(ori_nodes, ori_position, exart_nodes)\n",
    "\n",
    "image = svg_graph(exart, position=position, names=labels, display_node_weight=True, \n",
    "                  node_weights=weights, node_size_max=8, node_size_min=3,\n",
    "                  scores=-distances, scale=1, font_size=9, height=360, width=200)\n",
    "SVG(image)"
   ]
  },
  {
   "cell_type": "code",
   "execution_count": 11,
   "metadata": {},
   "outputs": [
    {
     "data": {
      "image/svg+xml": [
       "<svg xmlns=\"http://www.w3.org/2000/svg\" width=\"378.69013537228005\" height=\"400\">\n",
       "<defs><marker id=\"arrow-gray\" markerWidth=\"10\" markerHeight=\"10\" refX=\"9\" refY=\"3\" orient=\"auto\">\n",
       "<path d=\"M0,0 L0,6 L9,3 z\" fill=\"gray\"/></marker></defs>\n",
       "<path stroke-width=\"1\" stroke=\"gray\" d=\"M 157 380 110 362\" marker-end=\"url(#arrow-gray)\"/>\n",
       "<path stroke-width=\"1\" stroke=\"gray\" d=\"M 186 125 193 82\" marker-end=\"url(#arrow-gray)\"/>\n",
       "<path stroke-width=\"1\" stroke=\"gray\" d=\"M 56 91 77 26\" marker-end=\"url(#arrow-gray)\"/>\n",
       "<path stroke-width=\"1\" stroke=\"gray\" d=\"M 109 110 131 40\" marker-end=\"url(#arrow-gray)\"/>\n",
       "<path stroke-width=\"1\" stroke=\"gray\" d=\"M 78 20 127 33\" marker-end=\"url(#arrow-gray)\"/>\n",
       "<path stroke-width=\"1\" stroke=\"gray\" d=\"M 106 187 182 128\" marker-end=\"url(#arrow-gray)\"/>\n",
       "<path stroke-width=\"1\" stroke=\"gray\" d=\"M 20 170 54 95\" marker-end=\"url(#arrow-gray)\"/>\n",
       "<path stroke-width=\"1\" stroke=\"gray\" d=\"M 106 187 109 116\" marker-end=\"url(#arrow-gray)\"/>\n",
       "<path stroke-width=\"1\" stroke=\"gray\" d=\"M 194 75 216 42\" marker-end=\"url(#arrow-gray)\"/>\n",
       "<path stroke-width=\"1\" stroke=\"gray\" d=\"M 44 227 21 174\" marker-end=\"url(#arrow-gray)\"/>\n",
       "<path stroke-width=\"1\" stroke=\"gray\" d=\"M 118 283 100 245\" marker-end=\"url(#arrow-gray)\"/>\n",
       "<path stroke-width=\"1\" stroke=\"gray\" d=\"M 71 308 45 230\" marker-end=\"url(#arrow-gray)\"/>\n",
       "<path stroke-width=\"1\" stroke=\"gray\" d=\"M 179 319 121 284\" marker-end=\"url(#arrow-gray)\"/>\n",
       "<path stroke-width=\"1\" stroke=\"gray\" d=\"M 71 308 115 284\" marker-end=\"url(#arrow-gray)\"/>\n",
       "<path stroke-width=\"1\" stroke=\"gray\" d=\"M 108 362 118 286\" marker-end=\"url(#arrow-gray)\"/>\n",
       "<path stroke-width=\"1\" stroke=\"gray\" d=\"M 108 362 72 310\" marker-end=\"url(#arrow-gray)\"/>\n",
       "<path stroke-width=\"1\" stroke=\"gray\" d=\"M 157 380 178 321\" marker-end=\"url(#arrow-gray)\"/>\n",
       "<path stroke-width=\"1\" stroke=\"gray\" d=\"M 99 241 106 192\" marker-end=\"url(#arrow-gray)\"/>\n",
       "<path stroke-width=\"1\" stroke=\"gray\" d=\"M 133 34 213 36\" marker-end=\"url(#arrow-gray)\"/>\n",
       "<circle cx=\"157\" cy=\"380\" r=\"3.0\" style=\"fill:rgb(58, 76, 192);stroke:black;stroke-width:1.0\"/>\n",
       "<circle cx=\"108\" cy=\"362\" r=\"3.0\" style=\"fill:rgb(103, 136, 237);stroke:black;stroke-width:1.0\"/>\n",
       "<circle cx=\"179\" cy=\"319\" r=\"3.0\" style=\"fill:rgb(103, 136, 237);stroke:black;stroke-width:1.0\"/>\n",
       "<circle cx=\"71\" cy=\"308\" r=\"3.0\" style=\"fill:rgb(103, 136, 237);stroke:black;stroke-width:1.0\"/>\n",
       "<circle cx=\"118\" cy=\"283\" r=\"3.8333333333333335\" style=\"fill:rgb(152, 185, 254);stroke:black;stroke-width:1.0\"/>\n",
       "<circle cx=\"44\" cy=\"227\" r=\"3.8333333333333335\" style=\"fill:rgb(152, 185, 254);stroke:black;stroke-width:1.0\"/>\n",
       "<circle cx=\"99\" cy=\"241\" r=\"4.666666666666667\" style=\"fill:rgb(199, 214, 240);stroke:black;stroke-width:1.0\"/>\n",
       "<circle cx=\"106\" cy=\"187\" r=\"5.5\" style=\"fill:rgb(236, 210, 196);stroke:black;stroke-width:1.0\"/>\n",
       "<circle cx=\"20\" cy=\"170\" r=\"4.666666666666667\" style=\"fill:rgb(199, 214, 240);stroke:black;stroke-width:1.0\"/>\n",
       "<circle cx=\"109\" cy=\"110\" r=\"6.333333333333334\" style=\"fill:rgb(246, 169, 138);stroke:black;stroke-width:1.0\"/>\n",
       "<circle cx=\"56\" cy=\"91\" r=\"5.5\" style=\"fill:rgb(236, 210, 196);stroke:black;stroke-width:1.0\"/>\n",
       "<circle cx=\"186\" cy=\"125\" r=\"6.333333333333334\" style=\"fill:rgb(246, 169, 138);stroke:black;stroke-width:1.0\"/>\n",
       "<circle cx=\"133\" cy=\"34\" r=\"7.166666666666667\" style=\"fill:rgb(227, 108, 84);stroke:black;stroke-width:1.0\"/>\n",
       "<circle cx=\"78\" cy=\"20\" r=\"6.333333333333334\" style=\"fill:rgb(246, 169, 138);stroke:black;stroke-width:1.0\"/>\n",
       "<circle cx=\"194\" cy=\"75\" r=\"7.166666666666667\" style=\"fill:rgb(227, 108, 84);stroke:black;stroke-width:1.0\"/>\n",
       "<circle cx=\"220\" cy=\"36\" r=\"8.0\" style=\"fill:rgb(179, 3, 38);stroke:black;stroke-width:1.0\"/>\n",
       "<text text-anchor=\"start\" x=\"163\" y=\"380\" font-size=\"9\">city or town</text><text text-anchor=\"start\" x=\"114\" y=\"362\" font-size=\"9\">urban settlement</text><text text-anchor=\"start\" x=\"185\" y=\"319\" font-size=\"9\">locality</text><text text-anchor=\"start\" x=\"77\" y=\"308\" font-size=\"9\">urban area</text><text text-anchor=\"start\" x=\"125\" y=\"283\" font-size=\"9\">human settlement</text><text text-anchor=\"start\" x=\"51\" y=\"227\" font-size=\"9\">geographic region</text><text text-anchor=\"start\" x=\"107\" y=\"241\" font-size=\"9\">populated place</text><text text-anchor=\"start\" x=\"115\" y=\"187\" font-size=\"9\">artificial geographic entity</text><text text-anchor=\"start\" x=\"27\" y=\"170\" font-size=\"9\">region of space</text><text text-anchor=\"start\" x=\"119\" y=\"110\" font-size=\"9\">artificial object</text><text text-anchor=\"start\" x=\"65\" y=\"91\" font-size=\"9\">spacetime region</text><text text-anchor=\"start\" x=\"195\" y=\"125\" font-size=\"9\">geographic entity</text><text text-anchor=\"start\" x=\"143\" y=\"34\" font-size=\"9\">object</text><text text-anchor=\"start\" x=\"87\" y=\"20\" font-size=\"9\">spatio-temporal entity</text><text text-anchor=\"start\" x=\"204\" y=\"75\" font-size=\"9\">continuant</text><text text-anchor=\"start\" x=\"231\" y=\"36\" font-size=\"9\">entity</text></svg>"
      ],
      "text/plain": [
       "<IPython.core.display.SVG object>"
      ]
     },
     "execution_count": 11,
     "metadata": {},
     "output_type": "execute_result"
    }
   ],
   "source": [
    "graph = load_graph('resolving.tsv') # after resolving\n",
    "exart, exart_nodes, labels, weights, distances = get_path_exart(graph, 'wd:Q7930989')\n",
    "position = get_position(ori_nodes, ori_position, exart_nodes)\n",
    "\n",
    "image = svg_graph(exart, position=position, names=labels, display_node_weight=True, \n",
    "                  node_weights=weights, node_size_max=8, node_size_min=3,\n",
    "                  scores=-distances, scale=1, font_size=9, height=360, width=200)\n",
    "SVG(image)"
   ]
  },
  {
   "cell_type": "code",
   "execution_count": 12,
   "metadata": {},
   "outputs": [
    {
     "data": {
      "image/svg+xml": [
       "<svg xmlns=\"http://www.w3.org/2000/svg\" width=\"378.69013537228005\" height=\"400\">\n",
       "<defs><marker id=\"arrow-gray\" markerWidth=\"10\" markerHeight=\"10\" refX=\"9\" refY=\"3\" orient=\"auto\">\n",
       "<path d=\"M0,0 L0,6 L9,3 z\" fill=\"gray\"/></marker></defs>\n",
       "<path stroke-width=\"1\" stroke=\"gray\" d=\"M 157 380 110 362\" marker-end=\"url(#arrow-gray)\"/>\n",
       "<path stroke-width=\"1\" stroke=\"gray\" d=\"M 186 125 193 82\" marker-end=\"url(#arrow-gray)\"/>\n",
       "<path stroke-width=\"1\" stroke=\"gray\" d=\"M 56 91 77 26\" marker-end=\"url(#arrow-gray)\"/>\n",
       "<path stroke-width=\"1\" stroke=\"gray\" d=\"M 109 110 131 40\" marker-end=\"url(#arrow-gray)\"/>\n",
       "<path stroke-width=\"1\" stroke=\"gray\" d=\"M 78 20 127 33\" marker-end=\"url(#arrow-gray)\"/>\n",
       "<path stroke-width=\"1\" stroke=\"gray\" d=\"M 106 187 182 128\" marker-end=\"url(#arrow-gray)\"/>\n",
       "<path stroke-width=\"1\" stroke=\"gray\" d=\"M 20 170 54 95\" marker-end=\"url(#arrow-gray)\"/>\n",
       "<path stroke-width=\"1\" stroke=\"gray\" d=\"M 106 187 109 116\" marker-end=\"url(#arrow-gray)\"/>\n",
       "<path stroke-width=\"1\" stroke=\"gray\" d=\"M 44 227 21 174\" marker-end=\"url(#arrow-gray)\"/>\n",
       "<path stroke-width=\"1\" stroke=\"gray\" d=\"M 99 241 106 192\" marker-end=\"url(#arrow-gray)\"/>\n",
       "<path stroke-width=\"1\" stroke=\"gray\" d=\"M 118 283 100 245\" marker-end=\"url(#arrow-gray)\"/>\n",
       "<path stroke-width=\"1\" stroke=\"gray\" d=\"M 71 308 45 230\" marker-end=\"url(#arrow-gray)\"/>\n",
       "<path stroke-width=\"1\" stroke=\"gray\" d=\"M 179 319 121 284\" marker-end=\"url(#arrow-gray)\"/>\n",
       "<path stroke-width=\"1\" stroke=\"gray\" d=\"M 71 308 115 284\" marker-end=\"url(#arrow-gray)\"/>\n",
       "<path stroke-width=\"1\" stroke=\"gray\" d=\"M 108 362 72 310\" marker-end=\"url(#arrow-gray)\"/>\n",
       "<path stroke-width=\"1\" stroke=\"gray\" d=\"M 157 380 178 321\" marker-end=\"url(#arrow-gray)\"/>\n",
       "<path stroke-width=\"1\" stroke=\"gray\" d=\"M 194 75 216 42\" marker-end=\"url(#arrow-gray)\"/>\n",
       "<path stroke-width=\"1\" stroke=\"gray\" d=\"M 133 34 213 36\" marker-end=\"url(#arrow-gray)\"/>\n",
       "<circle cx=\"157\" cy=\"380\" r=\"3.0\" style=\"fill:rgb(58, 76, 192);stroke:black;stroke-width:1.0\"/>\n",
       "<circle cx=\"108\" cy=\"362\" r=\"3.0\" style=\"fill:rgb(58, 76, 192);stroke:black;stroke-width:1.0\"/>\n",
       "<circle cx=\"179\" cy=\"319\" r=\"3.0\" style=\"fill:rgb(103, 136, 237);stroke:black;stroke-width:1.0\"/>\n",
       "<circle cx=\"71\" cy=\"308\" r=\"3.0\" style=\"fill:rgb(103, 136, 237);stroke:black;stroke-width:1.0\"/>\n",
       "<circle cx=\"118\" cy=\"283\" r=\"3.8333333333333335\" style=\"fill:rgb(152, 185, 254);stroke:black;stroke-width:1.0\"/>\n",
       "<circle cx=\"44\" cy=\"227\" r=\"3.8333333333333335\" style=\"fill:rgb(152, 185, 254);stroke:black;stroke-width:1.0\"/>\n",
       "<circle cx=\"99\" cy=\"241\" r=\"4.666666666666667\" style=\"fill:rgb(199, 214, 240);stroke:black;stroke-width:1.0\"/>\n",
       "<circle cx=\"106\" cy=\"187\" r=\"5.5\" style=\"fill:rgb(236, 210, 196);stroke:black;stroke-width:1.0\"/>\n",
       "<circle cx=\"20\" cy=\"170\" r=\"4.666666666666667\" style=\"fill:rgb(199, 214, 240);stroke:black;stroke-width:1.0\"/>\n",
       "<circle cx=\"109\" cy=\"110\" r=\"6.333333333333334\" style=\"fill:rgb(246, 169, 138);stroke:black;stroke-width:1.0\"/>\n",
       "<circle cx=\"56\" cy=\"91\" r=\"5.5\" style=\"fill:rgb(236, 210, 196);stroke:black;stroke-width:1.0\"/>\n",
       "<circle cx=\"186\" cy=\"125\" r=\"6.333333333333334\" style=\"fill:rgb(246, 169, 138);stroke:black;stroke-width:1.0\"/>\n",
       "<circle cx=\"133\" cy=\"34\" r=\"7.166666666666667\" style=\"fill:rgb(227, 108, 84);stroke:black;stroke-width:1.0\"/>\n",
       "<circle cx=\"78\" cy=\"20\" r=\"6.333333333333334\" style=\"fill:rgb(246, 169, 138);stroke:black;stroke-width:1.0\"/>\n",
       "<circle cx=\"194\" cy=\"75\" r=\"7.166666666666667\" style=\"fill:rgb(227, 108, 84);stroke:black;stroke-width:1.0\"/>\n",
       "<circle cx=\"220\" cy=\"36\" r=\"8.0\" style=\"fill:rgb(179, 3, 38);stroke:black;stroke-width:1.0\"/>\n",
       "<text text-anchor=\"start\" x=\"163\" y=\"380\" font-size=\"9\">city or town</text><text text-anchor=\"start\" x=\"114\" y=\"362\" font-size=\"9\">urban settlement</text><text text-anchor=\"start\" x=\"185\" y=\"319\" font-size=\"9\">locality</text><text text-anchor=\"start\" x=\"77\" y=\"308\" font-size=\"9\">urban area</text><text text-anchor=\"start\" x=\"125\" y=\"283\" font-size=\"9\">human settlement</text><text text-anchor=\"start\" x=\"51\" y=\"227\" font-size=\"9\">geographic region</text><text text-anchor=\"start\" x=\"107\" y=\"241\" font-size=\"9\">populated place</text><text text-anchor=\"start\" x=\"115\" y=\"187\" font-size=\"9\">artificial geographic entity</text><text text-anchor=\"start\" x=\"27\" y=\"170\" font-size=\"9\">region of space</text><text text-anchor=\"start\" x=\"119\" y=\"110\" font-size=\"9\">artificial object</text><text text-anchor=\"start\" x=\"65\" y=\"91\" font-size=\"9\">spacetime region</text><text text-anchor=\"start\" x=\"195\" y=\"125\" font-size=\"9\">geographic entity</text><text text-anchor=\"start\" x=\"143\" y=\"34\" font-size=\"9\">object</text><text text-anchor=\"start\" x=\"87\" y=\"20\" font-size=\"9\">spatio-temporal entity</text><text text-anchor=\"start\" x=\"204\" y=\"75\" font-size=\"9\">continuant</text><text text-anchor=\"start\" x=\"231\" y=\"36\" font-size=\"9\">entity</text></svg>"
      ],
      "text/plain": [
       "<IPython.core.display.SVG object>"
      ]
     },
     "execution_count": 12,
     "metadata": {},
     "output_type": "execute_result"
    }
   ],
   "source": [
    "graph = load_graph('reducing.tsv') # after reducing\n",
    "exart, exart_nodes, labels, weights, distances = get_path_exart(graph, 'wd:Q7930989')\n",
    "position = get_position(ori_nodes, ori_position, exart_nodes)\n",
    "\n",
    "image = svg_graph(exart, position=position, names=labels, display_node_weight=True, \n",
    "                  node_weights=weights, node_size_max=8, node_size_min=3,\n",
    "                  scores=-distances, scale=1, font_size=9, height=360, width=200)\n",
    "SVG(image)"
   ]
  },
  {
   "cell_type": "code",
   "execution_count": 13,
   "metadata": {},
   "outputs": [
    {
     "data": {
      "image/svg+xml": [
       "<svg xmlns=\"http://www.w3.org/2000/svg\" width=\"378.69013537228005\" height=\"400\">\n",
       "<defs><marker id=\"arrow-gray\" markerWidth=\"10\" markerHeight=\"10\" refX=\"9\" refY=\"3\" orient=\"auto\">\n",
       "<path d=\"M0,0 L0,6 L9,3 z\" fill=\"gray\"/></marker></defs>\n",
       "<path stroke-width=\"1\" stroke=\"gray\" d=\"M 157 380 110 362\" marker-end=\"url(#arrow-gray)\"/>\n",
       "<path stroke-width=\"1\" stroke=\"gray\" d=\"M 108 362 73 311\" marker-end=\"url(#arrow-gray)\"/>\n",
       "<path stroke-width=\"1\" stroke=\"gray\" d=\"M 71 308 45 231\" marker-end=\"url(#arrow-gray)\"/>\n",
       "<path stroke-width=\"1\" stroke=\"gray\" d=\"M 71 308 115 285\" marker-end=\"url(#arrow-gray)\"/>\n",
       "<path stroke-width=\"1\" stroke=\"gray\" d=\"M 118 283 101 245\" marker-end=\"url(#arrow-gray)\"/>\n",
       "<path stroke-width=\"1\" stroke=\"gray\" d=\"M 44 227 22 174\" marker-end=\"url(#arrow-gray)\"/>\n",
       "<path stroke-width=\"1\" stroke=\"gray\" d=\"M 99 241 106 192\" marker-end=\"url(#arrow-gray)\"/>\n",
       "<path stroke-width=\"1\" stroke=\"gray\" d=\"M 20 170 54 96\" marker-end=\"url(#arrow-gray)\"/>\n",
       "<path stroke-width=\"1\" stroke=\"gray\" d=\"M 106 187 109 116\" marker-end=\"url(#arrow-gray)\"/>\n",
       "<path stroke-width=\"1\" stroke=\"gray\" d=\"M 56 91 77 26\" marker-end=\"url(#arrow-gray)\"/>\n",
       "<path stroke-width=\"1\" stroke=\"gray\" d=\"M 106 187 181 129\" marker-end=\"url(#arrow-gray)\"/>\n",
       "<path stroke-width=\"1\" stroke=\"gray\" d=\"M 186 125 193 82\" marker-end=\"url(#arrow-gray)\"/>\n",
       "<path stroke-width=\"1\" stroke=\"gray\" d=\"M 78 20 126 33\" marker-end=\"url(#arrow-gray)\"/>\n",
       "<path stroke-width=\"1\" stroke=\"gray\" d=\"M 109 110 131 40\" marker-end=\"url(#arrow-gray)\"/>\n",
       "<path stroke-width=\"1\" stroke=\"gray\" d=\"M 194 75 216 42\" marker-end=\"url(#arrow-gray)\"/>\n",
       "<path stroke-width=\"1\" stroke=\"gray\" d=\"M 133 34 213 36\" marker-end=\"url(#arrow-gray)\"/>\n",
       "<circle cx=\"157\" cy=\"380\" r=\"3.0\" style=\"fill:rgb(58, 76, 192);stroke:black;stroke-width:1.0\"/>\n",
       "<circle cx=\"108\" cy=\"362\" r=\"3.0\" style=\"fill:rgb(96, 128, 232);stroke:black;stroke-width:1.0\"/>\n",
       "<circle cx=\"71\" cy=\"308\" r=\"3.7142857142857144\" style=\"fill:rgb(138, 173, 253);stroke:black;stroke-width:1.0\"/>\n",
       "<circle cx=\"44\" cy=\"227\" r=\"4.428571428571429\" style=\"fill:rgb(183, 207, 249);stroke:black;stroke-width:1.0\"/>\n",
       "<circle cx=\"118\" cy=\"283\" r=\"4.428571428571429\" style=\"fill:rgb(183, 207, 249);stroke:black;stroke-width:1.0\"/>\n",
       "<circle cx=\"99\" cy=\"241\" r=\"5.142857142857142\" style=\"fill:rgb(219, 220, 222);stroke:black;stroke-width:1.0\"/>\n",
       "<circle cx=\"20\" cy=\"170\" r=\"5.142857142857142\" style=\"fill:rgb(219, 220, 222);stroke:black;stroke-width:1.0\"/>\n",
       "<circle cx=\"106\" cy=\"187\" r=\"5.857142857142858\" style=\"fill:rgb(243, 198, 176);stroke:black;stroke-width:1.0\"/>\n",
       "<circle cx=\"56\" cy=\"91\" r=\"5.857142857142858\" style=\"fill:rgb(243, 198, 176);stroke:black;stroke-width:1.0\"/>\n",
       "<circle cx=\"109\" cy=\"110\" r=\"6.571428571428571\" style=\"fill:rgb(244, 154, 123);stroke:black;stroke-width:1.0\"/>\n",
       "<circle cx=\"78\" cy=\"20\" r=\"6.571428571428571\" style=\"fill:rgb(244, 154, 123);stroke:black;stroke-width:1.0\"/>\n",
       "<circle cx=\"186\" cy=\"125\" r=\"6.571428571428571\" style=\"fill:rgb(244, 154, 123);stroke:black;stroke-width:1.0\"/>\n",
       "<circle cx=\"194\" cy=\"75\" r=\"7.285714285714286\" style=\"fill:rgb(222, 98, 78);stroke:black;stroke-width:1.0\"/>\n",
       "<circle cx=\"133\" cy=\"34\" r=\"7.285714285714286\" style=\"fill:rgb(222, 98, 78);stroke:black;stroke-width:1.0\"/>\n",
       "<circle cx=\"220\" cy=\"36\" r=\"8.0\" style=\"fill:rgb(179, 3, 38);stroke:black;stroke-width:1.0\"/>\n",
       "<text text-anchor=\"start\" x=\"163\" y=\"380\" font-size=\"9\">city or town</text><text text-anchor=\"start\" x=\"114\" y=\"362\" font-size=\"9\">urban settlement</text><text text-anchor=\"start\" x=\"78\" y=\"308\" font-size=\"9\">urban area</text><text text-anchor=\"start\" x=\"51\" y=\"227\" font-size=\"9\">geographic region</text><text text-anchor=\"start\" x=\"126\" y=\"283\" font-size=\"9\">human settlement</text><text text-anchor=\"start\" x=\"107\" y=\"241\" font-size=\"9\">populated place</text><text text-anchor=\"start\" x=\"28\" y=\"170\" font-size=\"9\">region of space</text><text text-anchor=\"start\" x=\"115\" y=\"187\" font-size=\"9\">artificial geographic entity</text><text text-anchor=\"start\" x=\"65\" y=\"91\" font-size=\"9\">spacetime region</text><text text-anchor=\"start\" x=\"119\" y=\"110\" font-size=\"9\">artificial object</text><text text-anchor=\"start\" x=\"87\" y=\"20\" font-size=\"9\">spatio-temporal entity</text><text text-anchor=\"start\" x=\"195\" y=\"125\" font-size=\"9\">geographic entity</text><text text-anchor=\"start\" x=\"204\" y=\"75\" font-size=\"9\">continuant</text><text text-anchor=\"start\" x=\"143\" y=\"34\" font-size=\"9\">object</text><text text-anchor=\"start\" x=\"231\" y=\"36\" font-size=\"9\">entity</text></svg>"
      ],
      "text/plain": [
       "<IPython.core.display.SVG object>"
      ]
     },
     "execution_count": 13,
     "metadata": {},
     "output_type": "execute_result"
    }
   ],
   "source": [
    "graph = load_graph('merging.tsv') # after merging\n",
    "exart, exart_nodes, labels, weights, distances = get_path_exart(graph, 'wd:Q7930989')\n",
    "position = get_position(ori_nodes, ori_position, exart_nodes)\n",
    "\n",
    "image = svg_graph(exart, position=position, names=labels, display_node_weight=True, \n",
    "                  node_weights=weights, node_size_max=8, node_size_min=3,\n",
    "                  scores=-distances, scale=1, font_size=9, height=360, width=200)\n",
    "SVG(image)"
   ]
  },
  {
   "cell_type": "code",
   "execution_count": 14,
   "metadata": {},
   "outputs": [
    {
     "data": {
      "image/svg+xml": [
       "<svg xmlns=\"http://www.w3.org/2000/svg\" width=\"378.69013537228005\" height=\"400\">\n",
       "<defs><marker id=\"arrow-gray\" markerWidth=\"10\" markerHeight=\"10\" refX=\"9\" refY=\"3\" orient=\"auto\">\n",
       "<path d=\"M0,0 L0,6 L9,3 z\" fill=\"gray\"/></marker></defs>\n",
       "<path stroke-width=\"1\" stroke=\"gray\" d=\"M 157 380 110 362\" marker-end=\"url(#arrow-gray)\"/>\n",
       "<path stroke-width=\"1\" stroke=\"gray\" d=\"M 108 362 73 311\" marker-end=\"url(#arrow-gray)\"/>\n",
       "<path stroke-width=\"1\" stroke=\"gray\" d=\"M 71 308 45 231\" marker-end=\"url(#arrow-gray)\"/>\n",
       "<path stroke-width=\"1\" stroke=\"gray\" d=\"M 71 308 115 285\" marker-end=\"url(#arrow-gray)\"/>\n",
       "<path stroke-width=\"1\" stroke=\"gray\" d=\"M 118 283 101 245\" marker-end=\"url(#arrow-gray)\"/>\n",
       "<path stroke-width=\"1\" stroke=\"gray\" d=\"M 44 227 22 174\" marker-end=\"url(#arrow-gray)\"/>\n",
       "<path stroke-width=\"1\" stroke=\"gray\" d=\"M 99 241 106 192\" marker-end=\"url(#arrow-gray)\"/>\n",
       "<path stroke-width=\"1\" stroke=\"gray\" d=\"M 20 170 54 96\" marker-end=\"url(#arrow-gray)\"/>\n",
       "<path stroke-width=\"1\" stroke=\"gray\" d=\"M 106 187 109 116\" marker-end=\"url(#arrow-gray)\"/>\n",
       "<path stroke-width=\"1\" stroke=\"gray\" d=\"M 56 91 77 26\" marker-end=\"url(#arrow-gray)\"/>\n",
       "<path stroke-width=\"1\" stroke=\"gray\" d=\"M 106 187 181 129\" marker-end=\"url(#arrow-gray)\"/>\n",
       "<path stroke-width=\"1\" stroke=\"gray\" d=\"M 186 125 193 82\" marker-end=\"url(#arrow-gray)\"/>\n",
       "<path stroke-width=\"1\" stroke=\"gray\" d=\"M 78 20 126 33\" marker-end=\"url(#arrow-gray)\"/>\n",
       "<path stroke-width=\"1\" stroke=\"gray\" d=\"M 109 110 131 40\" marker-end=\"url(#arrow-gray)\"/>\n",
       "<path stroke-width=\"1\" stroke=\"gray\" d=\"M 194 75 216 42\" marker-end=\"url(#arrow-gray)\"/>\n",
       "<path stroke-width=\"1\" stroke=\"gray\" d=\"M 133 34 213 36\" marker-end=\"url(#arrow-gray)\"/>\n",
       "<circle cx=\"157\" cy=\"380\" r=\"3.0\" style=\"fill:rgb(58, 76, 192);stroke:black;stroke-width:1.0\"/>\n",
       "<circle cx=\"108\" cy=\"362\" r=\"3.0\" style=\"fill:rgb(96, 128, 232);stroke:black;stroke-width:1.0\"/>\n",
       "<circle cx=\"71\" cy=\"308\" r=\"3.7142857142857144\" style=\"fill:rgb(138, 173, 253);stroke:black;stroke-width:1.0\"/>\n",
       "<circle cx=\"44\" cy=\"227\" r=\"4.428571428571429\" style=\"fill:rgb(183, 207, 249);stroke:black;stroke-width:1.0\"/>\n",
       "<circle cx=\"118\" cy=\"283\" r=\"4.428571428571429\" style=\"fill:rgb(183, 207, 249);stroke:black;stroke-width:1.0\"/>\n",
       "<circle cx=\"99\" cy=\"241\" r=\"5.142857142857142\" style=\"fill:rgb(219, 220, 222);stroke:black;stroke-width:1.0\"/>\n",
       "<circle cx=\"20\" cy=\"170\" r=\"5.142857142857142\" style=\"fill:rgb(219, 220, 222);stroke:black;stroke-width:1.0\"/>\n",
       "<circle cx=\"106\" cy=\"187\" r=\"5.857142857142858\" style=\"fill:rgb(243, 198, 176);stroke:black;stroke-width:1.0\"/>\n",
       "<circle cx=\"56\" cy=\"91\" r=\"5.857142857142858\" style=\"fill:rgb(243, 198, 176);stroke:black;stroke-width:1.0\"/>\n",
       "<circle cx=\"109\" cy=\"110\" r=\"6.571428571428571\" style=\"fill:rgb(244, 154, 123);stroke:black;stroke-width:1.0\"/>\n",
       "<circle cx=\"78\" cy=\"20\" r=\"6.571428571428571\" style=\"fill:rgb(244, 154, 123);stroke:black;stroke-width:1.0\"/>\n",
       "<circle cx=\"186\" cy=\"125\" r=\"6.571428571428571\" style=\"fill:rgb(244, 154, 123);stroke:black;stroke-width:1.0\"/>\n",
       "<circle cx=\"194\" cy=\"75\" r=\"7.285714285714286\" style=\"fill:rgb(222, 98, 78);stroke:black;stroke-width:1.0\"/>\n",
       "<circle cx=\"133\" cy=\"34\" r=\"7.285714285714286\" style=\"fill:rgb(222, 98, 78);stroke:black;stroke-width:1.0\"/>\n",
       "<circle cx=\"220\" cy=\"36\" r=\"8.0\" style=\"fill:rgb(179, 3, 38);stroke:black;stroke-width:1.0\"/>\n",
       "<text text-anchor=\"start\" x=\"163\" y=\"380\" font-size=\"9\">city or town</text><text text-anchor=\"start\" x=\"114\" y=\"362\" font-size=\"9\">urban settlement</text><text text-anchor=\"start\" x=\"78\" y=\"308\" font-size=\"9\">urban area</text><text text-anchor=\"start\" x=\"51\" y=\"227\" font-size=\"9\">geographic region</text><text text-anchor=\"start\" x=\"126\" y=\"283\" font-size=\"9\">human settlement</text><text text-anchor=\"start\" x=\"107\" y=\"241\" font-size=\"9\">populated place</text><text text-anchor=\"start\" x=\"28\" y=\"170\" font-size=\"9\">region of space</text><text text-anchor=\"start\" x=\"115\" y=\"187\" font-size=\"9\">artificial geographic entity</text><text text-anchor=\"start\" x=\"65\" y=\"91\" font-size=\"9\">spacetime region</text><text text-anchor=\"start\" x=\"119\" y=\"110\" font-size=\"9\">artificial object</text><text text-anchor=\"start\" x=\"87\" y=\"20\" font-size=\"9\">spatio-temporal entity</text><text text-anchor=\"start\" x=\"195\" y=\"125\" font-size=\"9\">geographic entity</text><text text-anchor=\"start\" x=\"204\" y=\"75\" font-size=\"9\">continuant</text><text text-anchor=\"start\" x=\"143\" y=\"34\" font-size=\"9\">object</text><text text-anchor=\"start\" x=\"231\" y=\"36\" font-size=\"9\">entity</text></svg>"
      ],
      "text/plain": [
       "<IPython.core.display.SVG object>"
      ]
     },
     "execution_count": 14,
     "metadata": {},
     "output_type": "execute_result"
    }
   ],
   "source": [
    "graph = load_graph('rewiring.tsv') # after rewiring\n",
    "exart, exart_nodes, labels, weights, distances = get_path_exart(graph, 'wd:Q7930989')\n",
    "position = get_position(ori_nodes, ori_position, exart_nodes)\n",
    "\n",
    "image = svg_graph(exart, position=position, names=labels, display_node_weight=True, \n",
    "                  node_weights=weights, node_size_max=8, node_size_min=3,\n",
    "                  scores=-distances, scale=1, font_size=9, height=360, width=200)\n",
    "SVG(image)"
   ]
  },
  {
   "cell_type": "code",
   "execution_count": 15,
   "metadata": {},
   "outputs": [
    {
     "data": {
      "image/svg+xml": [
       "<svg xmlns=\"http://www.w3.org/2000/svg\" width=\"378.69013537228005\" height=\"400\">\n",
       "<defs><marker id=\"arrow-gray\" markerWidth=\"10\" markerHeight=\"10\" refX=\"9\" refY=\"3\" orient=\"auto\">\n",
       "<path d=\"M0,0 L0,6 L9,3 z\" fill=\"gray\"/></marker></defs>\n",
       "<path stroke-width=\"1\" stroke=\"gray\" d=\"M 157 380 73 309\" marker-end=\"url(#arrow-gray)\"/>\n",
       "<path stroke-width=\"1\" stroke=\"gray\" d=\"M 71 308 45 230\" marker-end=\"url(#arrow-gray)\"/>\n",
       "<path stroke-width=\"1\" stroke=\"gray\" d=\"M 71 308 115 284\" marker-end=\"url(#arrow-gray)\"/>\n",
       "<path stroke-width=\"1\" stroke=\"gray\" d=\"M 118 283 101 245\" marker-end=\"url(#arrow-gray)\"/>\n",
       "<path stroke-width=\"1\" stroke=\"gray\" d=\"M 44 227 21 174\" marker-end=\"url(#arrow-gray)\"/>\n",
       "<path stroke-width=\"1\" stroke=\"gray\" d=\"M 99 241 106 192\" marker-end=\"url(#arrow-gray)\"/>\n",
       "<path stroke-width=\"1\" stroke=\"gray\" d=\"M 20 170 76 25\" marker-end=\"url(#arrow-gray)\"/>\n",
       "<path stroke-width=\"1\" stroke=\"gray\" d=\"M 106 187 181 129\" marker-end=\"url(#arrow-gray)\"/>\n",
       "<path stroke-width=\"1\" stroke=\"gray\" d=\"M 78 20 127 33\" marker-end=\"url(#arrow-gray)\"/>\n",
       "<path stroke-width=\"1\" stroke=\"gray\" d=\"M 109 110 131 40\" marker-end=\"url(#arrow-gray)\"/>\n",
       "<path stroke-width=\"1\" stroke=\"gray\" d=\"M 106 187 109 115\" marker-end=\"url(#arrow-gray)\"/>\n",
       "<path stroke-width=\"1\" stroke=\"gray\" d=\"M 186 125 218 43\" marker-end=\"url(#arrow-gray)\"/>\n",
       "<path stroke-width=\"1\" stroke=\"gray\" d=\"M 133 34 213 36\" marker-end=\"url(#arrow-gray)\"/>\n",
       "<circle cx=\"157\" cy=\"380\" r=\"3.0\" style=\"fill:rgb(58, 76, 192);stroke:black;stroke-width:1.0\"/>\n",
       "<circle cx=\"71\" cy=\"308\" r=\"3.0\" style=\"fill:rgb(109, 144, 241);stroke:black;stroke-width:1.0\"/>\n",
       "<circle cx=\"44\" cy=\"227\" r=\"4.0\" style=\"fill:rgb(170, 198, 253);stroke:black;stroke-width:1.0\"/>\n",
       "<circle cx=\"118\" cy=\"283\" r=\"4.0\" style=\"fill:rgb(170, 198, 253);stroke:black;stroke-width:1.0\"/>\n",
       "<circle cx=\"99\" cy=\"241\" r=\"5.0\" style=\"fill:rgb(219, 220, 222);stroke:black;stroke-width:1.0\"/>\n",
       "<circle cx=\"20\" cy=\"170\" r=\"5.0\" style=\"fill:rgb(219, 220, 222);stroke:black;stroke-width:1.0\"/>\n",
       "<circle cx=\"106\" cy=\"187\" r=\"6.0\" style=\"fill:rgb(246, 183, 156);stroke:black;stroke-width:1.0\"/>\n",
       "<circle cx=\"78\" cy=\"20\" r=\"6.0\" style=\"fill:rgb(246, 183, 156);stroke:black;stroke-width:1.0\"/>\n",
       "<circle cx=\"186\" cy=\"125\" r=\"7.0\" style=\"fill:rgb(231, 117, 92);stroke:black;stroke-width:1.0\"/>\n",
       "<circle cx=\"133\" cy=\"34\" r=\"7.0\" style=\"fill:rgb(231, 117, 92);stroke:black;stroke-width:1.0\"/>\n",
       "<circle cx=\"109\" cy=\"110\" r=\"6.0\" style=\"fill:rgb(246, 183, 156);stroke:black;stroke-width:1.0\"/>\n",
       "<circle cx=\"220\" cy=\"36\" r=\"8.0\" style=\"fill:rgb(179, 3, 38);stroke:black;stroke-width:1.0\"/>\n",
       "<text text-anchor=\"start\" x=\"163\" y=\"380\" font-size=\"9\">city or town</text><text text-anchor=\"start\" x=\"77\" y=\"308\" font-size=\"9\">urban area</text><text text-anchor=\"start\" x=\"51\" y=\"227\" font-size=\"9\">geographic region</text><text text-anchor=\"start\" x=\"125\" y=\"283\" font-size=\"9\">human settlement</text><text text-anchor=\"start\" x=\"107\" y=\"241\" font-size=\"9\">populated place</text><text text-anchor=\"start\" x=\"28\" y=\"170\" font-size=\"9\">region of space</text><text text-anchor=\"start\" x=\"115\" y=\"187\" font-size=\"9\">artificial geographic entity</text><text text-anchor=\"start\" x=\"87\" y=\"20\" font-size=\"9\">spatio-temporal entity</text><text text-anchor=\"start\" x=\"196\" y=\"125\" font-size=\"9\">geographic entity</text><text text-anchor=\"start\" x=\"143\" y=\"34\" font-size=\"9\">object</text><text text-anchor=\"start\" x=\"118\" y=\"110\" font-size=\"9\">artificial object</text><text text-anchor=\"start\" x=\"231\" y=\"36\" font-size=\"9\">entity</text></svg>"
      ],
      "text/plain": [
       "<IPython.core.display.SVG object>"
      ]
     },
     "execution_count": 15,
     "metadata": {},
     "output_type": "execute_result"
    }
   ],
   "source": [
    "graph = load_graph('final.tsv') # after filtering (post-processing)\n",
    "exart, exart_nodes, labels, weights, distances = get_path_exart(graph, 'wd:Q7930989')\n",
    "position = get_position(ori_nodes, ori_position, exart_nodes)\n",
    "\n",
    "image = svg_graph(exart, position=position, names=labels, display_node_weight=True, \n",
    "                  node_weights=weights, node_size_max=8, node_size_min=3,\n",
    "                  scores=-distances, scale=1, font_size=9, height=360, width=200)\n",
    "SVG(image)"
   ]
  },
  {
   "cell_type": "markdown",
   "metadata": {},
   "source": [
    "* HTML Visualization"
   ]
  },
  {
   "cell_type": "code",
   "execution_count": 2,
   "metadata": {},
   "outputs": [
    {
     "name": "stdout",
     "output_type": "stream",
     "text": [
      "HTML file generated: wikc.html\n"
     ]
    }
   ],
   "source": [
    "from graph_utils import visualize_taxonomy_by_html\n",
    "from collections import defaultdict\n",
    "\n",
    "GRAPH_PATH = './data/taxonomies/'\n",
    "cleanWikiTaxonDown = defaultdict(set)\n",
    "with open(GRAPH_PATH+'final.tsv', 'r') as taxoreader:\n",
    "    for line in taxoreader:\n",
    "        child, parent = line.strip().split('\\t')\n",
    "        cleanWikiTaxonDown[parent].add(child)\n",
    "\n",
    "root = 'wd:Q35120'\n",
    "visualize_taxonomy_by_html(root, cleanWikiTaxonDown, cls2label)"
   ]
  },
  {
   "cell_type": "code",
   "execution_count": null,
   "metadata": {},
   "outputs": [],
   "source": []
  }
 ],
 "metadata": {
  "kernelspec": {
   "display_name": "pytorch",
   "language": "python",
   "name": "python3"
  },
  "language_info": {
   "codemirror_mode": {
    "name": "ipython",
    "version": 3
   },
   "file_extension": ".py",
   "mimetype": "text/x-python",
   "name": "python",
   "nbconvert_exporter": "python",
   "pygments_lexer": "ipython3",
   "version": "3.9.19"
  }
 },
 "nbformat": 4,
 "nbformat_minor": 2
}
