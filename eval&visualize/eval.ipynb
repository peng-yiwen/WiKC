{
 "cells": [
  {
   "cell_type": "code",
   "execution_count": 1,
   "metadata": {},
   "outputs": [],
   "source": [
    "import numpy as np\n",
    "from collections import defaultdict\n",
    "from tqdm import tqdm"
   ]
  },
  {
   "cell_type": "code",
   "execution_count": 2,
   "metadata": {},
   "outputs": [],
   "source": [
    "# clean_path = \"/home/infres/ypeng-21/work/Taxon_clean/LLM/results/eval/cleanWiki_eval_1k.txt\"\n",
    "ori_path = \"/home/infres/ypeng-21/work/Taxon_clean/LLM/results/eval/oriWiki_eval_1k.txt\""
   ]
  },
  {
   "cell_type": "code",
   "execution_count": 3,
   "metadata": {},
   "outputs": [],
   "source": [
    "total_number_per_depth = defaultdict(int)\n",
    "correct_number_per_depth = defaultdict(int)\n",
    "with open(ori_path, \"r\") as file:\n",
    "    for line in file:\n",
    "        inst, cls, depth, llm_ans = line.strip().split(\"\\t\")\n",
    "        total_number_per_depth[int(depth)] += 1\n",
    "        if llm_ans == \"True\":\n",
    "            correct_number_per_depth[int(depth)] += 1\n",
    "        if llm_ans == \"None\": # need to be reprompted, seem as correct.\n",
    "            correct_number_per_depth[int(depth)] += 1"
   ]
  },
  {
   "cell_type": "code",
   "execution_count": 4,
   "metadata": {},
   "outputs": [],
   "source": [
    "res = {\n",
    "    \"0-5\":{\n",
    "        \"total\": 0,\n",
    "        \"correct\": 0\n",
    "    },\n",
    "    \"5-10\":{\n",
    "        \"interval\": (5, 10),\n",
    "        \"total\": 0,\n",
    "        \"correct\": 0\n",
    "    },\n",
    "    \"10-15\":{\n",
    "        \"interval\": (10, 15),\n",
    "        \"total\": 0,\n",
    "        \"correct\": 0\n",
    "    },\n",
    "    \"15-20\":{\n",
    "        \"interval\": (15, 20),\n",
    "        \"total\": 0,\n",
    "        \"correct\": 0\n",
    "    },\n",
    "}"
   ]
  },
  {
   "cell_type": "code",
   "execution_count": 5,
   "metadata": {},
   "outputs": [
    {
     "name": "stderr",
     "output_type": "stream",
     "text": [
      "100%|██████████| 13/13 [00:00<00:00, 235025.66it/s]\n"
     ]
    }
   ],
   "source": [
    "for depth in tqdm(total_number_per_depth):\n",
    "    if depth in correct_number_per_depth:\n",
    "        if depth < 5:\n",
    "            res['0-5']['total'] += total_number_per_depth[depth]\n",
    "            res['0-5']['correct'] += correct_number_per_depth[depth]\n",
    "        elif depth < 10:\n",
    "            res['5-10']['total'] += total_number_per_depth[depth]\n",
    "            res['5-10']['correct'] += correct_number_per_depth[depth]\n",
    "        elif depth < 15:\n",
    "            res['10-15']['total'] += total_number_per_depth[depth]\n",
    "            res['10-15']['correct'] += correct_number_per_depth[depth]\n",
    "        else:\n",
    "            res['15-20']['total'] += total_number_per_depth[depth]\n",
    "            res['15-20']['correct'] += correct_number_per_depth[depth]"
   ]
  },
  {
   "cell_type": "code",
   "execution_count": 6,
   "metadata": {},
   "outputs": [
    {
     "name": "stderr",
     "output_type": "stream",
     "text": [
      "100%|██████████| 4/4 [00:00<00:00, 56488.94it/s]"
     ]
    },
    {
     "name": "stdout",
     "output_type": "stream",
     "text": [
      "0-5: 0.40 (12238/30387)\n",
      "5-10: 0.47 (7231/15433)\n",
      "10-15: 0.31 (29/95)\n",
      "Macro: 0.42 (19498/45915)\n"
     ]
    },
    {
     "name": "stderr",
     "output_type": "stream",
     "text": [
      "\n"
     ]
    }
   ],
   "source": [
    "macro_total = 0\n",
    "macro_correct = 0\n",
    "for interval in tqdm(res):\n",
    "    total = res[interval]['total']\n",
    "    correct = res[interval]['correct']\n",
    "    macro_total += total\n",
    "    macro_correct += correct\n",
    "    if total > 0:\n",
    "        acc = correct / total\n",
    "        print(f\"{interval}: {acc:.2f} ({correct}/{total})\")\n",
    "print(f\"Macro: {macro_correct/macro_total:.2f} ({macro_correct}/{macro_total})\")"
   ]
  },
  {
   "cell_type": "code",
   "execution_count": null,
   "metadata": {},
   "outputs": [],
   "source": []
  },
  {
   "cell_type": "code",
   "execution_count": null,
   "metadata": {},
   "outputs": [],
   "source": []
  },
  {
   "cell_type": "code",
   "execution_count": null,
   "metadata": {},
   "outputs": [],
   "source": []
  }
 ],
 "metadata": {
  "kernelspec": {
   "display_name": "pytorch",
   "language": "python",
   "name": "python3"
  },
  "language_info": {
   "codemirror_mode": {
    "name": "ipython",
    "version": 3
   },
   "file_extension": ".py",
   "mimetype": "text/x-python",
   "name": "python",
   "nbconvert_exporter": "python",
   "pygments_lexer": "ipython3",
   "version": "3.10.10"
  }
 },
 "nbformat": 4,
 "nbformat_minor": 2
}
