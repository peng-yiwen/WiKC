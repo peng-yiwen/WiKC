{
 "cells": [
  {
   "cell_type": "markdown",
   "metadata": {},
   "source": [
    "## Get Valid metaclasses\n",
    "* pre-requis file: metaclasses.csv: query by wikidata service; instances of metaclass\n",
    "\n",
    "``` shell\n",
    "    SELECT ?item ?itemLabel WHERE {\n",
    "      ?item wdt:P31 wd:Q19478619 (metaclass)\n",
    "      SERVICE wikibase:label { bd:serviceParam wikibase:language \"en\". }\n",
    "    }\n",
    "```"
   ]
  },
  {
   "cell_type": "code",
   "execution_count": 1,
   "metadata": {},
   "outputs": [
    {
     "name": "stderr",
     "output_type": "stream",
     "text": [
      "[nltk_data] Downloading package punkt to\n",
      "[nltk_data]     /home/infres/ypeng-21/nltk_data...\n",
      "[nltk_data]   Package punkt is already up-to-date!\n",
      "[nltk_data] Downloading package averaged_perceptron_tagger to\n",
      "[nltk_data]     /home/infres/ypeng-21/nltk_data...\n",
      "[nltk_data]   Package averaged_perceptron_tagger is already up-to-\n",
      "[nltk_data]       date!\n"
     ]
    },
    {
     "data": {
      "text/plain": [
       "True"
      ]
     },
     "execution_count": 1,
     "metadata": {},
     "output_type": "execute_result"
    }
   ],
   "source": [
    "import pandas as pd\n",
    "import nltk\n",
    "from nltk.tokenize import word_tokenize\n",
    "from nltk import pos_tag\n",
    "nltk.download('punkt')\n",
    "nltk.download('averaged_perceptron_tagger')"
   ]
  },
  {
   "cell_type": "code",
   "execution_count": 2,
   "metadata": {},
   "outputs": [],
   "source": [
    "df_meta = pd.read_csv('../raw_data/metaclasses.csv')"
   ]
  },
  {
   "cell_type": "markdown",
   "metadata": {},
   "source": [
    "* Some classes are \"instance_of\" metaclass(Q19478619) or second-order class(Q24017414), which are reasonable. So we also keep reasonable classes which are instance of useful metaclasses.\n",
    "* Keep Important metaclasses:\n",
    "    * labels have keywords: type, class, style, genre, form, category, \"occupation/profession\", \"field of work\", \"classification\".\n",
    "* Post-processing:\n",
    "    * class labels have preposition. e.g. state-owned enterprise of Russia (Q30590861) -> P31 -> type of business entity in Russia (Q7860948); not what we want, as Russia should go as an object by the property 'country'(P17). Preposition exclude: \"of\"\n",
    "    * exclude classes with labels having \"property/properties\". e.g. type of Wikidata property (Q107649491) -> so the type is more like a property than a class itself.\n",
    "    * exclude \"BFO classes\"."
   ]
  },
  {
   "cell_type": "code",
   "execution_count": 3,
   "metadata": {},
   "outputs": [],
   "source": [
    "keywords = [\"type\", \"class\", \"style\", \"genre\", \"form\", \"category\", \"classification\"]\n",
    "exact_match = ['occupation', 'profession', 'field of work']\n",
    "def valid_metaclass(input_string):\n",
    "    # Check if the input string is a valid metaclass\n",
    "    tokens = word_tokenize(input_string)\n",
    "    for keyword in keywords:\n",
    "        # keyword should be the first or last word in the input string\n",
    "        if keyword == tokens[0] or keyword == tokens[-1]:\n",
    "            return True\n",
    "        else:\n",
    "            for match in exact_match:\n",
    "                if match == input_string:\n",
    "                    return True\n",
    "    return False"
   ]
  },
  {
   "cell_type": "code",
   "execution_count": 4,
   "metadata": {},
   "outputs": [],
   "source": [
    "def contain_preps(input_string):\n",
    "    # Check if the input string is an excluded metaclass\n",
    "    tagged = pos_tag(word_tokenize(input_string))\n",
    "    return any(tag == 'IN' and word.lower() != 'of' for word, tag in tagged)"
   ]
  },
  {
   "cell_type": "code",
   "execution_count": 5,
   "metadata": {},
   "outputs": [],
   "source": [
    "def contain_property(input_string):\n",
    "    if 'property' in input_string or 'properties' in input_string:\n",
    "        return True\n",
    "    return False\n",
    "\n",
    "def contain_BFO(input_string):\n",
    "    if 'BFO' in input_string:\n",
    "        return True\n",
    "    return False"
   ]
  },
  {
   "cell_type": "code",
   "execution_count": 6,
   "metadata": {},
   "outputs": [],
   "source": [
    "df_meta['valid_metaclass'] = df_meta['itemLabel'].apply(valid_metaclass)\n",
    "df_meta['contain_preps'] = df_meta['itemLabel'].apply(contain_preps)\n",
    "df_meta['contain_property'] = df_meta['itemLabel'].apply(contain_property)\n",
    "df_meta['contain_BFO'] = df_meta['itemLabel'].apply(contain_BFO)"
   ]
  },
  {
   "cell_type": "code",
   "execution_count": 7,
   "metadata": {},
   "outputs": [],
   "source": [
    "df_meta_filter = df_meta[df_meta['valid_metaclass'] & ~df_meta['contain_preps'] \n",
    "        & ~df_meta['contain_property'] & ~df_meta['contain_BFO']].loc[:, ['item', 'itemLabel']]"
   ]
  },
  {
   "cell_type": "code",
   "execution_count": 8,
   "metadata": {},
   "outputs": [],
   "source": [
    "df_meta_filter['qid'] = df_meta_filter['item'].apply(lambda x: x.replace('http://www.wikidata.org/entity/', 'wd:'))"
   ]
  },
  {
   "cell_type": "code",
   "execution_count": 9,
   "metadata": {},
   "outputs": [
    {
     "data": {
      "text/html": [
       "<div>\n",
       "<style scoped>\n",
       "    .dataframe tbody tr th:only-of-type {\n",
       "        vertical-align: middle;\n",
       "    }\n",
       "\n",
       "    .dataframe tbody tr th {\n",
       "        vertical-align: top;\n",
       "    }\n",
       "\n",
       "    .dataframe thead th {\n",
       "        text-align: right;\n",
       "    }\n",
       "</style>\n",
       "<table border=\"1\" class=\"dataframe\">\n",
       "  <thead>\n",
       "    <tr style=\"text-align: right;\">\n",
       "      <th></th>\n",
       "      <th>qid</th>\n",
       "      <th>itemLabel</th>\n",
       "    </tr>\n",
       "  </thead>\n",
       "  <tbody>\n",
       "    <tr>\n",
       "      <th>2</th>\n",
       "      <td>wd:Q28640</td>\n",
       "      <td>profession</td>\n",
       "    </tr>\n",
       "    <tr>\n",
       "      <th>3</th>\n",
       "      <td>wd:Q32880</td>\n",
       "      <td>architectural style</td>\n",
       "    </tr>\n",
       "    <tr>\n",
       "      <th>5</th>\n",
       "      <td>wd:Q188451</td>\n",
       "      <td>music genre</td>\n",
       "    </tr>\n",
       "    <tr>\n",
       "      <th>6</th>\n",
       "      <td>wd:Q190087</td>\n",
       "      <td>data type</td>\n",
       "    </tr>\n",
       "    <tr>\n",
       "      <th>10</th>\n",
       "      <td>wd:Q223393</td>\n",
       "      <td>literary genre</td>\n",
       "    </tr>\n",
       "    <tr>\n",
       "      <th>...</th>\n",
       "      <td>...</td>\n",
       "      <td>...</td>\n",
       "    </tr>\n",
       "    <tr>\n",
       "      <th>1050</th>\n",
       "      <td>wd:Q114570820</td>\n",
       "      <td>rocket class</td>\n",
       "    </tr>\n",
       "    <tr>\n",
       "      <th>1059</th>\n",
       "      <td>wd:Q115483827</td>\n",
       "      <td>sex-specific tissue type</td>\n",
       "    </tr>\n",
       "    <tr>\n",
       "      <th>1063</th>\n",
       "      <td>wd:Q116123132</td>\n",
       "      <td>lens type</td>\n",
       "    </tr>\n",
       "    <tr>\n",
       "      <th>1067</th>\n",
       "      <td>wd:Q116766962</td>\n",
       "      <td>Hindustani adjective class</td>\n",
       "    </tr>\n",
       "    <tr>\n",
       "      <th>1069</th>\n",
       "      <td>wd:Q117023459</td>\n",
       "      <td>type of institution</td>\n",
       "    </tr>\n",
       "  </tbody>\n",
       "</table>\n",
       "<p>427 rows × 2 columns</p>\n",
       "</div>"
      ],
      "text/plain": [
       "                qid                   itemLabel\n",
       "2         wd:Q28640                  profession\n",
       "3         wd:Q32880         architectural style\n",
       "5        wd:Q188451                 music genre\n",
       "6        wd:Q190087                   data type\n",
       "10       wd:Q223393              literary genre\n",
       "...             ...                         ...\n",
       "1050  wd:Q114570820                rocket class\n",
       "1059  wd:Q115483827    sex-specific tissue type\n",
       "1063  wd:Q116123132                   lens type\n",
       "1067  wd:Q116766962  Hindustani adjective class\n",
       "1069  wd:Q117023459         type of institution\n",
       "\n",
       "[427 rows x 2 columns]"
      ]
     },
     "execution_count": 9,
     "metadata": {},
     "output_type": "execute_result"
    }
   ],
   "source": [
    "df_meta_filter.loc[:, ['qid', 'itemLabel']]"
   ]
  },
  {
   "cell_type": "code",
   "execution_count": 10,
   "metadata": {},
   "outputs": [],
   "source": [
    "df_meta_filter.loc[:, ['qid', 'itemLabel']].to_csv('metaclasses_filter.csv', index=False)"
   ]
  },
  {
   "cell_type": "code",
   "execution_count": 1,
   "metadata": {},
   "outputs": [],
   "source": [
    "import utils"
   ]
  },
  {
   "cell_type": "code",
   "execution_count": null,
   "metadata": {},
   "outputs": [],
   "source": [
    "utils.cls_mentions # cumulative count"
   ]
  },
  {
   "cell_type": "code",
   "execution_count": null,
   "metadata": {},
   "outputs": [],
   "source": []
  },
  {
   "cell_type": "code",
   "execution_count": null,
   "metadata": {},
   "outputs": [],
   "source": []
  }
 ],
 "metadata": {
  "kernelspec": {
   "display_name": "labenv",
   "language": "python",
   "name": "python3"
  },
  "language_info": {
   "codemirror_mode": {
    "name": "ipython",
    "version": 3
   },
   "file_extension": ".py",
   "mimetype": "text/x-python",
   "name": "python",
   "nbconvert_exporter": "python",
   "pygments_lexer": "ipython3",
   "version": "3.10.10"
  }
 },
 "nbformat": 4,
 "nbformat_minor": 2
}
