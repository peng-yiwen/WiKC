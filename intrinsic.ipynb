{
 "cells": [
  {
   "cell_type": "markdown",
   "metadata": {},
   "source": [
    "### Intrinsic Evaluation"
   ]
  },
  {
   "cell_type": "markdown",
   "metadata": {},
   "source": [
    "* Inclusion of the 40 upper-level classes of [YAGO 4.5](https://yago-knowledge.org/data/yago4.5/design-document.pdf) in WiKC"
   ]
  },
  {
   "cell_type": "code",
   "execution_count": 1,
   "metadata": {},
   "outputs": [],
   "source": [
    "import networkx as nx\n",
    "from graph_utils import load_graph_checkpoint\n",
    "\n",
    "GRAPH_PATH = './data/taxonomies/'\n",
    "graph = load_graph_checkpoint(GRAPH_PATH, 'final.tsv')"
   ]
  },
  {
   "cell_type": "code",
   "execution_count": 8,
   "metadata": {},
   "outputs": [
    {
     "name": "stdout",
     "output_type": "stream",
     "text": [
      "-Creative work- IncludeCls: True  **Depth:  4\n",
      "-Creative work- IncludeCls: True\n",
      "-Book- IncludeCls: True  **Depth:  3\n",
      "-Newspaper- IncludeCls: True  **Depth:  4\n",
      "-TVSeries- IncludeCls: True  **Depth:  6\n",
      "-MusicComposition- IncludeCls: True **Depth:  7\n",
      "-MusicComposition- IncludeCls: True **Depth:  6\n",
      "-Movie- IncludeCls: True  **Depth:  6\n",
      "-Event- IncludeCls: True  **Depth:  4\n",
      "-Event- IncludeCls: True  **Depth:  5\n",
      "-Election- IncludeCls: True  **Depth:  6\n",
      "-Organization- IncludeCls: True  **Depth:  4\n",
      "-Corporation- IncludeCls: True  **Depth:  5\n",
      "-Airline- IncludeCls: True  **Depth:  8\n",
      "-EducationalOrganization- IncludeCls: True  **Depth:  5\n",
      "-PerformingGroup- IncludeCls: True  **Depth:  5\n",
      "-MusicGroup- IncludeCls: True  **Depth:  6\n",
      "-Person- IncludeCls: True  **Depth:  4\n",
      "-Worker- IncludeCls: True  **Depth:  6\n",
      "-Worker- IncludeCls: True  **Depth:  5\n",
      "-Creator- IncludeCls: True  **Depth:  6\n",
      "-Academic- IncludeCls: True  **Depth:  6\n",
      "-SportsPerson- IncludeCls: True  **Depth:  5\n",
      "-Politician- IncludeCls: True  **Depth:  7\n",
      "-AdministrativeArea- IncludeCls: True  **Depth:  7\n",
      "-City- IncludeCls: True  **Depth:  6\n",
      "-Country- IncludeCls: True  **Depth:  8\n",
      "-Landform- IncludeCls: True  **Depth:  6\n",
      "-Landform- IncludeCls: True  **Depth:  4\n",
      "-Landform- IncludeCls: True  **Depth:  3\n",
      "-Landform- IncludeCls: True  **Depth:  5\n",
      "-Landform- IncludeCls: True  **Depth:  5\n",
      "-Landform- IncludeCls: True  **Depth:  4\n",
      "-BodyOfWater- IncludeCls: True  **Depth:  4\n",
      "-Continent- IncludeCls: True  **Depth:  5\n",
      "-HumanMadeGeographicalEntity- IncludeCls: True  **Depth:  4\n",
      "-HumanMadeGeographicalEntity- IncludeCls: True  **Depth:  2\n",
      "-Way- IncludeCls: True  **Depth:  4\n",
      "-Airport- IncludeCls: True  **Depth:  7\n",
      "-AstronomicalObject- IncludeCls: True  **Depth:  4\n",
      "-Product- IncludeCls: True  **Depth:  2\n",
      "-Taxon- IncludeCls: False\n",
      "-Award- IncludeCls: True  **Depth:  3\n",
      "-belief system- IncludeCls: True  **Depth:  3\n",
      "-Language- IncludeCls: True  **Depth:  3\n",
      "-Gender- IncludeCls: False\n",
      "-FictionalEntity- IncludeCls: True  **Depth:  2\n",
      "-FictionalEntity- IncludeCls: True  **Depth:  1\n",
      "-FictionalEntity- IncludeCls: True  **Depth:  1\n",
      "-FictionalEntity- IncludeCls: True  **Depth:  2\n"
     ]
    }
   ],
   "source": [
    "# Check if important classes are still in the graph\n",
    "# Refer to YAGO4.5 design file: https://yago-knowledge.org/data/yago4.5/\n",
    "# Creative work; Q17537576; Q386724\n",
    "print(\"-Creative work-\", \"IncludeCls:\", graph.has_node('wd:Q17537576'), \n",
    "      \" **Depth: \", nx.shortest_path_length(graph, source='wd:Q35120', target='wd:Q17537576'))\n",
    "print(\"-Creative work-\", \"IncludeCls:\", graph.has_node('wd:Q386724'),\n",
    "      \" **Depth: \", nx.shortest_path_length(graph, source='wd:Q35120', target='wd:Q386724'))\n",
    "# Book; Q571\n",
    "print(\"-Book-\", \"IncludeCls:\", graph.has_node('wd:Q571'), \n",
    "      \" **Depth: \", nx.shortest_path_length(graph, source='wd:Q35120', target='wd:Q571'))\n",
    "# Newspaper; Q11032\n",
    "print(\"-Newspaper-\", \"IncludeCls:\", graph.has_node('wd:Q11032'), \n",
    "      \" **Depth: \", nx.shortest_path_length(graph, source='wd:Q35120', target='wd:Q11032'))\n",
    "# TVSeries; Q5398426\n",
    "print(\"-TVSeries-\", \"IncludeCls:\", graph.has_node('wd:Q5398426'), \n",
    "      \" **Depth: \", nx.shortest_path_length(graph, source='wd:Q35120', target='wd:Q5398426'))\n",
    "# MusicComposition; Q207628; Q2188189\n",
    "print(\"-MusicComposition-\", \"IncludeCls:\", graph.has_node('wd:Q207628'),\n",
    "      \"**Depth: \", nx.shortest_path_length(graph, source='wd:Q35120', target='wd:Q207628'))\n",
    "print(\"-MusicComposition-\", \"IncludeCls:\", graph.has_node('wd:Q2188189'),\n",
    "      \"**Depth: \", nx.shortest_path_length(graph, source='wd:Q35120', target='wd:Q2188189'))\n",
    "# Movie, Q11424\n",
    "print(\"-Movie-\", \"IncludeCls:\", graph.has_node('wd:Q11424'), \n",
    "      \" **Depth: \", nx.shortest_path_length(graph, source='wd:Q35120', target='wd:Q11424'))\n",
    "# Event, Q1190554; Q1656682\n",
    "print(\"-Event-\", \"IncludeCls:\", graph.has_node('wd:Q1190554'),\n",
    "        \" **Depth: \", nx.shortest_path_length(graph, source='wd:Q35120', target='wd:Q1190554'))\n",
    "print(\"-Event-\", \"IncludeCls:\", graph.has_node('wd:Q1656682'),\n",
    "        \" **Depth: \", nx.shortest_path_length(graph, source='wd:Q35120', target='wd:Q1656682'))\n",
    "# Election, Q40231\n",
    "print(\"-Election-\", \"IncludeCls:\", graph.has_node('wd:Q40231'),\n",
    "        \" **Depth: \", nx.shortest_path_length(graph, source='wd:Q35120', target='wd:Q40231'))\n",
    "# Organization, Q43229\n",
    "print(\"-Organization-\", \"IncludeCls:\", graph.has_node('wd:Q43229'),\n",
    "        \" **Depth: \", nx.shortest_path_length(graph, source='wd:Q35120', target='wd:Q43229'))\n",
    "# Corporation, Q783794; Q4830453\n",
    "print(\"-Corporation-\", \"IncludeCls:\", graph.has_node('wd:Q4830453'),\n",
    "        \" **Depth: \", nx.shortest_path_length(graph, source='wd:Q35120', target='wd:Q4830453'))\n",
    "# Airline, Q46970\n",
    "print(\"-Airline-\", \"IncludeCls:\", graph.has_node('wd:Q46970'), \n",
    "        \" **Depth: \", nx.shortest_path_length(graph, source='wd:Q35120', target='wd:Q46970'))\n",
    "# EducationalOrganization, Q5341295\n",
    "print(\"-EducationalOrganization-\", \"IncludeCls:\", graph.has_node('wd:Q5341295'),\n",
    "        \" **Depth: \", nx.shortest_path_length(graph, source='wd:Q35120', target='wd:Q5341295'))\n",
    "# PerformingGroup, Q105815710\n",
    "print(\"-PerformingGroup-\", \"IncludeCls:\", graph.has_node('wd:Q105815710'),\n",
    "        \" **Depth: \", nx.shortest_path_length(graph, source='wd:Q35120', target='wd:Q105815710'))\n",
    "# MusicGroup, Q2088357\n",
    "print(\"-MusicGroup-\", \"IncludeCls:\", graph.has_node('wd:Q2088357'),\n",
    "        \" **Depth: \", nx.shortest_path_length(graph, source='wd:Q35120', target='wd:Q2088357'))\n",
    "# Person, Q5; Q215627\n",
    "print(\"-Person-\", \"IncludeCls:\", graph.has_node('wd:Q215627'),\n",
    "        \" **Depth: \", nx.shortest_path_length(graph, source='wd:Q35120', target='wd:Q215627'))\n",
    "# Worker, Q702269, Q327055\n",
    "print(\"-Worker-\", \"IncludeCls:\", graph.has_node('wd:Q702269'),\n",
    "        \" **Depth: \", nx.shortest_path_length(graph, source='wd:Q35120', target='wd:Q702269'))\n",
    "print(\"-Worker-\", \"IncludeCls:\", graph.has_node('wd:Q327055'),\n",
    "        \" **Depth: \", nx.shortest_path_length(graph, source='wd:Q35120', target='wd:Q327055'))\n",
    "# Creator, Q483501\n",
    "print(\"-Creator-\", \"IncludeCls:\", graph.has_node('wd:Q483501'), \n",
    "        \" **Depth: \", nx.shortest_path_length(graph, source='wd:Q35120', target='wd:Q483501'))\n",
    "# Academic, Q66666685\n",
    "# print(\"-Academic-\", \"IncludeCls:\", graph.has_node('wd:Q66666685'))\n",
    "print(\"-Academic-\", \"IncludeCls:\", graph.has_node('wd:Q3400985'),\n",
    "        \" **Depth: \", nx.shortest_path_length(graph, source='wd:Q35120', target='wd:Q3400985'))\n",
    "# SportsPerson, Q50995749\n",
    "print(\"-SportsPerson-\", \"IncludeCls:\", graph.has_node('wd:Q50995749'),\n",
    "        \" **Depth: \", nx.shortest_path_length(graph, source='wd:Q35120', target='wd:Q50995749'))\n",
    "# Politician, Q82955\n",
    "print(\"-Politician-\", \"IncludeCls:\", graph.has_node('wd:Q82955'),\n",
    "        \" **Depth: \", nx.shortest_path_length(graph, source='wd:Q35120', target='wd:Q82955'))\n",
    "# AdministrativeArea, Q56061\n",
    "print(\"-AdministrativeArea-\", \"IncludeCls:\", graph.has_node('wd:Q56061'),\n",
    "        \" **Depth: \", nx.shortest_path_length(graph, source='wd:Q35120', target='wd:Q56061'))\n",
    "# # City, Q515, Q7930989\n",
    "# print(\"-City-\", \"IncludeCls:\", graph.has_node('wd:Q515'),\n",
    "#         \" **Depth: \", nx.shortest_path_length(graph, source='wd:Q35120', target='wd:Q515'))\n",
    "print(\"-City-\", \"IncludeCls:\", graph.has_node('wd:Q7930989'), \n",
    "        \" **Depth: \", nx.shortest_path_length(graph, source='wd:Q35120', target='wd:Q7930989'))\n",
    "# Country, Q6256\n",
    "print(\"-Country-\", \"IncludeCls:\", graph.has_node('wd:Q6256'), \n",
    "        \" **Depth: \", nx.shortest_path_length(graph, source='wd:Q35120', target='wd:Q6256'))\n",
    "# Landform, Q14524493, Q205895, Q2221906, Q35145263, Q271669, Q3622002, Q82794\n",
    "print(\"-Landform-\", \"IncludeCls:\", graph.has_node('wd:Q14524493'), \n",
    "        \" **Depth: \", nx.shortest_path_length(graph, source='wd:Q35120', target='wd:Q14524493'))\n",
    "print(\"-Landform-\", \"IncludeCls:\", graph.has_node('wd:Q205895'),\n",
    "        \" **Depth: \", nx.shortest_path_length(graph, source='wd:Q35120', target='wd:Q205895'))\n",
    "print(\"-Landform-\", \"IncludeCls:\", graph.has_node('wd:Q35145263'),\n",
    "        \" **Depth: \", nx.shortest_path_length(graph, source='wd:Q35120', target='wd:Q35145263'))\n",
    "print(\"-Landform-\", \"IncludeCls:\", graph.has_node('wd:Q271669'),\n",
    "        \" **Depth: \", nx.shortest_path_length(graph, source='wd:Q35120', target='wd:Q271669'))\n",
    "print(\"-Landform-\", \"IncludeCls:\", graph.has_node('wd:Q3622002'),\n",
    "        \" **Depth: \", nx.shortest_path_length(graph, source='wd:Q35120', target='wd:Q3622002'))\n",
    "print(\"-Landform-\", \"IncludeCls:\", graph.has_node('wd:Q82794'),\n",
    "        \" **Depth: \", nx.shortest_path_length(graph, source='wd:Q35120', target='wd:Q82794'))\n",
    "# BodyOfWater, Q15324, Q116126039\n",
    "print(\"-BodyOfWater-\", \"IncludeCls:\", graph.has_node('wd:Q15324'),\n",
    "        \" **Depth: \", nx.shortest_path_length(graph, source='wd:Q35120', target='wd:Q15324'))\n",
    "# Continent, Q5107\n",
    "print(\"-Continent-\", \"IncludeCls:\", graph.has_node('wd:Q5107'),\n",
    "        \" **Depth: \", nx.shortest_path_length(graph, source='wd:Q35120', target='wd:Q5107'))\n",
    "# HumanMadeGeographicalEntity, Q811979, Q811430, Q811463, Q35145743\n",
    "print(\"-HumanMadeGeographicalEntity-\", \"IncludeCls:\", graph.has_node('wd:Q811979'),\n",
    "        \" **Depth: \", nx.shortest_path_length(graph, source='wd:Q35120', target='wd:Q811979'))\n",
    "print(\"-HumanMadeGeographicalEntity-\", \"IncludeCls:\", graph.has_node('wd:Q35145743'),\n",
    "        \" **Depth: \", nx.shortest_path_length(graph, source='wd:Q35120', target='wd:Q35145743'))\n",
    "# Way, Q83620\n",
    "print(\"-Way-\", \"IncludeCls:\", graph.has_node('wd:Q83620'),\n",
    "        \" **Depth: \", nx.shortest_path_length(graph, source='wd:Q35120', target='wd:Q83620'))\n",
    "# Airport, Q1248784\n",
    "print(\"-Airport-\", \"IncludeCls:\", graph.has_node('wd:Q1248784'),\n",
    "        \" **Depth: \", nx.shortest_path_length(graph, source='wd:Q35120', target='wd:Q1248784'))\n",
    "# AstronomicalObject, Q6999\n",
    "print(\"-AstronomicalObject-\", \"IncludeCls:\", graph.has_node('wd:Q6999'),\n",
    "        \" **Depth: \", nx.shortest_path_length(graph, source='wd:Q35120', target='wd:Q6999'))\n",
    "# Product, Q2424752\n",
    "print(\"-Product-\", \"IncludeCls:\", graph.has_node('wd:Q2424752'),\n",
    "        \" **Depth: \", nx.shortest_path_length(graph, source='wd:Q35120', target='wd:Q2424752'))\n",
    "# Taxon, Q16521\n",
    "print(\"-Taxon-\", \"IncludeCls:\", graph.has_node('wd:Q16521'))\n",
    "# Award, Q618779\n",
    "print(\"-Award-\", \"IncludeCls:\", graph.has_node('wd:Q618779'),\n",
    "        \" **Depth: \", nx.shortest_path_length(graph, source='wd:Q35120', target='wd:Q618779'))\n",
    "# belief system (Q5390013)\n",
    "print(\"-belief system-\", \"IncludeCls:\", graph.has_node('wd:Q5390013'),\n",
    "        \" **Depth: \", nx.shortest_path_length(graph, source='wd:Q35120', target='wd:Q5390013'))\n",
    "# Language, Q34770\n",
    "print(\"-Language-\", \"IncludeCls:\", graph.has_node('wd:Q34770'),\n",
    "        \" **Depth: \", nx.shortest_path_length(graph, source='wd:Q35120', target='wd:Q34770'))\n",
    "# Gender, Q48264\n",
    "print('-Gender-', \"IncludeCls:\", graph.has_node('wd:Q48264'))\n",
    "# FictionalEntity, Q14897293, Q115537581, Q64728693, Q18706315, Q21070598\n",
    "print(\"-FictionalEntity-\", \"IncludeCls:\", graph.has_node('wd:Q14897293'),\n",
    "        \" **Depth: \", nx.shortest_path_length(graph, source='wd:Q35120', target='wd:Q14897293'))\n",
    "print(\"-FictionalEntity-\", \"IncludeCls:\", graph.has_node('wd:Q64728693'),\n",
    "        \" **Depth: \", nx.shortest_path_length(graph, source='wd:Q35120', target='wd:Q64728693'))\n",
    "print(\"-FictionalEntity-\", \"IncludeCls:\", graph.has_node('wd:Q18706315'),\n",
    "        \" **Depth: \", nx.shortest_path_length(graph, source='wd:Q35120', target='wd:Q18706315'))\n",
    "print(\"-FictionalEntity-\", \"IncludeCls:\", graph.has_node('wd:Q21070598'),\n",
    "        \" **Depth: \", nx.shortest_path_length(graph, source='wd:Q35120', target='wd:Q21070598'))"
   ]
  },
  {
   "cell_type": "markdown",
   "metadata": {},
   "source": [
    "* statistics"
   ]
  },
  {
   "cell_type": "code",
   "execution_count": 19,
   "metadata": {},
   "outputs": [],
   "source": [
    "# load original Wikidata taxonomy\n",
    "from collections import defaultdict\n",
    "PATH = './data/wikidata/'\n",
    "\n",
    "oriWikiTaxonDown = defaultdict(set)\n",
    "with open(PATH+'wiki_taxonomy.tsv', 'r') as ori:\n",
    "    for line in ori:\n",
    "        triple = line.strip().split('\\t')\n",
    "        if len(triple) > 3:\n",
    "            oriWikiTaxonDown[triple[2]].add(triple[0])\n",
    "oriWiki = nx.DiGraph(oriWikiTaxonDown)"
   ]
  },
  {
   "cell_type": "code",
   "execution_count": 9,
   "metadata": {},
   "outputs": [
    {
     "data": {
      "text/plain": [
       "19622"
      ]
     },
     "execution_count": 9,
     "metadata": {},
     "output_type": "execute_result"
    }
   ],
   "source": [
    "graph.number_of_edges()"
   ]
  },
  {
   "cell_type": "code",
   "execution_count": 10,
   "metadata": {},
   "outputs": [
    {
     "data": {
      "text/plain": [
       "16581"
      ]
     },
     "execution_count": 10,
     "metadata": {},
     "output_type": "execute_result"
    }
   ],
   "source": [
    "graph.number_of_nodes()"
   ]
  },
  {
   "cell_type": "code",
   "execution_count": 11,
   "metadata": {},
   "outputs": [
    {
     "data": {
      "text/plain": [
       "16"
      ]
     },
     "execution_count": 11,
     "metadata": {},
     "output_type": "execute_result"
    }
   ],
   "source": [
    "# top level classes\n",
    "root = 'wd:Q35120'\n",
    "graph.out_degree(root)"
   ]
  },
  {
   "cell_type": "code",
   "execution_count": 12,
   "metadata": {},
   "outputs": [
    {
     "data": {
      "text/plain": [
       "13"
      ]
     },
     "execution_count": 12,
     "metadata": {},
     "output_type": "execute_result"
    }
   ],
   "source": [
    "# depth\n",
    "max(nx.shortest_path_length(graph, source=root).values())"
   ]
  },
  {
   "cell_type": "code",
   "execution_count": 13,
   "metadata": {},
   "outputs": [
    {
     "data": {
      "text/plain": [
       "True"
      ]
     },
     "execution_count": 13,
     "metadata": {},
     "output_type": "execute_result"
    }
   ],
   "source": [
    "# directed acyclic graph\n",
    "nx.is_directed_acyclic_graph(graph)"
   ]
  },
  {
   "cell_type": "code",
   "execution_count": 15,
   "metadata": {},
   "outputs": [
    {
     "data": {
      "text/plain": [
       "0"
      ]
     },
     "execution_count": 15,
     "metadata": {},
     "output_type": "execute_result"
    }
   ],
   "source": [
    "# transitive links\n",
    "graph.number_of_edges() - nx.transitive_reduction(graph).number_of_edges()"
   ]
  },
  {
   "cell_type": "code",
   "execution_count": 20,
   "metadata": {},
   "outputs": [],
   "source": [
    "wikc = graph.copy()"
   ]
  },
  {
   "cell_type": "code",
   "execution_count": 22,
   "metadata": {},
   "outputs": [
    {
     "name": "stdout",
     "output_type": "stream",
     "text": [
      "Reload Number of edges deleted:  10698\n"
     ]
    },
    {
     "name": "stderr",
     "output_type": "stream",
     "text": [
      "100%|██████████| 7204533/7204533 [05:52<00:00, 20414.99it/s] \n",
      "100%|██████████| 7204533/7204533 [00:07<00:00, 1018801.25it/s]\n",
      "100%|██████████| 7204533/7204533 [00:25<00:00, 287477.98it/s] \n"
     ]
    }
   ],
   "source": [
    "# average number of path to root\n",
    "from tqdm import tqdm\n",
    "import os\n",
    "from collections import defaultdict\n",
    "def count_paths_to_root(digraph, root, nodes_list):\n",
    "    path_counts = {}\n",
    "    for node in tqdm(nodes_list):\n",
    "        if node == root:\n",
    "            path_counts[node] = 0  # Only one path from root to itself\n",
    "        else:\n",
    "            paths = list(nx.all_simple_paths(digraph, node, root))\n",
    "            path_counts[node] = len(paths)\n",
    "    return path_counts\n",
    "\n",
    "# useful functions\n",
    "def get_ancestors(ori_graph, ancestors, cls, cur_graph, depth):\n",
    "    for sp in ori_graph.predecessors(cls):\n",
    "        # path should not include irrelevant edges\n",
    "        if tuple([sp, cls]) in edges_del:\n",
    "            continue\n",
    "        if cur_graph.has_node(sp):\n",
    "            ancestors.add(tuple([sp, depth]))\n",
    "            continue\n",
    "        get_ancestors(ori_graph, ancestors, sp, cur_graph, depth+1)\n",
    "\n",
    "def get_valid_first_ancestors(ori_graph, cls, cur_graph):\n",
    "    ancestors = set()\n",
    "    get_ancestors(ori_graph, ancestors, cls, cur_graph, depth=0)\n",
    "    return ancestors\n",
    "\n",
    "\n",
    "# check if file Wiki_ET.txt\n",
    "if not os.path.exists(PATH+\"Wiki_ET.txt\"):\n",
    "    raise FileNotFoundError(\"Please first run postprocess.py in data_mining_scripts folder\")\n",
    "\n",
    "mapped_wiki_ents_en = set()\n",
    "with open(os.path.join('./data/wikipedia', 'enwiki'), 'r') as file:\n",
    "    for line in file:\n",
    "        qid = line.strip().split(',')[1]\n",
    "        prefix_qid = 'wd:'+str(qid)\n",
    "        mapped_wiki_ents_en.add(prefix_qid)\n",
    "\n",
    "# reload edges deleted\n",
    "if not os.path.exists('./data/evaluation/edges_del.tsv'):\n",
    "    raise FileNotFoundError(\"Please first run clean.ipynb to get the edges_del.tsv file\")\n",
    "edges_del = set()\n",
    "with open('./data/evaluation/edges_del.tsv', 'r') as file:\n",
    "    for line in file:\n",
    "        parent, child = line.strip().split('\\t')\n",
    "        edges_del.add(tuple([parent, child]))\n",
    "print(\"Reload Number of edges deleted: \", len(edges_del))\n",
    "\n",
    "# retype\n",
    "inst2type = defaultdict(set)\n",
    "with open(PATH+'Wiki_ET.txt', 'r') as file:\n",
    "    for line in file:\n",
    "        inst, rel, cls = line.strip().split('\\t')\n",
    "        if inst not in mapped_wiki_ents_en:\n",
    "            continue\n",
    "        # instance has a Wikipedia page\n",
    "        if wikc.has_node(cls):\n",
    "            inst2type[inst].add(cls)\n",
    "            continue\n",
    "        # No direct class exists anymore\n",
    "        fir_ancestors = list(get_valid_first_ancestors(oriWiki, cls, wikc))\n",
    "        sorted_ances = sorted(fir_ancestors, key=lambda x: x[1])\n",
    "        # only keep ancestors with the minimum depth\n",
    "        min_depth = 1e9\n",
    "        for tupl in sorted_ances:\n",
    "            ances, depth = tupl\n",
    "            if depth <= min_depth:\n",
    "                min_depth = depth\n",
    "                inst2type[inst].add(ances)\n",
    "            else:\n",
    "                break\n",
    "\n",
    "\n",
    "from tqdm import tqdm\n",
    "from itertools import permutations\n",
    "# remove transtive types for each instance\n",
    "for inst in tqdm(inst2type.keys()):\n",
    "    if len(inst2type[inst]) == 1:\n",
    "        continue\n",
    "    valcls = inst2type[inst].copy()\n",
    "    for (node1,node2) in permutations(list(inst2type[inst]), 2):\n",
    "        if node1 not in valcls or node2 not in valcls:\n",
    "            continue\n",
    "        if node1 == 'wd:Q35120':\n",
    "            # it's pointless to retype to root class\n",
    "            valcls.remove(node1)\n",
    "            continue\n",
    "        if nx.has_path(oriWiki, node1, node2):\n",
    "            # oriWiki -> some insts retype to top level classes being wrong\n",
    "            valcls.remove(node1)\n",
    "    inst2type[inst] = valcls.copy() # set\n",
    "\n",
    "\n",
    "# filtering out instances typed to class of top3lavel classes\n",
    "root = 'wd:Q35120'\n",
    "top3_cls = set(nx.single_source_shortest_path_length(wikc, source=root, cutoff=3).keys())\n",
    "for inst in tqdm(inst2type.keys()):\n",
    "    del_set = inst2type[inst].intersection(top3_cls)\n",
    "    if len(del_set) > 0:\n",
    "        for cls in del_set:\n",
    "            inst2type[inst].remove(cls)\n",
    "\n",
    "# check if empty set exists\n",
    "inst2cls = {}\n",
    "for inst in tqdm(inst2type.keys()):\n",
    "    if len(inst2type[inst]) > 0:\n",
    "        inst2cls[inst] = inst2type[inst].copy()\n",
    "# delete inst2type\n",
    "del inst2type"
   ]
  },
  {
   "cell_type": "code",
   "execution_count": 24,
   "metadata": {},
   "outputs": [
    {
     "name": "stderr",
     "output_type": "stream",
     "text": [
      "100%|██████████| 5019581/5019581 [00:03<00:00, 1259755.95it/s]\n",
      "100%|██████████| 13613/13613 [00:00<00:00, 35830.24it/s]"
     ]
    },
    {
     "name": "stdout",
     "output_type": "stream",
     "text": [
      "Average number of paths to the root wd:Q35120: 2.85\n"
     ]
    },
    {
     "name": "stderr",
     "output_type": "stream",
     "text": [
      "\n"
     ]
    }
   ],
   "source": [
    "# average number of path to root\n",
    "cls_stats = defaultdict(int)\n",
    "for inst in tqdm(inst2cls.keys()):\n",
    "    for cls in inst2cls[inst]:\n",
    "        cls_stats[cls] += 1\n",
    "\n",
    "cls_list = list(cls_stats.keys())\n",
    "path_counts = count_paths_to_root(wikc.reverse(), root, cls_list)\n",
    "\n",
    "total_inst_path_count = 0\n",
    "for cls, count in path_counts.items():\n",
    "    total_inst_path_count += count * cls_stats[cls]\n",
    "\n",
    "average_paths = total_inst_path_count / sum(cls_stats.values())\n",
    "print(f\"Average number of paths to the root {root}: {average_paths:.2f}\")"
   ]
  },
  {
   "cell_type": "code",
   "execution_count": null,
   "metadata": {},
   "outputs": [],
   "source": []
  }
 ],
 "metadata": {
  "kernelspec": {
   "display_name": "llm",
   "language": "python",
   "name": "python3"
  },
  "language_info": {
   "codemirror_mode": {
    "name": "ipython",
    "version": 3
   },
   "file_extension": ".py",
   "mimetype": "text/x-python",
   "name": "python",
   "nbconvert_exporter": "python",
   "pygments_lexer": "ipython3",
   "version": "3.9.19"
  }
 },
 "nbformat": 4,
 "nbformat_minor": 2
}
